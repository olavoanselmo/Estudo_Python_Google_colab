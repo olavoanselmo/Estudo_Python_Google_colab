{
  "cells": [
    {
      "cell_type": "markdown",
      "metadata": {
        "id": "view-in-github",
        "colab_type": "text"
      },
      "source": [
        "<a href=\"https://colab.research.google.com/github/olavoanselmo/Estudo_Python_Google_colab/blob/main/Estudo_Python.ipynb\" target=\"_parent\"><img src=\"https://colab.research.google.com/assets/colab-badge.svg\" alt=\"Open In Colab\"/></a>"
      ]
    },
    {
      "cell_type": "markdown",
      "metadata": {
        "id": "GlM8Yna9a_YK"
      },
      "source": [
        "#CURSO DE PYTHON DEV APRENDER."
      ]
    },
    {
      "cell_type": "markdown",
      "source": [
        "####Exercício\n",
        "- Faça um programa que informe a versão do Python que você está usando."
      ],
      "metadata": {
        "id": "s4gSfOVbfXcM"
      }
    },
    {
      "cell_type": "code",
      "source": [
        "import sys\n",
        "print (\"versão do Python\")\n",
        "print(sys.version)\n",
        "print(\"Informação da versão instalada\")\n",
        "print(sys.version_info)"
      ],
      "metadata": {
        "colab": {
          "base_uri": "https://localhost:8080/"
        },
        "id": "_zd0cXCAfiio",
        "outputId": "fc3190a4-4e76-4673-ce28-e3788bdeb784"
      },
      "execution_count": null,
      "outputs": [
        {
          "output_type": "stream",
          "name": "stdout",
          "text": [
            "versão do Python\n",
            "3.10.12 (main, Jun 11 2023, 05:26:28) [GCC 11.4.0]\n",
            "Informação da versão instalada\n",
            "sys.version_info(major=3, minor=10, micro=12, releaselevel='final', serial=0)\n"
          ]
        }
      ]
    },
    {
      "cell_type": "markdown",
      "metadata": {
        "id": "tM6UobrVHS7B"
      },
      "source": [
        "##Creating a Comment\n",
        "Comments starts with a #, and Python will ignore them:"
      ]
    },
    {
      "cell_type": "code",
      "execution_count": null,
      "metadata": {
        "colab": {
          "base_uri": "https://localhost:8080/"
        },
        "id": "goJgUNcoHB0B",
        "outputId": "58703227-3aa7-43e2-9089-ccda9b52200f"
      },
      "outputs": [
        {
          "name": "stdout",
          "output_type": "stream",
          "text": [
            "Hello, world!\n"
          ]
        }
      ],
      "source": [
        "#Creating a Comment\n",
        "print(\"Hello, world!\")"
      ]
    },
    {
      "cell_type": "code",
      "source": [
        "\"\"\"COMENTÁRIO\n",
        "QUE NÃO APARECERÁ\"\"\"\n",
        "\n",
        "print('hello')\n"
      ],
      "metadata": {
        "colab": {
          "base_uri": "https://localhost:8080/"
        },
        "id": "Nk3Vh-YZBQm6",
        "outputId": "2e8b3931-0bcd-47ba-9a54-5199c5260ae2"
      },
      "execution_count": 1,
      "outputs": [
        {
          "output_type": "stream",
          "name": "stdout",
          "text": [
            "hello\n"
          ]
        }
      ]
    },
    {
      "cell_type": "markdown",
      "metadata": {
        "id": "Pw0SXFMHbJa9"
      },
      "source": [
        "##VARIÁVEIS (Atribuição de variáveis)\n",
        "estamos alocando dados na memória"
      ]
    },
    {
      "cell_type": "code",
      "execution_count": null,
      "metadata": {
        "colab": {
          "base_uri": "https://localhost:8080/"
        },
        "id": "pD9XpnToET0Y",
        "outputId": "295f6c63-652e-440e-e646-36aa07371464"
      },
      "outputs": [
        {
          "name": "stdout",
          "output_type": "stream",
          "text": [
            "10\n"
          ]
        }
      ],
      "source": [
        "velocidade_internet = 10\n",
        "print(velocidade_internet)"
      ]
    },
    {
      "cell_type": "code",
      "source": [
        "nome = \"Ricardo\"\n",
        "sobrenome = \"Sanches\"\n",
        "print(nome)\n",
        "print(sobrenome)\n",
        "print('- - - - - ')\n",
        "print('O nome completo é: ',nome,sobrenome)"
      ],
      "metadata": {
        "colab": {
          "base_uri": "https://localhost:8080/"
        },
        "id": "cbxcO6unmieP",
        "outputId": "8093f01a-6ba3-4a6f-8586-410e0dbb9da2"
      },
      "execution_count": null,
      "outputs": [
        {
          "output_type": "stream",
          "name": "stdout",
          "text": [
            "Ricardo\n",
            "Sanches\n",
            "- - - - - \n",
            "O nome completo é:  Ricardo Sanches\n"
          ]
        }
      ]
    },
    {
      "cell_type": "code",
      "source": [
        "produto = \"Caixa d'agua\" # precisa usar aspas duplas pelo fato da palavra possuir aspas simples.\n",
        "print ('O produto é :',produto)"
      ],
      "metadata": {
        "colab": {
          "base_uri": "https://localhost:8080/"
        },
        "id": "HshrPC9EoEy7",
        "outputId": "63bd21e2-ec58-4980-b198-ec212951917d"
      },
      "execution_count": null,
      "outputs": [
        {
          "output_type": "stream",
          "name": "stdout",
          "text": [
            "O produto é:  Caixa d'agua\n"
          ]
        }
      ]
    },
    {
      "cell_type": "code",
      "source": [
        "citacao = '\"Vamos que vamos\"'\n",
        "print (citacao)"
      ],
      "metadata": {
        "colab": {
          "base_uri": "https://localhost:8080/"
        },
        "id": "eX7CnbgBpZOz",
        "outputId": "6bf05cbd-942a-49cb-cf52-4fe949e24d6a"
      },
      "execution_count": null,
      "outputs": [
        {
          "output_type": "stream",
          "name": "stdout",
          "text": [
            "\"Vamos que vamos\"\n"
          ]
        }
      ]
    },
    {
      "cell_type": "markdown",
      "metadata": {
        "id": "43WsbZE5FkcU"
      },
      "source": [
        "###Tipos de variáveis"
      ]
    },
    {
      "cell_type": "code",
      "execution_count": null,
      "metadata": {
        "colab": {
          "base_uri": "https://localhost:8080/"
        },
        "id": "NEi3-pfOGDso",
        "outputId": "bfa4b4af-7621-43e6-9c2b-d189e3fe46ae"
      },
      "outputs": [
        {
          "output_type": "stream",
          "name": "stdout",
          "text": [
            "<class 'int'>\n",
            "<class 'str'>\n",
            "<class 'tuple'>\n",
            "<class 'float'>\n",
            "João de DeusJoão de DeusJoão de Deus\n",
            "João de Deus João de Deus João de Deus \n"
          ]
        }
      ],
      "source": [
        "# Inteiro (int):\n",
        "idade = 27\n",
        "nome = 'João de Deus'\n",
        "altura = 1,78 # virgual separando número é tupla\n",
        "altura2 = 1.90\n",
        "print(type(idade))\n",
        "print(type(nome))\n",
        "print(type(altura))\n",
        "print(type(altura2))\n",
        "print(nome*3)\n",
        "print((nome+' ')*3)"
      ]
    },
    {
      "cell_type": "code",
      "source": [
        "nome = 'João'\n",
        "sobrenome = 'Gomes'\n",
        "n_completo = nome + ' '+ sobrenome # Guardando o resultado de 2 variáveis em uma 3ª variável\n",
        "print(n_completo)"
      ],
      "metadata": {
        "colab": {
          "base_uri": "https://localhost:8080/"
        },
        "id": "-DPw5DilOOXf",
        "outputId": "1a4fe536-e003-432b-f256-f023fcfa33e7"
      },
      "execution_count": null,
      "outputs": [
        {
          "output_type": "stream",
          "name": "stdout",
          "text": [
            "João Gomes\n"
          ]
        }
      ]
    },
    {
      "cell_type": "code",
      "source": [
        " nome2,sobrenome = 'Mauricio','Cardoso'\n",
        " print(nome2+' '+sobrenome)"
      ],
      "metadata": {
        "colab": {
          "base_uri": "https://localhost:8080/"
        },
        "id": "TyuzwmkxphkR",
        "outputId": "80b35c14-cacc-42f5-fec5-fe922f315ebe"
      },
      "execution_count": null,
      "outputs": [
        {
          "output_type": "stream",
          "name": "stdout",
          "text": [
            "Mauricio Cardoso\n"
          ]
        }
      ]
    },
    {
      "cell_type": "markdown",
      "metadata": {
        "id": "5Wn_qn-PIC9r"
      },
      "source": [
        "###Conversão entre tipos\n",
        "basicamente é colocar o tipo antes da variável que se deseja converter.\n",
        "\n",
        "O erro que aparecerá será \"TypeError\""
      ]
    },
    {
      "cell_type": "code",
      "execution_count": null,
      "metadata": {
        "colab": {
          "base_uri": "https://localhost:8080/"
        },
        "id": "nI3bU5piIKeY",
        "outputId": "18e48202-ac10-4232-e36c-5ba71d14bef3"
      },
      "outputs": [
        {
          "output_type": "stream",
          "name": "stdout",
          "text": [
            "Qual a altura da parede ? 3.5\n",
            "True\n"
          ]
        }
      ],
      "source": [
        "#idade = input('Digite a sua idade ')\n",
        "#print(int(idade)>17)\n",
        "\n",
        "#ano_publicacao = 2020\n",
        "#print('Este livro foi criado em ' + str(ano_publicacao))\n",
        "\n",
        "altura = input('Qual a altura da parede ? ')\n",
        "print(float(altura)>2.5)\n",
        "\n"
      ]
    },
    {
      "cell_type": "markdown",
      "source": [
        "###Conversão entre coleções"
      ],
      "metadata": {
        "id": "vQaSfVbsowqN"
      }
    },
    {
      "cell_type": "code",
      "source": [
        "#Conversão entre coleções\n",
        "saudacao = 'Hello!'\n",
        "print(list(saudacao)) #convertendo para lista\n",
        "print(set(saudacao))#convertendo para um dicionário\n",
        "print(tuple(saudacao))#convertendo para uma tupla\n",
        "print('- - - -  ')\n",
        "\n",
        "#Crie uma sequência de 0 a 5 em forma de lista.\n",
        "print(list(range(5)))\n",
        "print('- - - -  ')\n",
        "\n",
        "#Crie uma sequência de 0 a 5 em forma de lista.\n",
        "print(list(range(2, 6)))\n",
        "\n"
      ],
      "metadata": {
        "colab": {
          "base_uri": "https://localhost:8080/"
        },
        "id": "MPdTVOpGpCtJ",
        "outputId": "d0775c4a-e278-42ea-d17a-05454e52b807"
      },
      "execution_count": null,
      "outputs": [
        {
          "output_type": "stream",
          "name": "stdout",
          "text": [
            "['H', 'e', 'l', 'l', 'o', '!']\n",
            "{'!', 'o', 'H', 'e', 'l'}\n",
            "('H', 'e', 'l', 'l', 'o', '!')\n",
            "- - - -  \n",
            "[0, 1, 2, 3, 4]\n",
            "- - - -  \n",
            "[2, 3, 4, 5]\n"
          ]
        }
      ]
    },
    {
      "cell_type": "markdown",
      "source": [
        "# Nova seção"
      ],
      "metadata": {
        "id": "LVq4BY2VJ3ie"
      }
    },
    {
      "cell_type": "code",
      "source": [
        "numeros = [10,20,20,50]\n",
        "print(set(numeros))\n",
        "print(tuple(numeros))\n",
        "print(type(numeros))#descobrir o tipo da função"
      ],
      "metadata": {
        "colab": {
          "base_uri": "https://localhost:8080/"
        },
        "id": "vU9MrmYzqhDX",
        "outputId": "40b7a3fb-eb6f-4cb1-ed7e-880b4be80ff8"
      },
      "execution_count": null,
      "outputs": [
        {
          "output_type": "stream",
          "name": "stdout",
          "text": [
            "{10, 20, 50}\n",
            "(10, 20, 20, 50)\n",
            "<class 'list'>\n"
          ]
        }
      ]
    },
    {
      "cell_type": "markdown",
      "source": [
        "##String"
      ],
      "metadata": {
        "id": "r46OahGci5mc"
      }
    },
    {
      "cell_type": "code",
      "source": [
        "print ('hashtag')\n",
        "print ('hashtag'.center(20))\n",
        "print ('hashtag'.ljust(20))\n",
        "print ('hashtag'.rjust(20))\n",
        "print (' hashtag '.center(20,'$'))"
      ],
      "metadata": {
        "colab": {
          "base_uri": "https://localhost:8080/"
        },
        "id": "vHtSALcDi-CC",
        "outputId": "e55d97b9-b6d5-4f8a-ccfb-0efdf77740ca"
      },
      "execution_count": null,
      "outputs": [
        {
          "output_type": "stream",
          "name": "stdout",
          "text": [
            "hashtag\n",
            "      hashtag       \n",
            "hashtag             \n",
            "             hashtag\n",
            "$$$$$ hashtag $$$$$$\n"
          ]
        }
      ]
    },
    {
      "cell_type": "markdown",
      "metadata": {
        "id": "69YJGq7R4sIw"
      },
      "source": [
        "###String Dinâmico\n",
        "f string é um string formatado(mensagem personalizada)"
      ]
    },
    {
      "cell_type": "code",
      "execution_count": null,
      "metadata": {
        "colab": {
          "base_uri": "https://localhost:8080/"
        },
        "id": "5RGzcsp94xX6",
        "outputId": "d4dccfb8-b909-45e6-9607-2611e9ca6312"
      },
      "outputs": [
        {
          "name": "stdout",
          "output_type": "stream",
          "text": [
            "Olá Rafael, você cadastrou o email Rafael@gmail.com, essa informação está correta?\"\n"
          ]
        }
      ],
      "source": [
        "nome = \"Rafael\"\n",
        "email=\"Rafael@gmail.com\"\n",
        "print(f'Olá {nome}, você cadastrou o email {email}, essa informação está correta?\"')"
      ]
    },
    {
      "cell_type": "code",
      "execution_count": null,
      "metadata": {
        "colab": {
          "base_uri": "https://localhost:8080/"
        },
        "id": "rQLJrkNunYUZ",
        "outputId": "b893933e-061c-4ca2-a6cb-f04298d5f308"
      },
      "outputs": [
        {
          "output_type": "stream",
          "name": "stdout",
          "text": [
            "Digite seu nome:Olavo\n",
            "Digite seu e-mail:kfjsdkf\n",
            "Olá Olavo, você cadastrou o email kfjsdkf, essa informação está correta?\n"
          ]
        }
      ],
      "source": [
        "nome = input('Digite seu nome:')#em regra a resposta do input é sempre uma string\n",
        "email = input('Digite seu e-mail:')\n",
        "print(f'Olá {nome}, você cadastrou o email {email}, essa informação está correta?')"
      ]
    },
    {
      "cell_type": "markdown",
      "metadata": {
        "id": "DCD-cSMl6VpD"
      },
      "source": [
        "###Métodos comuns de um string"
      ]
    },
    {
      "cell_type": "code",
      "execution_count": null,
      "metadata": {
        "colab": {
          "base_uri": "https://localhost:8080/"
        },
        "id": "DX-1KgSh6mep",
        "outputId": "8b8d93c9-35a6-4cde-adb7-6ef815d8d57b"
      },
      "outputs": [
        {
          "name": "stdout",
          "output_type": "stream",
          "text": [
            "EDIÇÃO DE VIDEO\n"
          ]
        }
      ],
      "source": [
        "#Colocar uma String toda em maiúscula. - upper\n",
        "nome_curso = 'Edição de video'\n",
        "print(nome_curso.upper())\n"
      ]
    },
    {
      "cell_type": "code",
      "execution_count": null,
      "metadata": {
        "colab": {
          "base_uri": "https://localhost:8080/"
        },
        "id": "N6_mZckX-WbY",
        "outputId": "04320fba-d27c-4104-d550-59191139257e"
      },
      "outputs": [
        {
          "name": "stdout",
          "output_type": "stream",
          "text": [
            "edição de video\n"
          ]
        }
      ],
      "source": [
        "#Colocar uma String toda em minúscula.\n",
        "nome_curso = 'Edição DE Video'\n",
        "print(nome_curso.lower())"
      ]
    },
    {
      "cell_type": "code",
      "execution_count": null,
      "metadata": {
        "colab": {
          "base_uri": "https://localhost:8080/"
        },
        "id": "1ihfVsLSID9n",
        "outputId": "f8675fb9-9a4a-4d5c-821a-090e222bccf5"
      },
      "outputs": [
        {
          "name": "stdout",
          "output_type": "stream",
          "text": [
            "Edição DE Video\n"
          ]
        }
      ],
      "source": [
        "#Removendo espaços em branco da esquerda (left) e direito(right) uma string\n",
        "nome_curso = '  Edição DE Video'\n",
        "print(nome_curso.strip())"
      ]
    },
    {
      "cell_type": "code",
      "execution_count": null,
      "metadata": {
        "colab": {
          "base_uri": "https://localhost:8080/"
        },
        "id": "2lIkuKxCIpXl",
        "outputId": "acee4302-63bb-45bd-94cc-ac0eb6911bfb"
      },
      "outputs": [
        {
          "name": "stdout",
          "output_type": "stream",
          "text": [
            "Edição DE Video\n"
          ]
        }
      ],
      "source": [
        "#removendo espaços à esquerda da string\n",
        "nome_curso = \"        Edição DE Video\"\n",
        "print(nome_curso.lstrip())"
      ]
    },
    {
      "cell_type": "code",
      "execution_count": null,
      "metadata": {
        "colab": {
          "base_uri": "https://localhost:8080/"
        },
        "id": "lrv7soMIJLgC",
        "outputId": "9d9252d6-32f7-4111-ded7-6cc6366e406c"
      },
      "outputs": [
        {
          "name": "stdout",
          "output_type": "stream",
          "text": [
            "Edição DE Video\n"
          ]
        }
      ],
      "source": [
        "#removendo espaços à direita da string\n",
        "nome_curso = \"Edição DE Video       \"\n",
        "print(nome_curso.rstrip())"
      ]
    },
    {
      "cell_type": "code",
      "execution_count": null,
      "metadata": {
        "colab": {
          "base_uri": "https://localhost:8080/"
        },
        "id": "WMFUnT4kJ3j3",
        "outputId": "b87c09cf-8f3f-47fb-c30c-6daf4919155b"
      },
      "outputs": [
        {
          "name": "stdout",
          "output_type": "stream",
          "text": [
            "3\n"
          ]
        }
      ],
      "source": [
        "#encontrando expressão dentro da string atrvés de indice da primeira letra.\n",
        "nome_curso = \"Edição DE Video\"\n",
        "print(nome_curso.find('ção'))"
      ]
    },
    {
      "cell_type": "code",
      "execution_count": null,
      "metadata": {
        "colab": {
          "base_uri": "https://localhost:8080/"
        },
        "id": "05HLNIsZKtFj",
        "outputId": "b49287f0-56a7-4469-e3d7-6e1473c4a008"
      },
      "outputs": [
        {
          "name": "stdout",
          "output_type": "stream",
          "text": [
            "Edição DE Video \n",
            "Edição DE MUSICAS \n"
          ]
        }
      ],
      "source": [
        "#substituindo palavras dentro da string\n",
        "nome_curso = \"Edição DE Video \"\n",
        "print(nome_curso.replace('video','MUSICAS'))#a ´palavra buscada precisa ser igual\n",
        "print(nome_curso.replace('Video','MUSICAS'))"
      ]
    },
    {
      "cell_type": "code",
      "execution_count": null,
      "metadata": {
        "colab": {
          "base_uri": "https://localhost:8080/"
        },
        "id": "hwbLIww-OB_K",
        "outputId": "8f4ec2f1-a626-4f9a-c69d-dcee99a17732"
      },
      "outputs": [
        {
          "name": "stdout",
          "output_type": "stream",
          "text": [
            "https://sc.olx.com.br/relogio\n",
            "https://sc.olx.com.br/carro\n"
          ]
        }
      ],
      "source": [
        "#substituindo palavras dentro de um link de navegação(mudança de categoria)\n",
        "print('https://sc.olx.com.br/relogio')\n",
        "print('https://sc.olx.com.br/relogio'.replace('relogio','carro'))\n"
      ]
    },
    {
      "cell_type": "markdown",
      "metadata": {
        "id": "g8MaTsH1TO1D"
      },
      "source": [
        "###Slice (extraindo partes de um string)"
      ]
    },
    {
      "cell_type": "code",
      "execution_count": null,
      "metadata": {
        "colab": {
          "base_uri": "https://localhost:8080/"
        },
        "id": "ad5EvZ6mTft0",
        "outputId": "57227a21-1814-4a52-84ea-cee348831b7a"
      },
      "outputs": [
        {
          "name": "stdout",
          "output_type": "stream",
          "text": [
            "T\n",
            "E\n",
            "C\n",
            "L\n",
            "A\n",
            "D\n",
            "O\n"
          ]
        }
      ],
      "source": [
        "#acessando um indice dentro da string\n",
        "teclado = \"TECLADO\"\n",
        "print(teclado[0])#indice zero\n",
        "print(teclado[1])#indice 1\n",
        "print(teclado[2])\n",
        "print(teclado[3])\n",
        "print(teclado[4])\n",
        "print(teclado[5])\n",
        "print(teclado[6])"
      ]
    },
    {
      "cell_type": "code",
      "execution_count": null,
      "metadata": {
        "colab": {
          "base_uri": "https://localhost:8080/"
        },
        "id": "aAh-CBJ9wnna",
        "outputId": "b8e34c5c-1332-41fd-9bb9-f6f786d4b580"
      },
      "outputs": [
        {
          "name": "stdout",
          "output_type": "stream",
          "text": [
            "facebo\n",
            "ook\n",
            "deva\n",
            "facebook.com/devaprender\n",
            "ender\n",
            "facebook.com/devapr\n"
          ]
        }
      ],
      "source": [
        "#acessando partes de uma string\n",
        "link = \"facebook.com/devaprender\"\n",
        "print(link[0:6])\n",
        "print(link[5:8])\n",
        "print(link[13:17])\n",
        "print(link[0:])#não especificou até onde deve ir, então vai até o final.\n",
        "print(link[-5:])#começa pelo fim (-1) e vai até -5\n",
        "print(link[:-5])#não especifica o início, então começa com indice zero."
      ]
    },
    {
      "cell_type": "code",
      "source": [],
      "metadata": {
        "id": "QQK5eEI0E3OE"
      },
      "execution_count": null,
      "outputs": []
    },
    {
      "cell_type": "markdown",
      "metadata": {
        "id": "mfLEyMw3wdBa"
      },
      "source": [
        "### Index - indice de uma string"
      ]
    },
    {
      "cell_type": "code",
      "source": [
        "#Encontrando a posição em uma tupla.\n",
        "tupla1 = ('Corinthians', 'Botafogo','Flamengo','São Paulo','Nautico')\n",
        "print(f'Qual a posição do Flamengo na competição : {tupla1.index(\"Flamengo\")+1}ª posição')\n",
        "\n",
        "#print(f'O time do Fortaleza está na {times.index(\"Fortaleza-CE\")} posição.')#considera a posição zero\n",
        "#print(f'O time do Fortaleza está na {times.index(\"Fortaleza-CE\")+1}ª posição.')"
      ],
      "metadata": {
        "colab": {
          "base_uri": "https://localhost:8080/"
        },
        "id": "GzTtuwCHD1yI",
        "outputId": "501610b7-d3cb-43f5-c1d6-fb8c5b2b0908"
      },
      "execution_count": null,
      "outputs": [
        {
          "output_type": "stream",
          "name": "stdout",
          "text": [
            "Qual a posição do Flamengo na competição : 3ª posição\n"
          ]
        }
      ]
    },
    {
      "cell_type": "code",
      "execution_count": null,
      "metadata": {
        "colab": {
          "base_uri": "https://localhost:8080/"
        },
        "id": "9ZykUbGrv_Hx",
        "outputId": "e49e9d7a-b04d-4120-fbea-f1ec350517b3"
      },
      "outputs": [
        {
          "name": "stdout",
          "output_type": "stream",
          "text": [
            "5\n",
            "r\n"
          ]
        }
      ],
      "source": [
        "#Encontrando um indice dentro de uma string\n",
        "variavel2 = 'descoberta'\n",
        "print(variavel2.index('b'))\n",
        "print(variavel2[variavel2.index('r')])"
      ]
    },
    {
      "cell_type": "code",
      "execution_count": null,
      "metadata": {
        "colab": {
          "base_uri": "https://localhost:8080/"
        },
        "id": "VzetPJyTWeu6",
        "outputId": "639ff138-594c-461f-acf4-1916b9e00d5c"
      },
      "outputs": [
        {
          "name": "stdout",
          "output_type": "stream",
          "text": [
            "R\n"
          ]
        }
      ],
      "source": [
        "#Encontrando o último indice da string(evita a necessidade de contar)\n",
        "#último indice = -1\n",
        "teclado =\"O teclado está toddo enferrujado e sem funcionaR\"\n",
        "print(teclado[-1])"
      ]
    },
    {
      "cell_type": "code",
      "execution_count": null,
      "metadata": {
        "colab": {
          "base_uri": "https://localhost:8080/"
        },
        "id": "W_DBd-zv1pAL",
        "outputId": "82736368-f9b6-4307-b1cf-8e74c91adf70"
      },
      "outputs": [
        {
          "name": "stdout",
          "output_type": "stream",
          "text": [
            "10\n"
          ]
        }
      ],
      "source": [
        "#Encontrando a última ocorrência em uma string\n",
        "frase = 'Clean_CodeCix'\n",
        "print(frase.rindex('C'))"
      ]
    },
    {
      "cell_type": "markdown",
      "metadata": {
        "id": "k4RUFiZb2f86"
      },
      "source": [
        "###Split - dividir\n",
        "\n",
        "string.split(separator, maxsplit)\n",
        "\n",
        "**string**: corresponde ao nome da variável que servirá de base para a divisão;\n",
        "\n",
        "**separator**: indica o caractere utilizado como separador da string;\n",
        "\n",
        "**maxsplit**: representa a quantidade máxima de divisões realizadas.\n",
        "\n",
        "https://blog.betrybe.com/python/python-split/"
      ]
    },
    {
      "cell_type": "code",
      "execution_count": null,
      "metadata": {
        "colab": {
          "base_uri": "https://localhost:8080/"
        },
        "id": "iwSVSJku2k1I",
        "outputId": "c6df1fc5-2d52-49ae-ad74-244f994f7afb"
      },
      "outputs": [
        {
          "name": "stdout",
          "output_type": "stream",
          "text": [
            "['Olá,', 'bem-vindo', 'a', 'este', 'treinamento!']\n",
            "['Olá', ' bem-vindo a este treinamento!']\n",
            "['Olá, bem', 'vindo a este treinamento!']\n"
          ]
        }
      ],
      "source": [
        "#Split - permite dividir o conteúdo da variável de acordo com as\n",
        "#condições especificadas em cada parâmetro da função ou com os valores predefinidos por padrão.\n",
        "#O separador não é incluído dentro da lista final.\n",
        "\n",
        "frase = \"Olá, bem-vindo a este treinamento!\"\n",
        "print(frase.split())#dividiu por espaços encontrados\n",
        "print(frase.split(','))#dividiu por vírgulas encontradas\n",
        "print(frase.split('-'))#dividiu por traço encontrado."
      ]
    },
    {
      "cell_type": "code",
      "execution_count": null,
      "metadata": {
        "colab": {
          "base_uri": "https://localhost:8080/"
        },
        "id": "wPMIxnM4g_KJ",
        "outputId": "4e1fcd7a-e833-4c41-9efc-1c7b1b237475"
      },
      "outputs": [
        {
          "name": "stdout",
          "output_type": "stream",
          "text": [
            "['João', 'Paulo', 'Menezes da Silva']\n",
            "['João', 'Paulo', 'Menezes da Silva']\n"
          ]
        }
      ],
      "source": [
        "#Apesar de o parâmetro separator ser opcional, ele será obrigatório se quisermos\n",
        "#utilizar o parâmetro maxsplit.\n",
        "#Entretanto, podemos declará-lo como “None”, pois ele representará o valor padrão,\n",
        "#ou seja, o caractere de espaço.\n",
        "#Isso porque o método split() contém dois parâmetros e se informarmos apenas um, ele retornará um erro de execução.\n",
        "\n",
        "nome = \"João Paulo Menezes da Silva\"\n",
        "print(nome.split(None, 2))  #resultado: ['João', 'Paulo', 'Menezes da Silva']\n",
        "print(nome.split(\" \", 2))   #resultado: ['João', 'Paulo', 'Menezes da Silva']"
      ]
    },
    {
      "cell_type": "code",
      "execution_count": null,
      "metadata": {
        "colab": {
          "base_uri": "https://localhost:8080/"
        },
        "id": "RYbOevCbTKwk",
        "outputId": "ce440337-7f11-4cc9-91d7-99ed67e29e47"
      },
      "outputs": [
        {
          "name": "stdout",
          "output_type": "stream",
          "text": [
            "['Jhonatan,', 'rafael,', 'carol,', 'amanda']\n",
            "['Jhonatan', ' rafael', ' carol', ' amanda']\n"
          ]
        }
      ],
      "source": [
        "#exemplo2\n",
        "nomes = 'Jhonatan, rafael, carol, amanda,jefferson'\n",
        "print(nomes.split())#separando por espaços\n",
        "print(nomes.split(','))#separando por vírgulas"
      ]
    },
    {
      "cell_type": "code",
      "execution_count": null,
      "metadata": {
        "colab": {
          "base_uri": "https://localhost:8080/"
        },
        "id": "X5dHOuU_VAVV",
        "outputId": "bd23cdcf-9d19-48c7-90f2-7470b0abfe24"
      },
      "outputs": [
        {
          "name": "stdout",
          "output_type": "stream",
          "text": [
            "['music', '#guitar', '#gamer', '@coder', '#python', '@futebol']\n",
            "['music ', 'guitar ', 'gamer @coder ', 'python @futebol']\n",
            "['music ', 'guitar ', 'gamer @coder #python @futebol']\n"
          ]
        }
      ],
      "source": [
        "#exemplo3\n",
        "hashtags = 'music #guitar #gamer @coder #python @futebol'\n",
        "print(hashtags.split())\n",
        "print(hashtags.split('#'))\n",
        "print(hashtags.split(\"#\",2))#separador # e 2 ocorrências deve procurar."
      ]
    },
    {
      "cell_type": "markdown",
      "metadata": {
        "id": "sGxPPQM6UHIg"
      },
      "source": [
        "###Join - concatenar"
      ]
    },
    {
      "cell_type": "code",
      "execution_count": null,
      "metadata": {
        "colab": {
          "base_uri": "https://localhost:8080/"
        },
        "id": "vWbt1CjQmFJU",
        "outputId": "761f2b48-8f36-4bbd-c066-10ade4b6f8b0"
      },
      "outputs": [
        {
          "name": "stdout",
          "output_type": "stream",
          "text": [
            "['music', '#guitar', '#gamer', '#coder', '#Python']\n",
            "music,#guitar,#gamer,#coder,#Python\n",
            "music-#guitar-#gamer-#coder-#Python\n",
            "music #guitar #gamer #coder #Python\n"
          ]
        }
      ],
      "source": [
        "#como concatenar (combinar) strings\n",
        "hashtags = 'music #guitar #gamer #coder #Python'\n",
        "\n",
        "hashtags_separadas_por_espaco = hashtags.split(' ')\n",
        "\n",
        "print(hashtags_separadas_por_espaco)\n",
        "print(','.join(hashtags_separadas_por_espaco))\n",
        "print('-'.join(hashtags_separadas_por_espaco))\n",
        "print(' '.join(hashtags_separadas_por_espaco))"
      ]
    },
    {
      "cell_type": "code",
      "execution_count": null,
      "metadata": {
        "colab": {
          "base_uri": "https://localhost:8080/"
        },
        "id": "nQ8fWfDCoSq-",
        "outputId": "73934c50-e9cd-4fdf-f80d-a435646de036"
      },
      "outputs": [
        {
          "name": "stdout",
          "output_type": "stream",
          "text": [
            "John#Peter#Vicky\n"
          ]
        }
      ],
      "source": [
        "frase1 = (\"John\", \"Peter\", \"Vicky\")\n",
        "\n",
        "frase2 = \"#\".join(frase1) #inserindo # na lista frase1\n",
        "\n",
        "print(frase2)"
      ]
    },
    {
      "cell_type": "code",
      "execution_count": null,
      "metadata": {
        "id": "WvqqWAImpbs8"
      },
      "outputs": [],
      "source": [
        "#desafios"
      ]
    },
    {
      "cell_type": "markdown",
      "metadata": {
        "id": "a7hhMGRipt5a"
      },
      "source": [
        "###Input - recebendo dados do usuário."
      ]
    },
    {
      "cell_type": "code",
      "execution_count": null,
      "metadata": {
        "colab": {
          "base_uri": "https://localhost:8080/"
        },
        "id": "dkISnZD47htW",
        "outputId": "366b662f-53a5-4e61-9f79-673884fc2d85"
      },
      "outputs": [
        {
          "output_type": "stream",
          "name": "stdout",
          "text": [
            "Digite sua senha:1234\n",
            "1234\n",
            "<class 'str'>\n"
          ]
        }
      ],
      "source": [
        "#Recebendo dados do usuário\n",
        "senha = input('Digite sua senha:')#em regra a resposta do input é sempre uma string\n",
        "print(senha)\n",
        "print(type(senha))"
      ]
    },
    {
      "cell_type": "code",
      "execution_count": null,
      "metadata": {
        "colab": {
          "base_uri": "https://localhost:8080/"
        },
        "id": "JbYVrmWe7xeZ",
        "outputId": "249dc7de-bcfe-484a-a602-b901ea90dc3d"
      },
      "outputs": [
        {
          "name": "stdout",
          "output_type": "stream",
          "text": [
            "Quantos filmes assistiu este mês? 8\n",
            "<class 'int'>\n"
          ]
        }
      ],
      "source": [
        "quantidade_de_filmes = int(input('Quantos filmes assistiu este mês? '))\n",
        "print(type(quantidade_de_filmes))"
      ]
    },
    {
      "cell_type": "code",
      "execution_count": null,
      "metadata": {
        "colab": {
          "base_uri": "https://localhost:8080/"
        },
        "id": "ma3RyTtb8qr1",
        "outputId": "1cef1208-ec6b-4724-9e40-217e92f17755"
      },
      "outputs": [
        {
          "name": "stdout",
          "output_type": "stream",
          "text": [
            "Digite um número inteiro:4\n",
            "Digite outro número inteiro:5\n",
            "9\n"
          ]
        }
      ],
      "source": [
        "var1=int(input('Digite um número inteiro:'))\n",
        "var2=int(input('Digite outro número inteiro:'))\n",
        "print(var1+var2)"
      ]
    },
    {
      "cell_type": "code",
      "source": [
        "#entrada de dados [0].lower() considerando apenas a primeira letra e minúscula.\n",
        "tipo_combustivel = input(\"digite o combustível Alcool ou Gasolina: \")[0].lower()\n",
        "print(tipo_combustivel)\n"
      ],
      "metadata": {
        "colab": {
          "base_uri": "https://localhost:8080/"
        },
        "id": "Pn_ZeJrhAj8e",
        "outputId": "b2084f14-7c9a-408b-d706-a31fecd9efb6"
      },
      "execution_count": null,
      "outputs": [
        {
          "output_type": "stream",
          "name": "stdout",
          "text": [
            "digite o combustível Alcool ou Gasolina: adfgalcol\n",
            "a\n"
          ]
        }
      ]
    },
    {
      "cell_type": "markdown",
      "source": [
        "####EXERCICIO - Faça um programa em linguagem Python que converta metros para centímetros.\n"
      ],
      "metadata": {
        "id": "bouqjjdzgKwn"
      }
    },
    {
      "cell_type": "code",
      "source": [
        "print('\\t - - - - Conversão de medida - - - - - ')\n",
        "metros = int(input('Informe o valor em metros: '))\n",
        "print('O valor em centímetros é :', metros*100)"
      ],
      "metadata": {
        "colab": {
          "base_uri": "https://localhost:8080/"
        },
        "id": "IZX651CWgY6o",
        "outputId": "8d5d9c53-e014-4360-d874-95bc48e7ce1c"
      },
      "execution_count": null,
      "outputs": [
        {
          "output_type": "stream",
          "name": "stdout",
          "text": [
            "\t - - - - Conversão de medida - - - - - \n",
            "Informe o valor em metros: 150\n",
            "O valor em centímetros é : 15000\n"
          ]
        }
      ]
    },
    {
      "cell_type": "markdown",
      "metadata": {
        "id": "MGpU7B5vPDYf"
      },
      "source": [
        "###Len"
      ]
    },
    {
      "cell_type": "code",
      "execution_count": null,
      "metadata": {
        "colab": {
          "base_uri": "https://localhost:8080/"
        },
        "id": "yLuE_Ul4PNrf",
        "outputId": "7c1110ba-ddf7-4220-b787-6cc6595138df"
      },
      "outputs": [
        {
          "name": "stdout",
          "output_type": "stream",
          "text": [
            "5\n"
          ]
        }
      ],
      "source": [
        "nome = 'Carol'\n",
        "print((len(nome)))"
      ]
    },
    {
      "cell_type": "markdown",
      "metadata": {
        "id": "TeFVxgleKSAl"
      },
      "source": [
        "##Indentação"
      ]
    },
    {
      "cell_type": "code",
      "execution_count": null,
      "metadata": {
        "id": "n6MZYln4oRzf"
      },
      "outputs": [],
      "source": []
    },
    {
      "cell_type": "code",
      "execution_count": null,
      "metadata": {
        "colab": {
          "base_uri": "https://localhost:8080/"
        },
        "id": "EfMkHwuzLcvU",
        "outputId": "cfb47ed8-6b44-4178-c4a0-69e64ca160d6"
      },
      "outputs": [
        {
          "name": "stdout",
          "output_type": "stream",
          "text": [
            "coda todos os dias!\n",
            "Codar sempre!\n",
            "Estamos condando todos os dias\n",
            "e estou aprendendo muito!\n"
          ]
        }
      ],
      "source": [
        "print(\"coda todos os dias!\")\n",
        "print('Codar sempre!')\n",
        "print('''Estamos condando todos os dias\n",
        "e estou aprendendo muito!''')"
      ]
    },
    {
      "cell_type": "markdown",
      "metadata": {
        "id": "6iUSxxilMLJu"
      },
      "source": [
        "##Caracteres de escape (quebra de linha)"
      ]
    },
    {
      "cell_type": "code",
      "execution_count": null,
      "metadata": {
        "colab": {
          "base_uri": "https://localhost:8080/"
        },
        "id": "0LM4sGYrMTP_",
        "outputId": "7d8fdd1e-50b3-4295-daab-0663a1976c26"
      },
      "outputs": [
        {
          "name": "stdout",
          "output_type": "stream",
          "text": [
            "Olá meu nome é \n",
            " Jhonatan \n",
            " Eu tenho 49 anos\n"
          ]
        }
      ],
      "source": [
        "print('Olá meu nome é \\n Jhonatan \\n Eu tenho 49 anos')"
      ]
    },
    {
      "cell_type": "code",
      "execution_count": null,
      "metadata": {
        "colab": {
          "base_uri": "https://localhost:8080/"
        },
        "id": "TDNrx3WONHqs",
        "outputId": "e6180706-b894-48d1-8df4-115492ec2689"
      },
      "outputs": [
        {
          "name": "stdout",
          "output_type": "stream",
          "text": [
            "Codar todos'os dias\n"
          ]
        }
      ],
      "source": [
        "print('Codar todos\\'os dias')"
      ]
    },
    {
      "cell_type": "code",
      "execution_count": null,
      "metadata": {
        "colab": {
          "base_uri": "https://localhost:8080/"
        },
        "id": "HUiZG4nZNcBN",
        "outputId": "6be1a3c5-32ba-486c-83e3-de0fb55ccef1"
      },
      "outputs": [
        {
          "name": "stdout",
          "output_type": "stream",
          "text": [
            "Arquivo localizado em \\c:drive\u0007rquivo1.txt\n"
          ]
        }
      ],
      "source": [
        "print('Arquivo localizado em \\c:drive\\arquivo1.txt')"
      ]
    },
    {
      "cell_type": "markdown",
      "metadata": {
        "id": "aTF001EB8uTU"
      },
      "source": [
        "##Operações Matemáticas"
      ]
    },
    {
      "cell_type": "code",
      "execution_count": null,
      "metadata": {
        "colab": {
          "base_uri": "https://localhost:8080/"
        },
        "id": "IE3pbGQW9b2u",
        "outputId": "6aa91829-8311-46b4-fa9e-5a4c6a014421"
      },
      "outputs": [
        {
          "name": "stdout",
          "output_type": "stream",
          "text": [
            "16\n",
            "4\n",
            "60\n",
            "1.6666666666666667\n",
            "1\n",
            "4\n",
            "1000000\n"
          ]
        }
      ],
      "source": [
        "#Operações Matemáticas\n",
        "print(10+6)\n",
        "print(10-6)\n",
        "print(10*6)\n",
        "print(10/6)#divisão\n",
        "print(10//6)#divisão de inteiro (quantas vezes o nº pode ser dividido pelo outro)\n",
        "print(10%6) #modulo - resto da divisão\n",
        "print(10**6)#exponenciais"
      ]
    },
    {
      "cell_type": "code",
      "source": [
        "a = 2.5\n",
        "b = 3\n",
        "resultado = a * b\n",
        "print(resultado)"
      ],
      "metadata": {
        "colab": {
          "base_uri": "https://localhost:8080/"
        },
        "id": "iDRYUj3PXZH_",
        "outputId": "72ab5379-bcc8-4a6b-9dd4-f62811763651"
      },
      "execution_count": null,
      "outputs": [
        {
          "output_type": "stream",
          "name": "stdout",
          "text": [
            "7.5\n"
          ]
        }
      ]
    },
    {
      "cell_type": "markdown",
      "source": [
        "###Porcentagem\n",
        "preco*desconto/100"
      ],
      "metadata": {
        "id": "b-tA8HCiZBas"
      }
    },
    {
      "cell_type": "code",
      "source": [
        "#faça um algoritmo que leiaa o preço de um produto e mostre o novo preçoc com 5% de desconto.\n",
        "\n",
        "preco = float (input('Qual é o preco do prduto R$ '))\n",
        "desconto = float(input(\"Qual é o valor de desconto %: \"))\n",
        "\n",
        "preco_com_desconto = preco -(preco*desconto/100)\n",
        "\n",
        "print (f'O desconto foi de R$ {preco*desconto/100}')\n",
        "print ('O produto que custava R$ {}, com desconto de {} %, vai custar R$ {}'.format(preco,desconto,preco_com_desconto))\n"
      ],
      "metadata": {
        "colab": {
          "base_uri": "https://localhost:8080/"
        },
        "id": "YVoLVuw6ZGkZ",
        "outputId": "f7dfadd0-1a76-4853-cb2c-20a5cb66dd88"
      },
      "execution_count": null,
      "outputs": [
        {
          "output_type": "stream",
          "name": "stdout",
          "text": [
            "Qual é o preco do prduto R$ 10000\n",
            "Qual é o valor de desconto %: 8\n",
            "O desconto foi de R$ 800.0\n",
            "O produto que custava R$ 10000.0, com desconto de 8.0 %, vai custar R$ 9200.0\n"
          ]
        },
        {
          "output_type": "execute_result",
          "data": {
            "text/plain": [
              "0.5"
            ]
          },
          "metadata": {},
          "execution_count": 8
        }
      ]
    },
    {
      "cell_type": "code",
      "source": [
        "#CALCULAR O DESCONTO OBTIDO\n",
        "\n",
        "precoi = float(input('Digite o preço sem desconto: '))#preço incial\n",
        "precof = float(input('Digite o preço com desconto: '))#preço final\n",
        "percentagem = (precoi-precof)/precoi#\n",
        "percentagemrand = round((percentagem*100),2)\n",
        "desconto = round((precoi*percentagem),2)\n",
        "print(f'A taxa de desconto é de {percentagemrand}%.')\n",
        "print(f'O desconto é de R$ {desconto}.')"
      ],
      "metadata": {
        "colab": {
          "base_uri": "https://localhost:8080/"
        },
        "id": "_frNWKP62PpK",
        "outputId": "f1051bf9-a27b-4305-b104-8c7b6277e8d2"
      },
      "execution_count": null,
      "outputs": [
        {
          "output_type": "stream",
          "name": "stdout",
          "text": [
            "Digite o preço sem desconto: 4000\n",
            "Digite o preço com desconto: 500\n",
            "A taxa de desconto é de  87.5%.\n",
            "O desconto é de R$ 3500.0.\n"
          ]
        }
      ]
    },
    {
      "cell_type": "code",
      "source": [
        "(2000-1300)/2000*100\n"
      ],
      "metadata": {
        "colab": {
          "base_uri": "https://localhost:8080/"
        },
        "id": "9gyNNDBiwQIj",
        "outputId": "982038a8-f0fb-46b3-a625-3a464814a259"
      },
      "execution_count": null,
      "outputs": [
        {
          "output_type": "execute_result",
          "data": {
            "text/plain": [
              "35.0"
            ]
          },
          "metadata": {},
          "execution_count": 3
        }
      ]
    },
    {
      "cell_type": "markdown",
      "source": [
        "###Minimo e máximo"
      ],
      "metadata": {
        "id": "iRqbhBkgru_T"
      }
    },
    {
      "cell_type": "code",
      "source": [
        "a,b,c = 7,9,3\n",
        "print(max(a,b,c))\n",
        "print(min(a,b,c))"
      ],
      "metadata": {
        "colab": {
          "base_uri": "https://localhost:8080/"
        },
        "id": "-EVaFVzOrq9t",
        "outputId": "00f9d5bf-136d-4d12-90f8-6dd81821944f"
      },
      "execution_count": null,
      "outputs": [
        {
          "output_type": "stream",
          "name": "stdout",
          "text": [
            "9\n",
            "3\n"
          ]
        }
      ]
    },
    {
      "cell_type": "markdown",
      "source": [
        "### Comparações e Boleanos"
      ],
      "metadata": {
        "id": "va9egOq2stjD"
      }
    },
    {
      "cell_type": "code",
      "source": [
        "a= 9\n",
        "b=5\n",
        "\n",
        "#Comparação a é igual a b ?\n",
        "print('a é igual a b ?', a==b)\n",
        "#\n",
        "print('a é maior que b ?', a>b)\n",
        "#\n",
        "print('a é menor que b ?', a<b)\n"
      ],
      "metadata": {
        "colab": {
          "base_uri": "https://localhost:8080/"
        },
        "id": "zJoZ32-zs1a0",
        "outputId": "336d95a1-181a-43ce-caaf-70fa1548ec72"
      },
      "execution_count": null,
      "outputs": [
        {
          "output_type": "stream",
          "name": "stdout",
          "text": [
            "a é igual a b ? False\n",
            "a é maior que b ? True\n",
            "a é menor que b ? False\n"
          ]
        }
      ]
    },
    {
      "cell_type": "markdown",
      "source": [
        "###Condicionais (equação 2ºgrau)\n",
        "\n"
      ],
      "metadata": {
        "id": "1W4l7Btjusb8"
      }
    },
    {
      "cell_type": "code",
      "source": [
        "a = float(input('digite um número:  '))\n",
        "b = float(input('Digite outro número: '))\n",
        "c = float(input('Digite o último número: '))\n",
        "\n",
        "delta = b**2 - 4*a*c\n",
        "print(f'O valor do delta é: ',{round(delta,2)})\n",
        "print(f'O valor do delta é: {round(delta,2)}')\n",
        "#condição criada\n",
        "if delta ==0:\n",
        "  x = -b/(2*a)\n",
        "  print('Essa equação do 2º grau tem apenas 1 raiz')\n",
        "  print(f'A raiz dessa equaçãoa é{x}')\n",
        "elif delta>0:\n",
        "  x1 = (- b + delta**0.5)/(2*a)\n",
        "  x2 = (-b - delta**0.5)/(2*a)\n",
        "  print(f'Essa equaçõa tem 2 raízes, x1 = {round(x1,2)} e x2 = {round(x2,2)}')\n",
        "\n",
        "else:\n",
        "  print('Essa equação não possui soluções reais')"
      ],
      "metadata": {
        "colab": {
          "base_uri": "https://localhost:8080/"
        },
        "id": "censvnB2vCN2",
        "outputId": "8e57b000-d0ec-4937-9dd4-4afa6d2f1018"
      },
      "execution_count": null,
      "outputs": [
        {
          "output_type": "stream",
          "name": "stdout",
          "text": [
            "digite um número:  1\n",
            "Digite outro número: -2\n",
            "Digite o último número: 0.9\n",
            "O valor do delta é:  {0.4}\n",
            "O valor do delta é: 0.4\n",
            "Essa equaçõa tem 2 raízes, x1 = 1.32 e x2 = 0.68\n"
          ]
        }
      ]
    },
    {
      "cell_type": "markdown",
      "metadata": {
        "id": "xhXQk2qd_2mW"
      },
      "source": [
        "##Round - arredondamento de valor"
      ]
    },
    {
      "cell_type": "code",
      "execution_count": null,
      "metadata": {
        "colab": {
          "base_uri": "https://localhost:8080/"
        },
        "id": "SFv8GyZg__sN",
        "outputId": "90a8d9a6-e0b9-48f3-9549-84f99254a665"
      },
      "outputs": [
        {
          "name": "stdout",
          "output_type": "stream",
          "text": [
            "6\n"
          ]
        }
      ],
      "source": [
        "print(round(5.7))"
      ]
    },
    {
      "cell_type": "code",
      "execution_count": null,
      "metadata": {
        "colab": {
          "base_uri": "https://localhost:8080/"
        },
        "id": "YgMAGMd3AS12",
        "outputId": "6adf3b52-ef22-4733-b227-7ac384c8a4f8"
      },
      "outputs": [
        {
          "name": "stdout",
          "output_type": "stream",
          "text": [
            "3\n"
          ]
        }
      ],
      "source": [
        "import math\n",
        "print(math.ceil(2.2))"
      ]
    },
    {
      "cell_type": "markdown",
      "metadata": {
        "id": "PSNpJrdd-xjH"
      },
      "source": [
        "##Atribuindo de forma rápida"
      ]
    },
    {
      "cell_type": "code",
      "execution_count": null,
      "metadata": {
        "id": "nBlbbWCg-4rZ"
      },
      "outputs": [],
      "source": [
        "a = 10\n",
        "a= a+5\n",
        "a +=5 #atribuindo 5 a variável 10 com apenas uma linha de comando."
      ]
    },
    {
      "cell_type": "markdown",
      "metadata": {
        "id": "xi7_7SdLAulH"
      },
      "source": [
        "##Datetime e tempo"
      ]
    },
    {
      "cell_type": "code",
      "execution_count": null,
      "metadata": {
        "colab": {
          "base_uri": "https://localhost:8080/"
        },
        "id": "SJ1qFu6gA2iY",
        "outputId": "0254feef-04b7-4343-cf36-efdd9af7de95"
      },
      "outputs": [
        {
          "name": "stdout",
          "output_type": "stream",
          "text": [
            "2023-07-28 05:49:15.487355\n",
            "28\n",
            "7\n",
            "2023\n"
          ]
        }
      ],
      "source": [
        "##import datetime\n",
        "#ou\n",
        "from datetime import datetime # da biblioteca datetime, apenas a função datetime.\n",
        "#horário atual\n",
        "print(datetime.now())\n",
        "print(datetime.now().day) #dia\n",
        "print(datetime.now().month) #mês\n",
        "print(datetime.now().year) #ano\n"
      ]
    },
    {
      "cell_type": "code",
      "execution_count": null,
      "metadata": {
        "colab": {
          "base_uri": "https://localhost:8080/"
        },
        "id": "PM1ME40hDVet",
        "outputId": "cc3b2b70-3c50-41b4-bb62-5dedac949042"
      },
      "outputs": [
        {
          "name": "stdout",
          "output_type": "stream",
          "text": [
            "2021-05-28 00:00:00\n"
          ]
        }
      ],
      "source": [
        "from datetime import datetime\n",
        "#criar uma data\n",
        "lancamento_app = datetime(2021,5,28)\n",
        "print(lancamento_app)"
      ]
    },
    {
      "cell_type": "code",
      "execution_count": null,
      "metadata": {
        "colab": {
          "base_uri": "https://localhost:8080/"
        },
        "id": "79I11pEiDtR2",
        "outputId": "2a1fe87c-404d-4df4-b62c-c2ee81b69be9"
      },
      "outputs": [
        {
          "name": "stdout",
          "output_type": "stream",
          "text": [
            "Quando devemos lancar o aplicativo?12/12/2023\n",
            "<class 'datetime.datetime'>\n"
          ]
        }
      ],
      "source": [
        "from datetime import datetime\n",
        "#Quero receber a data lançamento do meu aplicativo\n",
        "#25/08/2020 = %d/%m/%y\n",
        "data_de_lancamento = datetime.strptime(input('Quando devemos lancar o aplicativo? '),'%d/%m/%Y')#Ymaiúsculo pq representa 4 letras\n",
        "print(type(data_de_lancamento))"
      ]
    },
    {
      "cell_type": "code",
      "execution_count": null,
      "metadata": {
        "colab": {
          "base_uri": "https://localhost:8080/"
        },
        "id": "eA644LYvHTA1",
        "outputId": "3f312230-2f70-450c-b3cf-110316d36c1c"
      },
      "outputs": [
        {
          "name": "stdout",
          "output_type": "stream",
          "text": [
            "Quando devemos lancar o aplicativo? 12/12/2023\n",
            "<class 'datetime.datetime'>\n",
            "136\n"
          ]
        }
      ],
      "source": [
        "#CALCULANDO O INTERVALO DE DATAS\n",
        "from datetime import datetime\n",
        "\n",
        "data_de_lancamento = datetime.strptime(input('Quando devemos lancar o aplicativo? '),'%d/%m/%Y')#Ymaiúsculo pq representa 4 letras\n",
        "print(type(data_de_lancamento))\n",
        "\n",
        "data_atual = datetime.now()\n",
        "prazo =  data_de_lancamento - data_atual\n",
        "print(prazo.days)"
      ]
    },
    {
      "cell_type": "markdown",
      "metadata": {
        "id": "T0lHTHA7JTsk"
      },
      "source": [
        "###Desafio datetime\n",
        "Calcule quantos dias faltam para o seu aniversário neste ano."
      ]
    },
    {
      "cell_type": "code",
      "execution_count": null,
      "metadata": {
        "colab": {
          "base_uri": "https://localhost:8080/"
        },
        "id": "BCCEjUoSJd5i",
        "outputId": "d8cc9b19-fb87-4915-e014-cab7ccedec69"
      },
      "outputs": [
        {
          "name": "stdout",
          "output_type": "stream",
          "text": [
            "58 days, 17:38:21.077337\n"
          ]
        }
      ],
      "source": [
        "from datetime import datetime\n",
        "\n",
        "aniversario = datetime(2023,9,25)#ano, mes, dia do seu aniversário considerando o ano atual\n",
        "dias_para_aniversario = aniversario - datetime.now()\n",
        "\n",
        "print(dias_para_aniversario)"
      ]
    },
    {
      "cell_type": "markdown",
      "metadata": {
        "id": "95O_2Rd0Kwin"
      },
      "source": [
        "##Random - valores aleatorios"
      ]
    },
    {
      "cell_type": "code",
      "source": [
        "from random import randint # sorteio de números inteiros.\n",
        "n = (randint(1,10)) #variável simples.\n",
        "z = (randint(1,10), randint(1,10), randint(1,10))#Variável composta dentro de uma tupla.\n",
        "\n",
        "print(f'Sorteio de 01 número aleatório entre 1 e 10: {n}')\n",
        "print(f'Sorteio de 03 números aleatórios entre 1 e 10: {z}')\n"
      ],
      "metadata": {
        "colab": {
          "base_uri": "https://localhost:8080/"
        },
        "id": "HSZ_GsVOyHot",
        "outputId": "4c5b6643-a10a-4336-f2ff-77afe39bf1cb"
      },
      "execution_count": null,
      "outputs": [
        {
          "output_type": "stream",
          "name": "stdout",
          "text": [
            "Sorteio de 01 número aleatório entre 1 e 10: 8\n",
            "Sorteio de 03 números aleatórios entre 1 e 10: (6, 2, 6)\n"
          ]
        }
      ]
    },
    {
      "cell_type": "code",
      "execution_count": null,
      "metadata": {
        "colab": {
          "base_uri": "https://localhost:8080/"
        },
        "id": "o23mBSbZLbue",
        "outputId": "f18ec7d1-60f5-4e94-ca9b-0ceef81fc955"
      },
      "outputs": [
        {
          "output_type": "stream",
          "name": "stdout",
          "text": [
            "O valor sorteado foi :0.3572700676970807\n"
          ]
        }
      ],
      "source": [
        "#valores aleatorios com random\n",
        "import random\n",
        "print(f'O valor sorteado foi: {random.random()}')#Gera um valor de 0.0 a 1.0\n"
      ]
    },
    {
      "cell_type": "code",
      "execution_count": null,
      "metadata": {
        "colab": {
          "base_uri": "https://localhost:8080/"
        },
        "id": "FAmrKrDyNdvx",
        "outputId": "782176cc-357a-4143-c97e-2595d5b8ee6c"
      },
      "outputs": [
        {
          "name": "stdout",
          "output_type": "stream",
          "text": [
            "9.543676789493333\n"
          ]
        }
      ],
      "source": [
        "#Gera um valor decimal de valor Minimo e valor máximo\n",
        "print(random.uniform(4,10))"
      ]
    },
    {
      "cell_type": "code",
      "execution_count": null,
      "metadata": {
        "colab": {
          "base_uri": "https://localhost:8080/"
        },
        "id": "ObjeczSvNzUL",
        "outputId": "1f409298-31fd-49d6-9f72-f05f88659d75"
      },
      "outputs": [
        {
          "name": "stdout",
          "output_type": "stream",
          "text": [
            "7\n"
          ]
        }
      ],
      "source": [
        "#Gera um valor inteiro de valor Minimo e valor Maximo\n",
        "print(random.randint(4,10))"
      ]
    },
    {
      "cell_type": "code",
      "execution_count": null,
      "metadata": {
        "colab": {
          "base_uri": "https://localhost:8080/"
        },
        "id": "gqqWOm1kOL5n",
        "outputId": "9e669f62-913f-4912-fd2c-55380dd87a5c"
      },
      "outputs": [
        {
          "name": "stdout",
          "output_type": "stream",
          "text": [
            "verde\n",
            "['verde', 'amarelo']\n",
            "['amarelo', 'azul', 'amarelo']\n"
          ]
        }
      ],
      "source": [
        "#Escolhendo opção aleatoria dentro de uma lista\n",
        "cores = ['verde', 'vermelho', 'azul', 'amarelo']\n",
        "print(random.choice(cores))#choice no singular\n",
        "print(random.choices(cores, k=2))#choices no plural\n",
        "print(random.choices(cores,k=3))#choices no plural"
      ]
    },
    {
      "cell_type": "markdown",
      "source": [
        "##Choice - podemos obter as amostras aleatórias\n",
        "\n",
        "- O método retorna um elemento selecionado aleatoriamente do especificado seqüenciar.choice()\n",
        "\n",
        "A sequência pode ser uma string, um intervalo, uma lista, uma tupla ou qualquer outro tipo de seqüenciar.\n",
        "\n",
        "Sintaxe: numpy.random.choice(a, size=None, replace=True, p=None)\n",
        "\n",
        "Parâmetros:\n",
        "\n",
        "1) a – 1-D matriz de numpy com amostras aleatórias.\n",
        "\n",
        "2) size – Forma de saída de amostras aleatórias de matriz numpy.\n",
        "\n",
        "3) replace – Se a amostra está com ou sem reposição.\n",
        "\n",
        "4) p – A probabilidade se liga a cada amostra em a.\n",
        "\n",
        "Saída: Retorne a matriz numpy de amostras aleatórias."
      ],
      "metadata": {
        "id": "k4HCKvXRUPpG"
      }
    },
    {
      "cell_type": "markdown",
      "source": [
        "###Exemplo1"
      ],
      "metadata": {
        "id": "WgvGOo7EV44K"
      }
    },
    {
      "cell_type": "code",
      "source": [
        "import random\n",
        "\n",
        "mylist = [\"apple\", \"banana\", \"cherry\",\"mango\",\"orange\"]\n",
        "\n",
        "print(random.choice(mylist))"
      ],
      "metadata": {
        "colab": {
          "base_uri": "https://localhost:8080/"
        },
        "id": "ApgOJxukV8uv",
        "outputId": "babe0279-4f69-42d3-e36e-a0eec4bf02cb"
      },
      "execution_count": null,
      "outputs": [
        {
          "output_type": "stream",
          "name": "stdout",
          "text": [
            "mango\n"
          ]
        }
      ]
    },
    {
      "cell_type": "markdown",
      "source": [
        "###Exemplo2"
      ],
      "metadata": {
        "id": "D-sxF1_HjyoX"
      }
    },
    {
      "cell_type": "code",
      "source": [
        "# Exemplo: Retornar um caractere aleatório de uma cadeia de caracteres:\n",
        "\n",
        "import random\n",
        "\n",
        "x = \"ABCDEFGHIJKLMNOPQRSTUVXZ\"\n",
        "print(\"Escolhendo um caracter aleatório do alfabeto\")\n",
        "print(random.choice(x))"
      ],
      "metadata": {
        "colab": {
          "base_uri": "https://localhost:8080/"
        },
        "id": "SoI8cMTWixlb",
        "outputId": "4b6367d1-9c20-4316-d25f-2f5342ac0643"
      },
      "execution_count": null,
      "outputs": [
        {
          "output_type": "stream",
          "name": "stdout",
          "text": [
            "Escolhendo um caracter aleatório do alfabeto\n",
            "S\n"
          ]
        }
      ]
    },
    {
      "cell_type": "markdown",
      "source": [
        "###Exemplo3\n",
        "o método choice(), somos capazes de obter as amostras aleatórias da matriz numpy, ele pode gerar amostras uniformes ou não uniformes usando este método."
      ],
      "metadata": {
        "id": "afFWz1ZSVCtq"
      }
    },
    {
      "cell_type": "code",
      "source": [
        "# import choice\n",
        "import numpy as np\n",
        "import matplotlib.pyplot as plt\n",
        "\n",
        "# Using choice() method\n",
        "gfg = np.random.choice(13, 500)\n",
        "count, bins, ignored = plt.hist(gfg, 25, density = True)\n",
        "plt.show()"
      ],
      "metadata": {
        "colab": {
          "base_uri": "https://localhost:8080/",
          "height": 430
        },
        "id": "8SuA7KJGVP7T",
        "outputId": "f524df18-40fa-4ccf-9c55-c3f19109b983"
      },
      "execution_count": null,
      "outputs": [
        {
          "output_type": "display_data",
          "data": {
            "text/plain": [
              "<Figure size 640x480 with 1 Axes>"
            ],
            "image/png": "[encoded data removed]"
          },
          "metadata": {}
        }
      ]
    },
    {
      "cell_type": "code",
      "source": [],
      "metadata": {
        "id": "G2C07cPSUmXH"
      },
      "execution_count": null,
      "outputs": []
    },
    {
      "cell_type": "markdown",
      "metadata": {
        "id": "ic_dWq4tP550"
      },
      "source": [
        "##Shuffle - embaralhando uma lista"
      ]
    },
    {
      "cell_type": "code",
      "execution_count": null,
      "metadata": {
        "colab": {
          "base_uri": "https://localhost:8080/"
        },
        "id": "wifwFtzGQCXo",
        "outputId": "5061c72a-7931-45b6-8a12-f0c1d039d202"
      },
      "outputs": [
        {
          "name": "stdout",
          "output_type": "stream",
          "text": [
            "None\n",
            "['carta3', 'carta1', 'carta5', 'carta4', 'carta2']\n"
          ]
        }
      ],
      "source": [
        "#Embaralhando uma lista\n",
        "cartas_de_um_baralho = ['carta1', 'carta2', 'carta3', 'carta4', 'carta5']#ordem escolhida das cartas\n",
        "print(random.shuffle(cartas_de_um_baralho))\n",
        "print(cartas_de_um_baralho)#mostrar a lista embaralhada\n"
      ]
    },
    {
      "cell_type": "markdown",
      "metadata": {
        "id": "prXfb7JGRQ36"
      },
      "source": [
        "###desafio1"
      ]
    },
    {
      "cell_type": "markdown",
      "metadata": {
        "id": "EQTINTdPD0Pr"
      },
      "source": [
        "##CONTROLE DE FLUXO"
      ]
    },
    {
      "cell_type": "markdown",
      "metadata": {
        "id": "rGjCwoTuOfMq"
      },
      "source": [
        "###Operadores RELACIONAIS / LÓGICOS"
      ]
    },
    {
      "cell_type": "code",
      "execution_count": null,
      "metadata": {
        "colab": {
          "base_uri": "https://localhost:8080/"
        },
        "id": "EIY3LHdxuFgF",
        "outputId": "30a3e77f-7dd2-438c-d51c-4db13d7f3377"
      },
      "outputs": [
        {
          "name": "stdout",
          "output_type": "stream",
          "text": [
            "digite um número? 5\n",
            "digite outro número?6\n",
            "False\n",
            "False\n",
            "True\n",
            "True\n"
          ]
        }
      ],
      "source": [
        "#operadores lógicos  int(input('Quantos filmes assistiu este mês? '))\n",
        "\n",
        "x= int(input('digite um número? '))\n",
        "y= int(input('digite outro número?'))\n",
        "\n",
        "#print(f'Olá {nome}, você cadastrou o email {email}, essa informação está correta?\"'\n",
        "#print(f'O {x}, e o segundo número é{}, onde ')\n",
        "\n",
        "print(x>y)\n",
        "print(x>=y)\n",
        "print(x<y)\n",
        "print(x<=y)"
      ]
    },
    {
      "cell_type": "code",
      "execution_count": null,
      "metadata": {
        "colab": {
          "base_uri": "https://localhost:8080/"
        },
        "id": "xnClGnFDPWuz",
        "outputId": "b1ba5e2b-93c1-441f-f3da-ded95e9bb7c2"
      },
      "outputs": [
        {
          "name": "stdout",
          "output_type": "stream",
          "text": [
            "False\n",
            "True\n",
            "True\n",
            "False\n",
            "False\n",
            "True\n"
          ]
        }
      ],
      "source": [
        "#Comparações numéricas\n",
        "idade = 15\n",
        "print(idade>17)\n",
        "print(idade<17)\n",
        "print(idade<=17)\n",
        "print(idade>=17)\n",
        "print(idade==17)#totalmente igual\n",
        "print(idade!=17)#totalmente diferente\n"
      ]
    },
    {
      "cell_type": "code",
      "execution_count": null,
      "metadata": {
        "colab": {
          "base_uri": "https://localhost:8080/"
        },
        "id": "wpaEdgJwPj72",
        "outputId": "967be3a4-5dd2-4752-c62a-fb5d0d5988b6"
      },
      "outputs": [
        {
          "name": "stdout",
          "output_type": "stream",
          "text": [
            "False\n"
          ]
        }
      ],
      "source": [
        "#comparações entre outros tipos\n",
        "print('Rafael'=='rafael') #Python é case sensitive."
      ]
    },
    {
      "cell_type": "code",
      "execution_count": null,
      "metadata": {
        "colab": {
          "base_uri": "https://localhost:8080/"
        },
        "id": "pGwsOvbcR8y1",
        "outputId": "944aa84f-1492-4929-b546-f656e01c9037"
      },
      "outputs": [
        {
          "name": "stdout",
          "output_type": "stream",
          "text": [
            "False\n"
          ]
        }
      ],
      "source": [
        "#comparando 2 condições\n",
        "#AND\n",
        "idade = 21\n",
        "possui_convite = True\n",
        "\n",
        "#condição 1 AND condição 2\n",
        "print (idade>21) and (possui_convite==True)"
      ]
    },
    {
      "cell_type": "code",
      "execution_count": null,
      "metadata": {
        "colab": {
          "base_uri": "https://localhost:8080/"
        },
        "id": "NaPGUpstVsdF",
        "outputId": "b5c4d87b-4c81-4723-9c1f-e1421c313236"
      },
      "outputs": [
        {
          "name": "stdout",
          "output_type": "stream",
          "text": [
            "False\n"
          ]
        },
        {
          "data": {
            "text/plain": [
              "False"
            ]
          },
          "execution_count": 10,
          "metadata": {},
          "output_type": "execute_result"
        }
      ],
      "source": [
        "#OR\n",
        "idade = 21\n",
        "possui_convite = True\n",
        "#condição 1 AND condição 2\n",
        "print (idade>21) or (possui_convite==False)"
      ]
    },
    {
      "cell_type": "code",
      "execution_count": null,
      "metadata": {
        "colab": {
          "base_uri": "https://localhost:8080/"
        },
        "id": "-chIlmBVV5br",
        "outputId": "14c1c108-babf-4acd-a860-3005d8f20c47"
      },
      "outputs": [
        {
          "name": "stdout",
          "output_type": "stream",
          "text": [
            "False\n"
          ]
        },
        {
          "data": {
            "text/plain": [
              "True"
            ]
          },
          "execution_count": 13,
          "metadata": {},
          "output_type": "execute_result"
        }
      ],
      "source": [
        "# and or\n",
        "idade = 21\n",
        "possui_convite = True\n",
        "filho_do_dono = True\n",
        "\n",
        "#(condição 1 AND condição 2) or condição 3\n",
        "print (idade>21 and possui_convite==True) or (filho_do_dono==True)"
      ]
    },
    {
      "cell_type": "code",
      "execution_count": null,
      "metadata": {
        "colab": {
          "base_uri": "https://localhost:8080/"
        },
        "id": "mV1iC2uFlciE",
        "outputId": "275e7e47-5902-4653-f0b4-84f8292c95df"
      },
      "outputs": [
        {
          "name": "stdout",
          "output_type": "stream",
          "text": [
            "True\n"
          ]
        }
      ],
      "source": [
        "#Exemplo\n",
        "maior_de_idade=True\n",
        "possui_carteira_de_trabalho = True\n",
        "#CONDIÇÃO - Você só pode trabalhar aqui se for maior de idade e possuir carteira de trabalho\n",
        "#as duas condições precisam ser verdadeiras para serem verdadeiras.\n",
        "print(maior_de_idade == True and possui_carteira_de_trabalho == True)\n",
        "\n"
      ]
    },
    {
      "cell_type": "markdown",
      "metadata": {
        "id": "ISBdbjYld3pa"
      },
      "source": [
        "###Precedência (prioridade) de Operarodores\n",
        "Python irá sempre avaliar primeiro operadores aritméticos (** é o primeiro, depois multiplicação/divisão, depois adição/subtração). Em seguida são os operadores relacionais."
      ]
    },
    {
      "cell_type": "markdown",
      "metadata": {
        "id": "0I4bp9-QzO7X"
      },
      "source": [
        "###Desvio condicional"
      ]
    },
    {
      "cell_type": "markdown",
      "metadata": {
        "id": "Wc_DID2czdZK"
      },
      "source": [
        "###IF ELSE"
      ]
    },
    {
      "cell_type": "code",
      "source": [
        "idade = int(input ('Digite sua idade: '))\n",
        "\n",
        "if idade < 20:\n",
        "    print('Você é jovem!')#perceba que se for negativo, não será mostrado nada"
      ],
      "metadata": {
        "colab": {
          "base_uri": "https://localhost:8080/"
        },
        "id": "tdooU6BLpUsv",
        "outputId": "82eea038-f7f4-44c5-e28f-2362b67b7748"
      },
      "execution_count": null,
      "outputs": [
        {
          "name": "stdout",
          "output_type": "stream",
          "text": [
            "Digite sua idade: 45\n"
          ]
        }
      ]
    },
    {
      "cell_type": "code",
      "source": [
        "idade = int(input(\"Digite sua idade: \"))\n",
        "if idade >= 18:\n",
        "    print('maior de idade')\n",
        "else:\n",
        "    print('menor de idade')"
      ],
      "metadata": {
        "colab": {
          "base_uri": "https://localhost:8080/"
        },
        "id": "T1fZ0YtvqU5U",
        "outputId": "720b2ae4-41b4-484c-d33b-049c3a4d5f00"
      },
      "execution_count": null,
      "outputs": [
        {
          "output_type": "stream",
          "name": "stdout",
          "text": [
            "Digite sua idade: 23\n",
            "maior de idade\n"
          ]
        }
      ]
    },
    {
      "cell_type": "markdown",
      "source": [
        "###ELIF - mais de 1 condição alternativa.\n",
        "\n",
        "\n"
      ],
      "metadata": {
        "id": "7nCpZ0HEq-Bf"
      }
    },
    {
      "cell_type": "code",
      "source": [],
      "metadata": {
        "id": "_0yXIRlFiiw4"
      },
      "execution_count": null,
      "outputs": []
    },
    {
      "cell_type": "code",
      "source": [
        "#Exemplo: Elif\n",
        "#se existir mais de uma condição alternativa que precisa ser\n",
        "#verificada, devemos utilizar o elif para avaliar as expressões intermediárias antes de usar o else:idade\n",
        "\n",
        "idade = int(input('Digite sua idade: '))\n",
        "\n",
        "if idade < 12: #1ª condição\n",
        "    print('você é uma crianca')\n",
        "elif idade < 18: #2ª condição\n",
        "    print('Você é adolescente')\n",
        "elif idade < 60: #3ª condição\n",
        "    print('você é um adulto')\n",
        "else: #se nenhuma das condições for satisfeita, o programa seguirá executando a ultima opção\n",
        "    print('Você é um idoso')"
      ],
      "metadata": {
        "id": "2PP7Bk8nq48r",
        "colab": {
          "base_uri": "https://localhost:8080/"
        },
        "outputId": "d3ea19c2-1e71-4895-d2e6-292ec6efc06f"
      },
      "execution_count": null,
      "outputs": [
        {
          "output_type": "stream",
          "name": "stdout",
          "text": [
            "Digite sua idade: 25\n",
            "você é um adulto\n"
          ]
        }
      ]
    },
    {
      "cell_type": "code",
      "execution_count": null,
      "metadata": {
        "colab": {
          "base_uri": "https://localhost:8080/"
        },
        "id": "mQQlDZwZiJHa",
        "outputId": "25f200ce-fa74-4c8f-a75f-cb3d47639ae7"
      },
      "outputs": [
        {
          "name": "stdout",
          "output_type": "stream",
          "text": [
            "Digite o primero numero: 9\n",
            "Digite o segundo numero: 8\n",
            "9 é maior que 8\n"
          ]
        }
      ],
      "source": [
        "#Escreva um Programa onde 2 numeros aleatórios digitas, se são iguais ou qual deles é maior que o outro\n",
        "\n",
        "n1 = input ('Digite o primero numero: ')\n",
        "n2 = input ('Digite o segundo numero: ')\n",
        "if n1 > n2:\n",
        "  print (n1,'é maior que',n2)\n",
        "elif n2 > n1:\n",
        "  print (n2,'é maior que',n1)\n",
        "else: #caso não seja if e nem elif\n",
        "  print('os numeros são iguais')"
      ]
    },
    {
      "cell_type": "code",
      "execution_count": null,
      "metadata": {
        "colab": {
          "base_uri": "https://localhost:8080/"
        },
        "id": "nJt1mjozHOK5",
        "outputId": "a1150a14-df2c-4121-88df-0132165d2018"
      },
      "outputs": [
        {
          "name": "stdout",
          "output_type": "stream",
          "text": [
            "4 é maior que 2\n"
          ]
        }
      ],
      "source": [
        "\n",
        "#entrada de dados\n",
        "x=4\n",
        "y=2\n",
        "if x>y:\n",
        "  print(x,'é maior que',y)\n",
        "elif x<y:\n",
        "  print(x,'é menor que',y)\n",
        "else :\n",
        "    print('os números digitados são iguais')"
      ]
    },
    {
      "cell_type": "code",
      "execution_count": null,
      "metadata": {
        "colab": {
          "base_uri": "https://localhost:8080/"
        },
        "id": "K4sXI3SHGabV",
        "outputId": "6c1c1c5f-9b7d-4f5b-88fb-23f329fd5898"
      },
      "outputs": [
        {
          "name": "stdout",
          "output_type": "stream",
          "text": [
            "8 é par\n"
          ]
        }
      ],
      "source": [
        "#par ou impar\n",
        "\n",
        "x = int(input('digite um valor de 0 a 10: '))\n",
        "\n",
        "if x %2 ==0:\n",
        "  print(x,'é par')\n",
        "else:\n",
        "    print(x, 'é impar')"
      ]
    },
    {
      "cell_type": "code",
      "execution_count": null,
      "metadata": {
        "colab": {
          "base_uri": "https://localhost:8080/"
        },
        "id": "0135U4p578rn",
        "outputId": "6b5186ce-6495-430d-a57a-203789a146e9"
      },
      "outputs": [
        {
          "output_type": "stream",
          "name": "stdout",
          "text": [
            "x-x-x-x 1º forma x-x-x-x-x-\n",
            "A soma é: 123 \n",
            "A subtracao é: 117\n",
            "x-x-x-x-2º forma x-x-x-x-x\n",
            "A soma é:  123 \n",
            "A subtracao é:  117\n",
            "A multiplicacao: é  360\n",
            "A divisao é: 40.0\n"
          ]
        }
      ],
      "source": [
        "#entrada\n",
        "valor1, valor2 = 120, 3\n",
        "\n",
        "#processamento\n",
        "soma = valor1 +valor2\n",
        "subtracao = valor1-valor2\n",
        "mult = valor1*valor2\n",
        "divisao = valor1 /valor2\n",
        "\n",
        "#saída\n",
        "#1º forma\n",
        "print('x-x-x-x 1º forma x-x-x-x-x-')\n",
        "print(f'A soma é: {soma} \\nA subtracao é: {subtracao}') #usando formatação de string\n",
        "print('x-x-x-x-2º forma x-x-x-x-x')\n",
        "#2º forma\n",
        "print('A soma é: ', soma, \"\\nA subtracao é: \", subtracao)\n",
        "print('A multiplicacao: é ', str(mult) + '\\nA divisao é: ' + str(divisao))\n",
        "\n"
      ]
    },
    {
      "cell_type": "code",
      "execution_count": null,
      "metadata": {
        "colab": {
          "base_uri": "https://localhost:8080/"
        },
        "id": "BMOVbkOgC_hr",
        "outputId": "2d23e14c-b15f-4858-a4d2-0e00ec4b214a"
      },
      "outputs": [
        {
          "name": "stdout",
          "output_type": "stream",
          "text": [
            "digite um valor de 0 a 10: 8\n",
            "O valor digitado não está entre 0 e 5\n"
          ]
        }
      ],
      "source": [
        "#Exemplo\n",
        "x= float(input('digite um valor de 0 a 10: '))\n",
        "if x>=0 and x<=5:\n",
        "   print(\"o valor digitado está entre 0 e 5\")\n",
        "else :\n",
        "    print('O valor digitado não está entre 0 e 5')"
      ]
    },
    {
      "cell_type": "code",
      "execution_count": null,
      "metadata": {
        "colab": {
          "base_uri": "https://localhost:8080/"
        },
        "id": "Gn_amIy7-6v0",
        "outputId": "a0693b8b-9765-45e9-b6f8-6d4335cf6d60"
      },
      "outputs": [
        {
          "name": "stdout",
          "output_type": "stream",
          "text": [
            "A exponenciação é  1953125\n",
            "A divisão inteira é  41\n"
          ]
        }
      ],
      "source": [
        "#entrada\n",
        "valor1, valor2 = 125, 3\n",
        "\n",
        "#processamento\n",
        "exp = valor1**valor2\n",
        "resto = valor1 % valor2\n",
        "divInteira = valor1//valor2\n",
        "\n",
        "#saida\n",
        "print('A exponenciação é ', (exp))\n",
        "print('A divisão inteira é ', (divInteira))"
      ]
    },
    {
      "cell_type": "code",
      "execution_count": null,
      "metadata": {
        "colab": {
          "base_uri": "https://localhost:8080/"
        },
        "id": "wGgjQXOC6I8e",
        "outputId": "72151172-a1bf-4819-c47b-6a8abda41c78"
      },
      "outputs": [
        {
          "output_type": "stream",
          "name": "stdout",
          "text": [
            "Quantos filmes você assistiu esse mês:? 8\n",
            "Quantos livros você leu este ano:? 23\n",
            "Você leu 23 livros, e viu 8 filmes, você leu mais livros do que viu filmes\n"
          ]
        }
      ],
      "source": [
        "#int(input('Quantos filmes assistiu este mês? '))\n",
        "a= int(input('Quantos filmes você assistiu esse mês:? '))\n",
        "b= int(input('Quantos livros você leu este ano:? '))\n",
        "\n",
        "if b > a:\n",
        "  print(f\"Você leu {b} livros, e viu {a} filmes, você leu mais livros do que viu filmes\" )\n",
        "else:\n",
        "  print(f\"Você leu {b} livros, e viu {a} filmes,Você viu mais filmes do que leu livros esse ano\")\n"
      ]
    },
    {
      "cell_type": "code",
      "execution_count": null,
      "metadata": {
        "colab": {
          "base_uri": "https://localhost:8080/"
        },
        "id": "9SpvPsJl0pNU",
        "outputId": "b42b47ed-21eb-4924-ee9a-95932e98fe19"
      },
      "outputs": [
        {
          "name": "stdout",
          "output_type": "stream",
          "text": [
            "Digite o cupom:futura\n",
            "você não tem desconto\n"
          ]
        }
      ],
      "source": [
        "#Exemplo\n",
        "cupom = str(input('Digite o cupom:'))\n",
        "\n",
        "if (cupom == 'FUCTURA10'):\n",
        "  print('você ganhou 10% de desconto')\n",
        "if(cupom == 'FUCTURA20'):\n",
        "  print(\"Você tem 20% de desconto.\")\n",
        "elif(cupom !='FUCTURA1' or cupom !='FUCTURA2'):\n",
        "  print(\"você não tem desconto\")\n"
      ]
    },
    {
      "cell_type": "markdown",
      "source": [
        "####Desafio1"
      ],
      "metadata": {
        "id": "vqgK7T0u4hug"
      }
    },
    {
      "cell_type": "code",
      "source": [
        "\n",
        "salario = float(input('Digite o valor do salario:'))\n",
        "emprestimo = float(input('Digite o valor do empréstimo:'))\n",
        "indice = emprestimo/salario\n",
        "\n",
        "if indice <=0.5: #50%\n",
        "  print('Seu emprestimo foi aprovado')\n",
        "elif indice >0.5 and indice <=0.75:\n",
        "  print(\"Seu emprestimo está em análise\")\n",
        "else:\n",
        "  print(\"seu emprestimo não foi aprovado\")"
      ],
      "metadata": {
        "colab": {
          "base_uri": "https://localhost:8080/"
        },
        "id": "F4hyt2aDlZ4O",
        "outputId": "1366aacd-fb8e-4233-d880-5ee54efad9e7"
      },
      "execution_count": null,
      "outputs": [
        {
          "output_type": "stream",
          "name": "stdout",
          "text": [
            "Digite o valor do salario:1000\n",
            "Digite o valor do empréstimo:650\n",
            "Seu emprestimo está em análise\n"
          ]
        }
      ]
    },
    {
      "cell_type": "markdown",
      "source": [
        "####Desafio2"
      ],
      "metadata": {
        "id": "2L1Tbh5n8S6s"
      }
    },
    {
      "cell_type": "code",
      "source": [
        "#Desconto no combustível\n",
        "#entrada de dados [0].lower() considerando apenas a primeira letra e minúscula.\n",
        "tipo_combustivel = input(\"digite o combustível Alcool ou Gasolina: \")[0].lower()\n",
        "print(tipo_combustivel)\n",
        "\n",
        "#combustível e preço\n",
        "alcool = 4.09\n",
        "gasolina = 6.50\n",
        "\n",
        "if tipo_combustivel =='a':\n",
        "  print('Alcool')\n",
        "elif tipo_combustivel =='g':\n",
        "  print('Gasolina')\n",
        "else:\n",
        "  print('Combustível desconhecido')\n"
      ],
      "metadata": {
        "colab": {
          "base_uri": "https://localhost:8080/"
        },
        "id": "mEhpU0VO8bVz",
        "outputId": "e46715fa-f1be-499b-d287-9689d8b5fd42"
      },
      "execution_count": null,
      "outputs": [
        {
          "output_type": "stream",
          "name": "stdout",
          "text": [
            "digite o combustível Alcool ou Gasolina: asfasdf\n",
            "a\n",
            "Alcool\n"
          ]
        }
      ]
    },
    {
      "cell_type": "markdown",
      "source": [
        "####Desafio Emprestimos\n",
        "Escreva um programa para aprovar o emprestimo bancario para a compra de uma casa. Pergunte o valor da casa, o salário do comprador e em quantos anos pretende pagar. A prestação mensal, não podera exceder 30% do salário ou então o empréstimo é negado."
      ],
      "metadata": {
        "id": "ZXk-X7baKhUy"
      }
    },
    {
      "cell_type": "code",
      "source": [
        "salario = float(input('Salario do comprador: R$ '))\n",
        "casa =float(input('Valor da casa: R$ '))\n",
        "prazo = int(input('Em quantos anos gostaria de financiar? : '))\n",
        "prestacao = casa/(prazo*12)\n",
        "maximo = salario*30/100\n",
        "print('Para pagar o financiamento de R${:.1f} em {} anos'.format(casa,prazo)) #formatando resultado\n",
        "print('A prestação será de R$ {:.1f}'.format(prestacao))#formatando resultado\n",
        "\n",
        "if prestacao <= maximo:\n",
        "  print('Emprestimo pode ser concedido')\n",
        "else:\n",
        "  print('A prestação superou o limite permitido de até 30% de comprometimento do salário e não será liberado')\n",
        "\n",
        "\n"
      ],
      "metadata": {
        "colab": {
          "base_uri": "https://localhost:8080/"
        },
        "id": "fG27N8tUKpkw",
        "outputId": "3febcffd-78ef-4fce-8ea6-b46ebc2d9181"
      },
      "execution_count": null,
      "outputs": [
        {
          "output_type": "stream",
          "name": "stdout",
          "text": [
            "Salario do comprador: R$ 12000\n",
            "Valor da casa: R$ 450000\n",
            "Em quantos anos gostaria de financiar? : 5\n",
            "Para pagar o financiamento de R$450000.0 em 5 anos\n",
            "A prestação será de R$ 7500.0\n",
            "A prestação superou o limite permitido de até 30% de comprometimento do salário e não será liberado\n"
          ]
        }
      ]
    },
    {
      "cell_type": "markdown",
      "source": [
        "####Desafio3"
      ],
      "metadata": {
        "id": "TU9JMIYt5uFj"
      }
    },
    {
      "cell_type": "code",
      "source": [
        "nome = input(\"Qual é o seu nome? \")\n",
        "\n",
        "tempo = float(input(f\"{nome}, digite o tempo gasto na viagem (em horas): \"))#use ponto no lugar da vírgula\n",
        "\n",
        "velocidade = float(input(f'{nome}, digite agora a velocidade média praticado na viagem: '))\n",
        "\n",
        "consumo = velocidade/12 #\n",
        "\n",
        "print(\"Foram gastos \", consumo, \" litros de combustível.\")"
      ],
      "metadata": {
        "colab": {
          "base_uri": "https://localhost:8080/"
        },
        "id": "fa-pGPIf5siW",
        "outputId": "ccaf42ce-e483-4e98-e630-718650d3aaa5"
      },
      "execution_count": null,
      "outputs": [
        {
          "output_type": "stream",
          "name": "stdout",
          "text": [
            "Qual é o seu nome? olavo\n",
            "olavo, digite o tempo gasto na viagem (em horas): 2.5\n",
            "olavo, digite agora a velocidade média praticado na viagem: 60\n",
            "Foram gastos  5.0  litros de combustível.\n"
          ]
        }
      ]
    },
    {
      "cell_type": "markdown",
      "source": [
        "###Operador Ternário\n",
        "comparando mais com menos código."
      ],
      "metadata": {
        "id": "8p0qek9dftjD"
      }
    },
    {
      "cell_type": "code",
      "source": [
        "#Caso a idade seja maior ou igual a 18 anos,\n",
        "#essa pessoa é maoir de idade, caso contrariio ela é menor de idade\n",
        "\n",
        "#FORMA COMUM\n",
        "idade = 15\n",
        "if idade >= 18:\n",
        "  print('Maior de idade')\n",
        "else:\n",
        "  print('Menor de idade')\n",
        "\n",
        "#USANDO O OPERADOR TERNÁRIO\n",
        "idade = 25\n",
        "#expresssão de saída IF condição ELSE expressão\n",
        "print('Maior de idade') if idade >= 18 else print('Maior de idade')\n",
        "\n"
      ],
      "metadata": {
        "colab": {
          "base_uri": "https://localhost:8080/"
        },
        "id": "cKVKvlN1f88_",
        "outputId": "90b714bf-fdb6-48bc-b54c-62667594cbf1"
      },
      "execution_count": null,
      "outputs": [
        {
          "output_type": "stream",
          "name": "stdout",
          "text": [
            "Menor de idade\n",
            "Maior de idade\n"
          ]
        }
      ]
    },
    {
      "cell_type": "code",
      "source": [
        "possui_passaporte = False\n",
        "print('Favor embarcar') if possui_passaporte else print('Favor tirar um passaporte')"
      ],
      "metadata": {
        "colab": {
          "base_uri": "https://localhost:8080/"
        },
        "id": "GVWx46PTi0_a",
        "outputId": "259c515d-82be-468c-f518-b31bdfc5a4fd"
      },
      "execution_count": null,
      "outputs": [
        {
          "output_type": "stream",
          "name": "stdout",
          "text": [
            "Favor tirar um passaporte\n"
          ]
        }
      ]
    },
    {
      "cell_type": "markdown",
      "source": [
        "####Desafio"
      ],
      "metadata": {
        "id": "6gPbGuellfu4"
      }
    },
    {
      "cell_type": "code",
      "source": [],
      "metadata": {
        "id": "ODNWXEnzlkp_"
      },
      "execution_count": null,
      "outputs": []
    },
    {
      "cell_type": "markdown",
      "metadata": {
        "id": "KH_6qjywpoce"
      },
      "source": [
        "###Formatando casas decimais no print"
      ]
    },
    {
      "cell_type": "code",
      "execution_count": null,
      "metadata": {
        "colab": {
          "base_uri": "https://localhost:8080/"
        },
        "id": "ITqNRIPIm5Rd",
        "outputId": "c91ff544-a8ee-4faf-96cd-decbaf36b4d5"
      },
      "outputs": [
        {
          "name": "stdout",
          "output_type": "stream",
          "text": [
            "Premio total da Mega: 89754285\n",
            "Numero de ganhadores: 3\n",
            "Cada um vai ficar com R$ 29918095.0\n",
            "Cada um vai ficar com R$ 29918095.0\n",
            "Cada um vai ficar com R$ 29918095.00\n",
            "Cada um vai ficar com R$ 29918095.000\n"
          ]
        }
      ],
      "source": [
        "# Prêmio da Mega-Sena\n",
        "total = float( input('Premio total da Mega: ') )\n",
        "\n",
        "# Número de ganhadores\n",
        "num = int( input('Numero de ganhadores: ') )\n",
        "\n",
        "print('Cada um vai ficar com R$', (total/num) )\n",
        "print('Cada um vai ficar com R$ %.1f'%(total/num) )\n",
        "print('Cada um vai ficar com R$ %.2f'%(total/num) )\n",
        "print('Cada um vai ficar com R$ %.3f'%(total/num) )\n"
      ]
    },
    {
      "cell_type": "markdown",
      "source": [
        "###Convertendo tipos"
      ],
      "metadata": {
        "id": "TghFi-ZbTGmf"
      }
    },
    {
      "cell_type": "code",
      "source": [
        "#Conversão de tipos\n",
        "idade = input('Qual é a sua idade? ')#em regra o input é uma string\n",
        "\n",
        "print(int(idade)>18)"
      ],
      "metadata": {
        "colab": {
          "base_uri": "https://localhost:8080/"
        },
        "id": "Dy3Y8YYWTQnH",
        "outputId": "5db7d06f-84eb-4c11-e9c1-758c2e00975f"
      },
      "execution_count": null,
      "outputs": [
        {
          "output_type": "stream",
          "name": "stdout",
          "text": [
            "Qual é a sua idade? 15\n",
            "False\n"
          ]
        }
      ]
    },
    {
      "cell_type": "markdown",
      "source": [
        "###Loop **FOR** (laço de repetição)"
      ],
      "metadata": {
        "id": "yV7OhinWolwN"
      }
    },
    {
      "cell_type": "code",
      "source": [
        "#inicia no zero e vai até 6\n",
        "for numero in range(6):\n",
        "  print('Carregando', numero)"
      ],
      "metadata": {
        "colab": {
          "base_uri": "https://localhost:8080/"
        },
        "id": "XyIygG3Zo301",
        "outputId": "94282db7-c1dd-4a5c-c4e9-fdf7be0d78e9"
      },
      "execution_count": null,
      "outputs": [
        {
          "output_type": "stream",
          "name": "stdout",
          "text": [
            "Carregando 0\n",
            "Carregando 1\n",
            "Carregando 2\n",
            "Carregando 3\n",
            "Carregando 4\n"
          ]
        }
      ]
    },
    {
      "cell_type": "code",
      "source": [
        "#inicia no 2 até 6\n",
        "for numero in range(2,6):\n",
        "  print('Carregando', numero)"
      ],
      "metadata": {
        "colab": {
          "base_uri": "https://localhost:8080/"
        },
        "id": "fTT-MFJhprNa",
        "outputId": "2cc59d0d-9dc6-485d-d8f4-909ec69f37b1"
      },
      "execution_count": null,
      "outputs": [
        {
          "output_type": "stream",
          "name": "stdout",
          "text": [
            "Carregando 2\n",
            "Carregando 3\n",
            "Carregando 4\n",
            "Carregando 5\n"
          ]
        }
      ]
    },
    {
      "cell_type": "code",
      "source": [
        "#inicia no 1 até 9, e pula 2\n",
        "for numero in range(1,9,2):\n",
        "  print('Carregando', numero)"
      ],
      "metadata": {
        "colab": {
          "base_uri": "https://localhost:8080/"
        },
        "id": "AZIw0HX-qCWd",
        "outputId": "9fcff165-29e6-4b72-fa96-726ae327241d"
      },
      "execution_count": null,
      "outputs": [
        {
          "output_type": "stream",
          "name": "stdout",
          "text": [
            "Carregando 1\n",
            "Carregando 3\n",
            "Carregando 5\n",
            "Carregando 7\n"
          ]
        }
      ]
    },
    {
      "cell_type": "code",
      "source": [
        "#Imprimindo listas usando laços de repetição\n",
        "nomes = ['João', 'Carl','Jean','Luke','Mario']\n",
        "for x in nomes:\n",
        "  print(x)\n",
        "\n"
      ],
      "metadata": {
        "colab": {
          "base_uri": "https://localhost:8080/"
        },
        "id": "dFUIOzO3qaha",
        "outputId": "c6f5ac30-7112-44e1-f2c0-588f8a0db64b"
      },
      "execution_count": null,
      "outputs": [
        {
          "output_type": "stream",
          "name": "stdout",
          "text": [
            "João\n",
            "Carl\n",
            "Jean\n",
            "Luke\n",
            "Mario\n"
          ]
        }
      ]
    },
    {
      "cell_type": "code",
      "source": [
        "#Imprimindo listas usando laços de repetição\n",
        "frutas = ['banana', 'uva','Pitanga','Tamarindo','limão','Goiaba','laranja']\n",
        "for fruta in frutas:\n",
        "  print(fruta)\n"
      ],
      "metadata": {
        "colab": {
          "base_uri": "https://localhost:8080/"
        },
        "id": "wU9ejvnWr5v8",
        "outputId": "229f9b8a-709c-4e9e-95cd-52b9c958924d"
      },
      "execution_count": null,
      "outputs": [
        {
          "output_type": "stream",
          "name": "stdout",
          "text": [
            "banana\n",
            "uva\n",
            "Pitanga\n",
            "Tamarindo\n",
            "limão\n",
            "Goiaba\n",
            "laranja\n"
          ]
        }
      ]
    },
    {
      "cell_type": "markdown",
      "source": [
        "###Nested Loops (Loops aninhados)"
      ],
      "metadata": {
        "id": "hpaTe0HIsiJA"
      }
    },
    {
      "cell_type": "code",
      "source": [
        "#Loop Animados\n",
        "# Lista de Países + Lista de Estações do ano\n",
        "países = ['Brasil','India','Holanda']\n",
        "Estacoes_do_ano = ['Primareve', 'Verão', 'Outono', 'inverno']\n",
        "for pais in países: #primeira lista\n",
        "  for estacao in Estacoes_do_ano:#Segunda lista\n",
        "    print(f'{pais} {estacao}')#agrupando as listas"
      ],
      "metadata": {
        "colab": {
          "base_uri": "https://localhost:8080/"
        },
        "id": "IZNKUPpAsqd0",
        "outputId": "d0473941-a36d-4fbd-9020-a402dba48af3"
      },
      "execution_count": null,
      "outputs": [
        {
          "output_type": "stream",
          "name": "stdout",
          "text": [
            "Brasil Primareve\n",
            "Brasil Verão\n",
            "Brasil Outono\n",
            "Brasil inverno\n",
            "India Primareve\n",
            "India Verão\n",
            "India Outono\n",
            "India inverno\n",
            "Holanda Primareve\n",
            "Holanda Verão\n",
            "Holanda Outono\n",
            "Holanda inverno\n"
          ]
        }
      ]
    },
    {
      "cell_type": "markdown",
      "source": [
        "###ITERAR\n"
      ],
      "metadata": {
        "id": "EbMoB_G9CdMO"
      }
    },
    {
      "cell_type": "code",
      "source": [
        "#Exemplo1\n",
        "\n",
        "for item in range (5):\n",
        "  print(item)"
      ],
      "metadata": {
        "colab": {
          "base_uri": "https://localhost:8080/"
        },
        "id": "9np2TV0rDSa9",
        "outputId": "2085602a-a83d-4483-a842-63bcf8af68a4"
      },
      "execution_count": null,
      "outputs": [
        {
          "output_type": "stream",
          "name": "stdout",
          "text": [
            "0\n",
            "1\n",
            "2\n",
            "3\n",
            "4\n"
          ]
        }
      ]
    },
    {
      "cell_type": "code",
      "source": [
        "fruta = \"banana\"\n",
        "\n",
        "for x in fruta:\n",
        "  print(x)"
      ],
      "metadata": {
        "colab": {
          "base_uri": "https://localhost:8080/"
        },
        "id": "38cpNgjqE3WO",
        "outputId": "ea14d629-575f-46cd-cc4f-a95a318c7e6b"
      },
      "execution_count": null,
      "outputs": [
        {
          "output_type": "stream",
          "name": "stdout",
          "text": [
            "b\n",
            "a\n",
            "n\n",
            "a\n",
            "n\n",
            "a\n"
          ]
        }
      ]
    },
    {
      "cell_type": "code",
      "source": [
        "for item in ['x',4,8,'b','H','Z','M',9]:\n",
        "  print(item)"
      ],
      "metadata": {
        "colab": {
          "base_uri": "https://localhost:8080/"
        },
        "id": "uweOnruOFm7G",
        "outputId": "16465ac2-11f6-4ed8-a98c-49985a3b5072"
      },
      "execution_count": null,
      "outputs": [
        {
          "output_type": "stream",
          "name": "stdout",
          "text": [
            "x\n",
            "4\n",
            "8\n",
            "b\n",
            "H\n",
            "Z\n",
            "M\n",
            "9\n"
          ]
        }
      ]
    },
    {
      "cell_type": "code",
      "source": [
        "#Iterar sobre uma lista de númeoros e calcular a soma:\n",
        "numeros = [1,2,3,4,5] #lista\n",
        "soma = 0 #variável inicia com zero.\n",
        "\n",
        "for num in numeros:\n",
        "  soma += num\n",
        "  print(soma)\n",
        "\n"
      ],
      "metadata": {
        "colab": {
          "base_uri": "https://localhost:8080/"
        },
        "id": "EavGMlZqLmbq",
        "outputId": "cc8b7ce5-48e7-4912-bf4a-a88f27f6c9ab"
      },
      "execution_count": null,
      "outputs": [
        {
          "output_type": "stream",
          "name": "stdout",
          "text": [
            "1\n",
            "3\n",
            "6\n",
            "10\n",
            "15\n"
          ]
        }
      ]
    },
    {
      "cell_type": "code",
      "source": [
        "#Iterar sobre uma string e contar o número de ocorrências de uma letra:\n",
        "texto = \"hello world\"\n",
        "contador = 0\n",
        "\n",
        "for letra in texto:\n",
        "  if letra =='l':\n",
        "    contador +=1\n",
        "print(contador)"
      ],
      "metadata": {
        "colab": {
          "base_uri": "https://localhost:8080/"
        },
        "id": "rSmq6h_mMdb5",
        "outputId": "2e0b7e21-9335-4595-980e-0eb81f5fac6c"
      },
      "execution_count": null,
      "outputs": [
        {
          "output_type": "stream",
          "name": "stdout",
          "text": [
            "3\n"
          ]
        }
      ]
    },
    {
      "cell_type": "code",
      "source": [
        "#Iterar sobre uma lista e filtrar os elementos que atendem a um condição:\n",
        "numeros=[1,2,3,4,5,6,7,8,9]\n",
        "pares = []\n",
        "for num in numeros:\n",
        "  if num %2 ==0:\n",
        "    pares.append(num)\n",
        "print (pares)"
      ],
      "metadata": {
        "colab": {
          "base_uri": "https://localhost:8080/"
        },
        "id": "vZ9Fo_C4NCj3",
        "outputId": "8c24747e-9bfa-4cf7-d6ad-390c2caf7eb3"
      },
      "execution_count": null,
      "outputs": [
        {
          "output_type": "stream",
          "name": "stdout",
          "text": [
            "[2, 4, 6, 8]\n"
          ]
        }
      ]
    },
    {
      "cell_type": "code",
      "source": [],
      "metadata": {
        "id": "a4E4RM1oOMLK"
      },
      "execution_count": null,
      "outputs": []
    },
    {
      "cell_type": "markdown",
      "source": [
        "###WHILE (laço While)\n"
      ],
      "metadata": {
        "id": "G5hCl-LgG17v"
      }
    },
    {
      "cell_type": "code",
      "source": [
        "i = 1\n",
        "while i <=5:\n",
        "  if i ==3:\n",
        "    break\n",
        "  print(i)\n",
        "  i+=1\n"
      ],
      "metadata": {
        "colab": {
          "base_uri": "https://localhost:8080/"
        },
        "id": "7FhPCyPvzO6X",
        "outputId": "9bbda7db-3fb2-4050-86dc-a0da341731c1"
      },
      "execution_count": null,
      "outputs": [
        {
          "output_type": "stream",
          "name": "stdout",
          "text": [
            "1\n",
            "2\n"
          ]
        }
      ]
    },
    {
      "cell_type": "code",
      "source": [
        "#imprimir todos os números pares entre 1 e 10:\n",
        "i = 1\n",
        "while i <= 10:\n",
        "  if i%2==0:\n",
        "    print(i)\n",
        "  i+=1"
      ],
      "metadata": {
        "colab": {
          "base_uri": "https://localhost:8080/"
        },
        "id": "k7I74Bv_19Bc",
        "outputId": "1ccee683-4ba5-4f12-f245-da1af62b616b"
      },
      "execution_count": null,
      "outputs": [
        {
          "output_type": "stream",
          "name": "stdout",
          "text": [
            "2\n",
            "4\n",
            "6\n",
            "8\n",
            "10\n"
          ]
        }
      ]
    },
    {
      "cell_type": "code",
      "source": [
        "tentativas = 0 #VAriável inicia em zero\n",
        "while tentativas <3: #enquanto tentativas for menor que 3 print \"tentar novamente\"\n",
        "  print(\"tentar novamente\")\n",
        "  tentativas +=1\n"
      ],
      "metadata": {
        "colab": {
          "base_uri": "https://localhost:8080/"
        },
        "id": "R5gUM0C4HE-m",
        "outputId": "97473af6-3373-4cfa-9dd6-e41acf08398d"
      },
      "execution_count": null,
      "outputs": [
        {
          "output_type": "stream",
          "name": "stdout",
          "text": [
            "tentar novamente\n",
            "tentar novamente\n",
            "tentar novamente\n"
          ]
        }
      ]
    },
    {
      "cell_type": "code",
      "source": [
        "tentativas = 1\n",
        "while tentativas <=3:\n",
        "  print(f'Você tentou  {tentativas} vez(es), tente novamente')\n",
        "  tentativas +=1"
      ],
      "metadata": {
        "colab": {
          "base_uri": "https://localhost:8080/"
        },
        "id": "lW9jYhN-LLhs",
        "outputId": "e333b690-4e74-4e98-badf-dc71fd258ad8"
      },
      "execution_count": null,
      "outputs": [
        {
          "output_type": "stream",
          "name": "stdout",
          "text": [
            "Você tentou  1 vez(es), tente novamente\n",
            "Você tentou  2 vez(es), tente novamente\n",
            "Você tentou  3 vez(es), tente novamente\n"
          ]
        }
      ]
    },
    {
      "cell_type": "code",
      "source": [
        "lista = 0   # a lista inicia em zero\n",
        "while lista < 5: #enquanto a lista for menor que cinco, será executado.\n",
        "    print(lista)\n",
        "    lista += 1\n",
        "else:\n",
        "    print(\"fim bloco while\")"
      ],
      "metadata": {
        "colab": {
          "base_uri": "https://localhost:8080/"
        },
        "id": "uKTITM85UdzA",
        "outputId": "3df074d2-e539-4a10-960e-53f9cf8a5f43"
      },
      "execution_count": null,
      "outputs": [
        {
          "output_type": "stream",
          "name": "stdout",
          "text": [
            "0\n",
            "1\n",
            "2\n",
            "3\n",
            "4\n",
            "fim bloco while\n"
          ]
        }
      ]
    },
    {
      "cell_type": "code",
      "source": [
        "#SENHAS\n",
        "senha =''\n",
        "while senha != '123456': #enquanto a senha for diferente de 123456\n",
        "  senha = input('Digite sua senha de 6 dígitos(apenas números): ')\n",
        "print('Sua senha está correta, seja bem-Vindo')"
      ],
      "metadata": {
        "colab": {
          "base_uri": "https://localhost:8080/"
        },
        "id": "9iVCIhT1U-v3",
        "outputId": "9caef1d3-dc67-43b4-dfb9-73b70cd14136"
      },
      "execution_count": null,
      "outputs": [
        {
          "output_type": "stream",
          "name": "stdout",
          "text": [
            "Digite sua senha de 6 dígitos(apenas números): 123456\n",
            "Sua senha está correta, seja bem-Vindo\n"
          ]
        }
      ]
    },
    {
      "cell_type": "code",
      "source": [
        "#Nome\n",
        "login =''#inicia vazio\n",
        "while login == '': #enquanto o login for vazio\n",
        "  login = input('Digite seu nome: ')\n",
        "  print(f'Seja Bem-Vindo,{login}')"
      ],
      "metadata": {
        "colab": {
          "base_uri": "https://localhost:8080/"
        },
        "id": "O98GaPFnVmxl",
        "outputId": "126e0766-becf-452f-9894-9a2263327dd9"
      },
      "execution_count": null,
      "outputs": [
        {
          "output_type": "stream",
          "name": "stdout",
          "text": [
            "Digite seu nome: Olavo\n",
            "Seja Bem-Vindo,Olavo\n"
          ]
        }
      ]
    },
    {
      "cell_type": "code",
      "source": [
        "#ver por do sol\n",
        "horario = 15\n",
        "while horario <= 17:\n",
        "  print(f'{horario} horas, ainda não tem por do sol')\n",
        "  horario +=1\n",
        "print('São mais de 17 horas, é hora de ver o por do sol')"
      ],
      "metadata": {
        "colab": {
          "base_uri": "https://localhost:8080/"
        },
        "id": "voCz3k9ha_oV",
        "outputId": "1249252b-49eb-4ce9-983a-09150bc96a24"
      },
      "execution_count": null,
      "outputs": [
        {
          "output_type": "stream",
          "name": "stdout",
          "text": [
            "15 horas, ainda não tem por do sol\n",
            "16 horas, ainda não tem por do sol\n",
            "17 horas, ainda não tem por do sol\n",
            "São mais de 17 horas, é hora de ver o por do sol\n"
          ]
        }
      ]
    },
    {
      "cell_type": "code",
      "source": [
        "#SENHAS\n",
        "senha =''\n",
        "while senha != '123': #enquanto a senha for diferente de 123456\n",
        "  senha = input('Digite sua senha de 3 dígitos(apenas números): ')\n",
        "  print('Sua senha ou seu login não conferem, tente de novo!')\n",
        "print('Bem-Vindo')"
      ],
      "metadata": {
        "colab": {
          "base_uri": "https://localhost:8080/"
        },
        "id": "jyJoyE0UQqlY",
        "outputId": "8a2d75c2-3f5f-4f78-8652-edab269e8d99"
      },
      "execution_count": null,
      "outputs": [
        {
          "output_type": "stream",
          "name": "stdout",
          "text": [
            "Digite sua senha de 3 dígitos(apenas números): 456\n",
            "Sua senha ou seu login não conferem, tente de novo!\n",
            "Digite sua senha de 3 dígitos(apenas números): 123\n",
            "Sua senha ou seu login não conferem, tente de novo!\n",
            "Bem-Vindo\n"
          ]
        }
      ]
    },
    {
      "cell_type": "markdown",
      "source": [],
      "metadata": {
        "id": "xQyXM731r_K9"
      }
    },
    {
      "cell_type": "code",
      "source": [
        "#contagem regressiva\n",
        "contador = 8 #inicia no 8\n",
        "while contador >=0: #até zero.\n",
        "  print (contador)\n",
        "  contador -=1"
      ],
      "metadata": {
        "colab": {
          "base_uri": "https://localhost:8080/"
        },
        "id": "aCIZX6sGljDv",
        "outputId": "88e89e0b-eb8c-458e-8af7-00649ca6f286"
      },
      "execution_count": null,
      "outputs": [
        {
          "output_type": "stream",
          "name": "stdout",
          "text": [
            "8\n",
            "7\n",
            "6\n",
            "5\n",
            "4\n",
            "3\n",
            "2\n",
            "1\n",
            "0\n"
          ]
        }
      ]
    },
    {
      "cell_type": "code",
      "source": [],
      "metadata": {
        "id": "PZ4hWKJEniLH"
      },
      "execution_count": null,
      "outputs": []
    },
    {
      "cell_type": "markdown",
      "source": [
        "####desafio Loop WHILE"
      ],
      "metadata": {
        "id": "vDFXxS_MmecL"
      }
    },
    {
      "cell_type": "code",
      "source": [
        "#Crie um loop while que irá continuamente pedir ao usuário a senha para entrada,\n",
        "# e só irá permitir o programa continuar caso ele digite a senha 'secreto'\n",
        "senha = ''\n",
        "while senha != 'secreto':\n",
        "  senha = input(\"digite sua senha: \")"
      ],
      "metadata": {
        "colab": {
          "base_uri": "https://localhost:8080/"
        },
        "id": "XvLCl-SKmn1X",
        "outputId": "a772072c-0bd0-4bea-e287-5a20ec8f48e0"
      },
      "execution_count": null,
      "outputs": [
        {
          "name": "stdout",
          "output_type": "stream",
          "text": [
            "digite sua senha: ghj\n",
            "digite sua senha: secreto\n"
          ]
        }
      ]
    },
    {
      "cell_type": "markdown",
      "source": [
        "###Pass"
      ],
      "metadata": {
        "id": "qlWbMmfmsAmk"
      }
    },
    {
      "cell_type": "markdown",
      "source": [
        "###FOR\n",
        "lista fixa\n"
      ],
      "metadata": {
        "id": "bo8qv5ah-t1n"
      }
    },
    {
      "cell_type": "code",
      "source": [
        "#Faça um programa que imprima na tela os números de 1 a 5, utilizando o for.\n",
        "numeros = [1, 2, 3, 4, 5]\n",
        "\n",
        "for numero in numeros:\n",
        "    print(numero)"
      ],
      "metadata": {
        "colab": {
          "base_uri": "https://localhost:8080/"
        },
        "id": "JbcilPlJxc9z",
        "outputId": "7668fca3-05a8-4f1c-ef73-02733aee4d8b"
      },
      "execution_count": null,
      "outputs": [
        {
          "output_type": "stream",
          "name": "stdout",
          "text": [
            "1\n",
            "2\n",
            "3\n",
            "4\n",
            "5\n"
          ]
        }
      ]
    },
    {
      "cell_type": "code",
      "source": [
        "nomes = ['Pedro', 'João', 'Leticia']\n",
        "# Para cada item n em nomes, mostrar e\n",
        "for n in nomes:\n",
        "    print(n)"
      ],
      "metadata": {
        "colab": {
          "base_uri": "https://localhost:8080/"
        },
        "id": "84gEUZS_-zp0",
        "outputId": "b7552cd7-3e29-4f8d-cb3b-8a8adbd029f4"
      },
      "execution_count": null,
      "outputs": [
        {
          "output_type": "stream",
          "name": "stdout",
          "text": [
            "Pedro\n",
            "João\n",
            "Leticia\n"
          ]
        }
      ]
    },
    {
      "cell_type": "code",
      "source": [
        "#Entrada de dados\n",
        "numero_inicial = int(input('Começar por qual número? '))\n",
        "numero_final = int(input('Terminar em qual número? '))\n",
        "\n",
        "Lista = (numero_inicial,numero_final)\n",
        "\n",
        "for numero in Lista:\n",
        "  print(numero)\n",
        "\n",
        "print(Lista)"
      ],
      "metadata": {
        "colab": {
          "base_uri": "https://localhost:8080/"
        },
        "id": "eM2dtqDh6zV2",
        "outputId": "a960c740-27e8-4204-ba13-91b86d146b3f"
      },
      "execution_count": null,
      "outputs": [
        {
          "output_type": "stream",
          "name": "stdout",
          "text": [
            "Começar por qual número? 1\n",
            "Terminar em qual número? 5\n",
            "1\n",
            "5\n",
            "(1, 5)\n"
          ]
        }
      ]
    },
    {
      "cell_type": "code",
      "source": [
        "for produto in range(0,2):\n",
        "  p = str(input('Digite o nome de um produto: '))\n",
        "  v = float(input('Digite o valor do produto: '))"
      ],
      "metadata": {
        "colab": {
          "base_uri": "https://localhost:8080/"
        },
        "id": "SOBUFpurOUMh",
        "outputId": "a3ea2c8c-b2f5-4e7e-98a8-e2af42ea4660"
      },
      "execution_count": null,
      "outputs": [
        {
          "name": "stdout",
          "output_type": "stream",
          "text": [
            "Digite o nome de um produto: d\n",
            "Digite o valor do produto: 1\n",
            "Digite o nome de um produto: g\n",
            "Digite o valor do produto: 4\n"
          ]
        }
      ]
    },
    {
      "cell_type": "code",
      "source": [
        "#Iterar sobre uma lista e filtrar os elementos que atendem a um condição:\n",
        "numeros=[1,2,3,4,5,6,7,8,9]\n",
        "pares = []\n",
        "for num in numeros:\n",
        "  if num %2 ==0:\n",
        "    pares.append(num)\n",
        "print (pares)"
      ],
      "metadata": {
        "colab": {
          "base_uri": "https://localhost:8080/"
        },
        "id": "ZSXNg2FIQ15m",
        "outputId": "3c28c8a2-b30c-49fd-bc01-0b2d2db26810"
      },
      "execution_count": null,
      "outputs": [
        {
          "output_type": "stream",
          "name": "stdout",
          "text": [
            "[2, 4, 6, 8]\n"
          ]
        }
      ]
    },
    {
      "cell_type": "code",
      "source": [
        "minha_lista = []#lista vazia\n",
        "for variante in range(10):#lista do zero até 9\n",
        "  minha_lista.append(variante**2)#como completar a lista expoente\n",
        "print(minha_lista)"
      ],
      "metadata": {
        "colab": {
          "base_uri": "https://localhost:8080/"
        },
        "id": "yh7QkhHstTAj",
        "outputId": "0f25e177-0f5f-4d7d-92c5-81e0618dfc42"
      },
      "execution_count": null,
      "outputs": [
        {
          "output_type": "stream",
          "name": "stdout",
          "text": [
            "[0, 1, 4, 9, 16, 25, 36, 49, 64, 81]\n"
          ]
        }
      ]
    },
    {
      "cell_type": "code",
      "source": [
        "minha_lista = []#lista vazia\n",
        "for variante in range(10):#lista do zero até 9\n",
        "  minha_lista.append(variante**3)#como completar a lista expoente\n",
        "print(minha_lista)"
      ],
      "metadata": {
        "colab": {
          "base_uri": "https://localhost:8080/"
        },
        "id": "16gi0qJ1uEk1",
        "outputId": "88b71738-450e-463c-9659-538be81796c2"
      },
      "execution_count": null,
      "outputs": [
        {
          "output_type": "stream",
          "name": "stdout",
          "text": [
            "[0, 1, 8, 27, 64, 125, 216, 343, 512, 729]\n"
          ]
        }
      ]
    },
    {
      "cell_type": "markdown",
      "source": [
        "####Desafio Tabuada"
      ],
      "metadata": {
        "id": "3oHUw2DD131g"
      }
    },
    {
      "cell_type": "code",
      "source": [
        "#Desenvolva um gerador de tabuada, capaz de gerar a tabuada de qualquer número inteiro entre 0 a 10.\n",
        "#O usuário deve informar de qual número ele deseja ver a tabuada.\n",
        "\n",
        "#RESOLUÇÃO\n",
        "#Criando a entrada de dados.\n",
        "tabuada = int(input('Quer a tabuada de qual número? '))\n",
        "\n",
        "#Criando uma tupla com os números de 0 a 10(11 é exclusivo)\n",
        "for numero in range(11):\n",
        "  # multiplicando os elementos de cada tupla.\n",
        "    resultado = tabuada * numero\n",
        "    #imprimindo na forma de tabuada\n",
        "    print(f'{tabuada} X {numero} = {resultado}')"
      ],
      "metadata": {
        "colab": {
          "base_uri": "https://localhost:8080/"
        },
        "id": "-kwDQdch1uVD",
        "outputId": "79973236-1353-47cd-d162-bbb535a79cd1"
      },
      "execution_count": null,
      "outputs": [
        {
          "output_type": "stream",
          "name": "stdout",
          "text": [
            "Quer a tabuada de qual número? 5\n",
            "5 X 0 = 0\n",
            "5 X 1 = 5\n",
            "5 X 2 = 10\n",
            "5 X 3 = 15\n",
            "5 X 4 = 20\n",
            "5 X 5 = 25\n",
            "5 X 6 = 30\n",
            "5 X 7 = 35\n",
            "5 X 8 = 40\n",
            "5 X 9 = 45\n",
            "5 X 10 = 50\n"
          ]
        }
      ]
    },
    {
      "cell_type": "markdown",
      "source": [
        "####Desafio Tabuada personalizada\n"
      ],
      "metadata": {
        "id": "d6bqHEjy5Zf-"
      }
    },
    {
      "cell_type": "code",
      "source": [
        "\n",
        "#Entrada de dados\n",
        "tabuada = int(input('Quer a tabuada de qual número? '))\n",
        "numero_inicial = int(input('Começar por qual número? '))\n",
        "numero_final = int(input('Terminar em qual número? '))\n",
        "\n",
        "print(f'Tabuada de {tabuada}, começando em {numero_inicial} e terminando em {numero_final}:')\n",
        "\n",
        "#Utilize a função range() para gerar os números\n",
        "\n",
        "for numero in range(numero_inicial, numero_final + 1):\n",
        "    resultado = tabuada * numero\n",
        "    print(f'{tabuada} X {numero} = {resultado}')"
      ],
      "metadata": {
        "colab": {
          "base_uri": "https://localhost:8080/"
        },
        "id": "9Jskqp5h5wtC",
        "outputId": "cb72ad15-8bd9-4fcf-96cf-6c3d25215651"
      },
      "execution_count": null,
      "outputs": [
        {
          "output_type": "stream",
          "name": "stdout",
          "text": [
            "Quer a tabuada de qual número? 5\n",
            "Começar por qual número? 6\n",
            "Terminar em qual número? 9\n",
            "Tabuada de 5, começando em 6 e terminando em 9:\n",
            "5 X 6 = 30\n",
            "5 X 7 = 35\n",
            "5 X 8 = 40\n",
            "5 X 9 = 45\n"
          ]
        }
      ]
    },
    {
      "cell_type": "markdown",
      "source": [
        "####Qual é o maior e o menor número?"
      ],
      "metadata": {
        "id": "8b6hpdtU3Evo"
      }
    },
    {
      "cell_type": "code",
      "source": [
        "#Faça um código que leia 5 números e informe o menor e o maior número dentre eles.\n",
        "#Utilize uma list para armazenar os números informados pelo usuário.\n",
        "\n",
        "numeros = []\n",
        "\n",
        "for i in range(1, 6):\n",
        "    numero = int(input(f'Informe o número #{i}: '))\n",
        "    numeros.append(numero)\n",
        "\n",
        "menor_numero = 999999999999\n",
        "maior_numero = -999999999999\n",
        "\n",
        "for numero in numeros:\n",
        "    if numero > maior_numero:\n",
        "        maior_numero = numero\n",
        "\n",
        "    if numero < menor_numero:\n",
        "        menor_numero = numero\n",
        "\n",
        "\n",
        "print(f'Menor número informado foi: {menor_numero}')\n",
        "print(f'Maior número informado foi: {maior_numero}')"
      ],
      "metadata": {
        "colab": {
          "base_uri": "https://localhost:8080/"
        },
        "id": "jQCSuDGE3Mrz",
        "outputId": "3f9ec856-0016-4adf-ad33-bd3fb9c764a7"
      },
      "execution_count": null,
      "outputs": [
        {
          "output_type": "stream",
          "name": "stdout",
          "text": [
            "Informe o número #1: 1\n",
            "Informe o número #2: 8\n",
            "Informe o número #3: 99\n",
            "Informe o número #4: 4\n",
            "Informe o número #5: 9\n",
            "Menor número informado foi: 1\n",
            "Maior número informado foi: 99\n"
          ]
        }
      ]
    },
    {
      "cell_type": "markdown",
      "source": [
        "###Range\n",
        "\n",
        "A função range() é uma que retorna um objeto iterável de números inteiros em um intervalo especificado. Ela pode ser usada para criar sequências numéricas, gerar listas, ou iterar com laços for. A sintaxe da função range() é:\n",
        "range(inicio, fim, passo)\n"
      ],
      "metadata": {
        "id": "wzMiZ6Rn0qMf"
      }
    },
    {
      "cell_type": "code",
      "source": [
        "for numero in range(10,21,5):\n",
        "    print(numero)"
      ],
      "metadata": {
        "colab": {
          "base_uri": "https://localhost:8080/"
        },
        "id": "ioKQDIVS6iXT",
        "outputId": "46fcc5b4-4b72-4144-ce6f-ec80ace986fa"
      },
      "execution_count": null,
      "outputs": [
        {
          "output_type": "stream",
          "name": "stdout",
          "text": [
            "10\n",
            "15\n",
            "20\n"
          ]
        }
      ]
    },
    {
      "cell_type": "code",
      "source": [
        "#Crie uma sequência de 0 a 9 em forma de lista.\n",
        "print (list(range(10)))"
      ],
      "metadata": {
        "colab": {
          "base_uri": "https://localhost:8080/"
        },
        "id": "GkzbKQUPreTn",
        "outputId": "e4f9dcad-23c0-4ba2-ffbc-d37935a325de"
      },
      "execution_count": null,
      "outputs": [
        {
          "output_type": "stream",
          "name": "stdout",
          "text": [
            "[0, 1, 2, 3, 4, 5, 6, 7, 8, 9]\n"
          ]
        }
      ]
    },
    {
      "cell_type": "code",
      "source": [
        "#Crie uma sequência de 1 a 10\n",
        "print (list(range(1,11)))"
      ],
      "metadata": {
        "colab": {
          "base_uri": "https://localhost:8080/"
        },
        "id": "-7RkHCRMsH2c",
        "outputId": "14eea956-e1b5-4114-a988-782ff5913f56"
      },
      "execution_count": null,
      "outputs": [
        {
          "output_type": "stream",
          "name": "stdout",
          "text": [
            "[1, 2, 3, 4, 5, 6, 7, 8, 9, 10]\n"
          ]
        }
      ]
    },
    {
      "cell_type": "code",
      "source": [
        "#Crie uma sequência numérica negativa 0 a -9\n",
        "print (list(range(0,-10,-1)))"
      ],
      "metadata": {
        "colab": {
          "base_uri": "https://localhost:8080/"
        },
        "id": "mlynGeV0tOVc",
        "outputId": "8ed9994e-91f4-45b1-c540-f8ae29c60673"
      },
      "execution_count": null,
      "outputs": [
        {
          "output_type": "stream",
          "name": "stdout",
          "text": [
            "[0, -2, -4, -6, -8]\n"
          ]
        }
      ]
    },
    {
      "cell_type": "code",
      "source": [
        "#crie uma sequência de 0 a 30 com step 5\n",
        "print (list(range(0,30,5)))"
      ],
      "metadata": {
        "colab": {
          "base_uri": "https://localhost:8080/"
        },
        "id": "BsRP3fUIsXB3",
        "outputId": "433782e0-9c0e-4135-a382-cb253a69521e"
      },
      "execution_count": null,
      "outputs": [
        {
          "output_type": "stream",
          "name": "stdout",
          "text": [
            "[0, 5, 10, 15, 20, 25]\n"
          ]
        }
      ]
    },
    {
      "cell_type": "code",
      "source": [
        "print (list(range(6)))\n"
      ],
      "metadata": {
        "colab": {
          "base_uri": "https://localhost:8080/"
        },
        "id": "LzfgzP4i2ng9",
        "outputId": "16cae5e2-173b-4976-8295-b71e63cd8f6e"
      },
      "execution_count": null,
      "outputs": [
        {
          "output_type": "stream",
          "name": "stdout",
          "text": [
            "[0, 1, 2, 3, 4, 5]\n"
          ]
        }
      ]
    },
    {
      "cell_type": "code",
      "source": [
        "vetor = list(range(4))\n",
        "print(\"Antes da execução\")\n",
        "print(vetor)\n",
        "\n",
        "\n"
      ],
      "metadata": {
        "id": "4StcvCmD8MiE",
        "colab": {
          "base_uri": "https://localhost:8080/"
        },
        "outputId": "bc5fd9f2-b848-44ca-9c64-84a665c0a4cc"
      },
      "execution_count": null,
      "outputs": [
        {
          "output_type": "stream",
          "name": "stdout",
          "text": [
            "Antes da execução\n",
            "[0, 1, 2, 3]\n"
          ]
        }
      ]
    },
    {
      "cell_type": "markdown",
      "source": [
        "####Range com FOR"
      ],
      "metadata": {
        "id": "JM1UmwsBtos8"
      }
    },
    {
      "cell_type": "code",
      "source": [
        "#Range (geradores)\n",
        "for numero in range(5):#observe que não inclui o último valor.\n",
        "  print(numero)\n",
        "\n",
        "\n"
      ],
      "metadata": {
        "colab": {
          "base_uri": "https://localhost:8080/"
        },
        "id": "YygMNNtx5TB8",
        "outputId": "5b8f749c-f40d-4761-9f68-24cfb1113d00"
      },
      "execution_count": null,
      "outputs": [
        {
          "output_type": "stream",
          "name": "stdout",
          "text": [
            "0\n",
            "1\n",
            "2\n",
            "3\n",
            "4\n"
          ]
        }
      ]
    },
    {
      "cell_type": "code",
      "source": [
        "# Faça um programa que leia 5 números e informe\n",
        "# a soma e a média dos números.\n",
        "\n",
        "soma = 0 #A variável inicia vazia\n",
        "media = 0 #A variável inicia vazia\n",
        "\n",
        "for i in range(1, 6):\n",
        "    numero = int(input(f'Informe o número #{i}: '))\n",
        "    soma = soma + numero\n",
        "\n",
        "media = soma / 5\n",
        "\n",
        "print(f'A Soma dos números foi de {soma}.')\n",
        "print(f'A Média dos números foi de {media:1.2f}.')\n"
      ],
      "metadata": {
        "colab": {
          "base_uri": "https://localhost:8080/"
        },
        "id": "GmmzjPToRi-w",
        "outputId": "28492d64-b780-46ef-9d1d-90874e7910d3"
      },
      "execution_count": null,
      "outputs": [
        {
          "output_type": "stream",
          "name": "stdout",
          "text": [
            "Informe o número #1: 2\n",
            "Informe o número #2: 3\n",
            "Informe o número #3: 5\n",
            "Informe o número #4: 4\n",
            "Informe o número #5: 6\n",
            "A Soma dos números foi de 20.\n",
            "A Média dos números foi de 4.00.\n"
          ]
        }
      ]
    },
    {
      "cell_type": "code",
      "source": [
        "#Create a sequence of numbers from 0 to 5, and print each item in the sequence:\n",
        "\n",
        "x = range(6)\n",
        "for n in x:\n",
        "  print(n)"
      ],
      "metadata": {
        "colab": {
          "base_uri": "https://localhost:8080/"
        },
        "id": "DYca2uC37zNC",
        "outputId": "5dea0163-cdce-45e4-cb48-d94b9704b07a"
      },
      "execution_count": null,
      "outputs": [
        {
          "output_type": "stream",
          "name": "stdout",
          "text": [
            "0\n",
            "1\n",
            "2\n",
            "3\n",
            "4\n",
            "5\n"
          ]
        }
      ]
    },
    {
      "cell_type": "code",
      "source": [
        "for val in range(5):\n",
        "    print(val+1)# para incluir o cinco."
      ],
      "metadata": {
        "colab": {
          "base_uri": "https://localhost:8080/"
        },
        "id": "yT9lUEu02eXl",
        "outputId": "08057db4-41ce-436a-f7bc-17e3508195b4"
      },
      "execution_count": null,
      "outputs": [
        {
          "output_type": "stream",
          "name": "stdout",
          "text": [
            "1\n",
            "2\n",
            "3\n",
            "4\n",
            "5\n"
          ]
        }
      ]
    },
    {
      "cell_type": "code",
      "source": [
        "#Crie um script em Python que imprima os números de 1 até 5 na tela,\n",
        "#usando a função RANGE como elemento de início e o de fim.\"\n",
        "for num in range(1,6):\n",
        "    print(num)"
      ],
      "metadata": {
        "colab": {
          "base_uri": "https://localhost:8080/"
        },
        "id": "AT2joyQAyhcI",
        "outputId": "66c36d40-e5bf-450f-9d69-6dc62165d900"
      },
      "execution_count": null,
      "outputs": [
        {
          "output_type": "stream",
          "name": "stdout",
          "text": [
            "1\n",
            "2\n",
            "3\n",
            "4\n",
            "5\n"
          ]
        }
      ]
    },
    {
      "cell_type": "code",
      "source": [
        "#\"Crie um script em Python que imprima os números pares de 1 até 21.\" e pule 2\n",
        "for val in range(2,21,2): # pula de 2 em dois\n",
        "    print(val)"
      ],
      "metadata": {
        "colab": {
          "base_uri": "https://localhost:8080/"
        },
        "id": "r5lVQ4TBNVEd",
        "outputId": "1995e284-c42f-4557-84ea-011db2c244c0"
      },
      "execution_count": null,
      "outputs": [
        {
          "output_type": "stream",
          "name": "stdout",
          "text": [
            "2\n",
            "4\n",
            "6\n",
            "8\n",
            "10\n",
            "12\n",
            "14\n",
            "16\n",
            "18\n",
            "20\n"
          ]
        }
      ]
    },
    {
      "cell_type": "code",
      "source": [
        "#\"Crie um script em Python que pede qual tabuada o usuário quer ver, em seguida imprima essa tabuada\"\n",
        "tabuada = int(input(\"Qual tabuada fazer: \") )\n",
        "\n",
        "for var in range(1,11):\n",
        "    print(tabuada*var)"
      ],
      "metadata": {
        "colab": {
          "base_uri": "https://localhost:8080/"
        },
        "id": "suK0CoKjNzkE",
        "outputId": "5f28f48e-1b80-49e7-d9e4-b20405fa22be"
      },
      "execution_count": null,
      "outputs": [
        {
          "output_type": "stream",
          "name": "stdout",
          "text": [
            "Qual tabuada fazer: 3\n",
            "3\n",
            "6\n",
            "9\n",
            "12\n",
            "15\n",
            "18\n",
            "21\n",
            "24\n",
            "27\n",
            "30\n"
          ]
        }
      ]
    },
    {
      "cell_type": "code",
      "source": [
        "tabuada = int(input('Digite qual tabuada quer saber: '))\n",
        "for var in range(1,11):\n",
        "  print(tabuada,'x', var,'=',(tabuada * var))"
      ],
      "metadata": {
        "colab": {
          "base_uri": "https://localhost:8080/"
        },
        "id": "d5QHVhPZOVaF",
        "outputId": "628e8bec-968a-41f3-96c4-859efa809c47"
      },
      "execution_count": null,
      "outputs": [
        {
          "output_type": "stream",
          "name": "stdout",
          "text": [
            "Digite qual tabuada quer saber: 8\n",
            "8 x 1 = 8\n",
            "8 x 2 = 16\n",
            "8 x 3 = 24\n",
            "8 x 4 = 32\n",
            "8 x 5 = 40\n",
            "8 x 6 = 48\n",
            "8 x 7 = 56\n",
            "8 x 8 = 64\n",
            "8 x 9 = 72\n",
            "8 x 10 = 80\n"
          ]
        }
      ]
    },
    {
      "cell_type": "markdown",
      "source": [
        "###Tuplas\n",
        "\n",
        "#lanche = suco #variável simples, só tem um espaço na memória\n",
        "# tupla é uma variável composta, pq consigo colocar mais de um valor na mesma variável.\n",
        "#As tuplas são imutáveis\n",
        "#tuplas não podem ser atribuídos valores depois de declarados, para alterar preciso fazer uma nova declaração de valores.\n",
        "\n",
        "#listas\n",
        "#dicionários\n"
      ],
      "metadata": {
        "id": "j1Mr3RJKL8Ls"
      }
    },
    {
      "cell_type": "markdown",
      "source": [
        "#####Criando uma Tupla"
      ],
      "metadata": {
        "id": "Iy5p3MhFVtx_"
      }
    },
    {
      "cell_type": "code",
      "source": [
        "#TUPLAS\n",
        "#criando uma Tupla\n",
        "valores = (23,43,65)\n",
        "#acessando uma tupla\n",
        "print(valores[1])#acessando a tupla valores pelo índice 1\n",
        "sites = ('Facebook', 'instagram')\n",
        "#Unindo Tuplas.\n",
        "dados_do_sistema = sites + valores\n",
        "print(dados_do_sistema)\n"
      ],
      "metadata": {
        "colab": {
          "base_uri": "https://localhost:8080/"
        },
        "id": "yuwfwOSuw1Bu",
        "outputId": "6af8ea7a-5fcd-4e69-a221-7aa6de235af5"
      },
      "execution_count": null,
      "outputs": [
        {
          "output_type": "stream",
          "name": "stdout",
          "text": [
            "43\n",
            "('Facebook', 'instagram', 23, 43, 65)\n"
          ]
        }
      ]
    },
    {
      "cell_type": "markdown",
      "source": [
        "#####Unindo Tuplas."
      ],
      "metadata": {
        "id": "3YMHDNuWaLmR"
      }
    },
    {
      "cell_type": "code",
      "source": [
        "#UNINDO TUPLAS.\n",
        "valores = (23,43,65)\n",
        "sites = ('Facebook', 'instagram')\n",
        "\n",
        "dados_do_sistema = sites + valores #A ordem da união importa\n",
        "print(dados_do_sistema)"
      ],
      "metadata": {
        "colab": {
          "base_uri": "https://localhost:8080/"
        },
        "id": "rcGgiCEsaTT7",
        "outputId": "3f044e06-04c3-44dc-e4af-5154461930f4"
      },
      "execution_count": null,
      "outputs": [
        {
          "output_type": "stream",
          "name": "stdout",
          "text": [
            "('Facebook', 'instagram', 23, 43, 65)\n"
          ]
        }
      ]
    },
    {
      "cell_type": "code",
      "source": [
        "lanche = (\"suco\",1, 'pizza',1, 'suco',1,4,1.5,\"suco\",1)\n",
        "print(lanche[2])#neste fatiamento inicia no zero e vai até o indice 2 mas exclui o 2\n",
        "print(lanche[1:4])#neste fatiamento inicia no 1 e vai até o indice 4 mas exclui o 4\n",
        "print(lanche[1:])#inicia no indice 1 e vai até o final\n",
        "print(lanche[-1])# último elemento.\n",
        "print(lanche[-2])# penúltimo elemento\n",
        "print('-x-x-x-x-x-x-x')\n",
        "\n",
        "#contando quantas vezes um elemento aparece na tupla\n",
        "print(lanche.count(\"suco\") )# conta quantas vezes aparece o elemento suco\n",
        "print(lanche.count(1))\n",
        "print(\"- - - - - - -\")\n",
        "\n",
        "#Mostrando o índice do elemento\n",
        "print(lanche.index(1))#indice do elemento 1\n",
        "print(lanche.index(\"suco\"))#indice do elemento suco, o primeiro que encontrar.\n",
        "\n",
        "#Mostrando quantos elementos tem na tupla\n",
        "print(\"tamanho da tupla - len\")\n",
        "print(len(lanche))\n",
        "print('usando for nas tuplas')\n"
      ],
      "metadata": {
        "colab": {
          "base_uri": "https://localhost:8080/"
        },
        "collapsed": true,
        "id": "bAGd4vmkNzzQ",
        "outputId": "7e01b6c3-4d4a-45c0-fc28-ca14cc30ecab"
      },
      "execution_count": null,
      "outputs": [
        {
          "output_type": "stream",
          "name": "stdout",
          "text": [
            "pizza\n",
            "(1, 'pizza', 1)\n",
            "(1, 'pizza', 1, 'suco', 1, 4, 1.5, 'suco', 1)\n",
            "1\n",
            "suco\n",
            "-x-x-x-x-x-x-x\n",
            "3\n",
            "4\n",
            "- - - - - - -\n",
            "1\n",
            "0\n",
            "tamanho da tupla - len\n",
            "10\n",
            "usando for nas tuplas\n"
          ]
        }
      ]
    },
    {
      "cell_type": "code",
      "source": [
        "#Usando for nas tuplas\n",
        "lanche = (\"suco\",'Hamburguer', 'pizza','pudim','laranja')\n",
        "#For\n",
        "for c in lanche:\n",
        "  print(c)\n",
        "print(\"- - -FIM - - -\")\n",
        "for comida in lanche:\n",
        "  print (f'Eu vou comer {comida}')\n",
        "print(\"Comi pra caramba!\")\n",
        "print('- - - FIM- - - - - ')\n",
        "\n",
        "for cont in range(0,len(lanche)):\n",
        "  print (f'Eu vou comer {lanche[cont]}')\n",
        "print('x-x-x -FIM-x-x-x-x-')\n",
        "\n",
        "for pos,comida in enumerate(lanche):\n",
        "  print(f'Eu vou comer {comida} na posição {pos}')"
      ],
      "metadata": {
        "colab": {
          "base_uri": "https://localhost:8080/"
        },
        "id": "TDOfGAxoxeIe",
        "outputId": "81789b08-816c-4bc5-d307-1b87b335ee09"
      },
      "execution_count": null,
      "outputs": [
        {
          "output_type": "stream",
          "name": "stdout",
          "text": [
            "suco\n",
            "Hamburguer\n",
            "pizza\n",
            "pudim\n",
            "laranja\n",
            "- - -FIM - - -\n",
            "Eu vou comer suco\n",
            "Eu vou comer Hamburguer\n",
            "Eu vou comer pizza\n",
            "Eu vou comer pudim\n",
            "Eu vou comer laranja\n",
            "Comi pra caramba!\n",
            "- - - FIM- - - - - \n",
            "Eu vou comer suco\n",
            "Eu vou comer Hamburguer\n",
            "Eu vou comer pizza\n",
            "Eu vou comer pudim\n",
            "Eu vou comer laranja\n",
            "x-x-x -FIM-x-x-x-x-\n",
            "Eu vou comer suco na posição 0\n",
            "Eu vou comer Hamburguer na posição 1\n",
            "Eu vou comer pizza na posição 2\n",
            "Eu vou comer pudim na posição 3\n",
            "Eu vou comer laranja na posição 4\n"
          ]
        }
      ]
    },
    {
      "cell_type": "markdown",
      "source": [
        "#####for nas tuplas"
      ],
      "metadata": {
        "id": "V0kmJ-CuZ9A4"
      }
    },
    {
      "cell_type": "code",
      "source": [
        "#\n",
        "lanche = (\"suco\",'Hamburguer', 'pizza','pudim','laranja')\n",
        "print(lanche)#aparece na ordem como foi criado.\n",
        "print(sorted(lanche))#aparece em ordem crescente."
      ],
      "metadata": {
        "id": "W7MiH0lfMxHH",
        "colab": {
          "base_uri": "https://localhost:8080/"
        },
        "outputId": "578a305a-c1a5-43bd-f35d-1422b73e0c55"
      },
      "execution_count": null,
      "outputs": [
        {
          "output_type": "stream",
          "name": "stdout",
          "text": [
            "('suco', 'Hamburguer', 'pizza', 'pudim', 'laranja')\n",
            "['Hamburguer', 'laranja', 'pizza', 'pudim', 'suco']\n"
          ]
        }
      ]
    },
    {
      "cell_type": "code",
      "source": [
        "a = (2,5,4)\n",
        "b = (5,8,1,2)\n",
        "c = a + b\n",
        "d = b + a\n",
        "print (c)\n",
        "print (d)\n",
        "print (len(c))\n",
        "print (c.count(5))# quantas vezes aparece o elemento 5"
      ],
      "metadata": {
        "colab": {
          "base_uri": "https://localhost:8080/"
        },
        "id": "vV2aujFWNQWA",
        "outputId": "d292e496-8851-4b4a-c967-e4e64b2c9b19"
      },
      "execution_count": null,
      "outputs": [
        {
          "output_type": "stream",
          "name": "stdout",
          "text": [
            "(2, 5, 4, 5, 8, 1, 2)\n",
            "(5, 8, 1, 2, 2, 5, 4)\n"
          ]
        }
      ]
    },
    {
      "cell_type": "markdown",
      "source": [
        "##### Itemgetter (com tuplas)"
      ],
      "metadata": {
        "id": "WDwX9jgqV8Bd"
      }
    },
    {
      "cell_type": "code",
      "source": [
        "from operator import itemgetter\n",
        "produtos = [\n",
        "    ('Celular',750),\n",
        "    ('Bicicleta',1500),\n",
        "    ('Microfone',550),\n",
        "]\n",
        "produtos.sort(key=itemgetter(0))#ordenando pelo índice 1 que é o preço.\n",
        "print('ordenando pelo indice 0 que é o produto')\n",
        "print(produtos)\n",
        "produtos.sort(key=itemgetter(1))#ordnando pelo indice 0 que é o produto.\n",
        "print('Ordenando pelo indice 1 que é o ´preço')\n",
        "print(produtos)"
      ],
      "metadata": {
        "colab": {
          "base_uri": "https://localhost:8080/"
        },
        "id": "Bk0d2CZtXgSL",
        "outputId": "00fea4e4-59cb-4171-9885-3a0b3faf1f9c"
      },
      "execution_count": null,
      "outputs": [
        {
          "output_type": "stream",
          "name": "stdout",
          "text": [
            "ordenando pelo indice 0 que é o produto\n",
            "[('Bicicleta', 1500), ('Celular', 750), ('Microfone', 550)]\n",
            "Ordenando pelo indice 1 que é o ´preço\n",
            "[('Microfone', 550), ('Celular', 750), ('Bicicleta', 1500)]\n"
          ]
        }
      ]
    },
    {
      "cell_type": "markdown",
      "source": [
        "####Desafio 72"
      ],
      "metadata": {
        "id": "406kknG0P5Dg"
      }
    },
    {
      "cell_type": "code",
      "source": [
        "#Crie um programa que tenha uma tupla totalmente preenchida\n",
        "#com uma contagem por extenso, de zero até vinte.\n",
        "#Seu programa deverá ler um número pelo teclado(entre 0 e 20)\n",
        "#e mostrá-lo por extenso.\n",
        "#criando a tupla\n",
        "cont = ('zero','um','dois','três','quatro','cinco','seis',\n",
        "        'sete','oito','nove','dez','onze','doze','treze','quatorze','quinze','dezesseis','dezessete','dezoito','dezenove','vinte')\n",
        "\n",
        "#criando a condição e a entrada de dados\n",
        "while True:\n",
        "  num = int(input(\"Digite um número entre 0 e 20: \"))\n",
        "  if 0<= num <= 20:\n",
        "    break\n",
        "  print('Tente novamente', end='') # end='' ,serve para não pular de linha.\n",
        "print(f'Você digitou o número {cont[num]}')"
      ],
      "metadata": {
        "colab": {
          "base_uri": "https://localhost:8080/"
        },
        "id": "jM-FbX8mP-de",
        "outputId": "3bdd4407-9fbc-472a-92c0-79db747ef3c6"
      },
      "execution_count": null,
      "outputs": [
        {
          "output_type": "stream",
          "name": "stdout",
          "text": [
            "Digite um número entre 0 e 20: 8\n",
            "Você digitou o número oito\n"
          ]
        }
      ]
    },
    {
      "cell_type": "markdown",
      "source": [
        "####Desafio 73"
      ],
      "metadata": {
        "id": "354wMbz9Niqp"
      }
    },
    {
      "cell_type": "code",
      "source": [
        "# Crie uma tupla preenchida com os 20 primeiros colocados da Tabela do Campeonato Brasileiro de Futebol, na ordem de colocação. Depois mostre:\n",
        "# a) Os 5 primeiros times.\n",
        "# b) Os últimos 4 colocados.\n",
        "# c) Times em ordem alfabética.\n",
        "# d) Em que posição está o time da Chapecoense.\n",
        "\n",
        "times = ('Botafogo-RJ','Flamengo-RJ', 'Fluminense-RJ', 'Palmeiras-SP','Red Bull Bragantino-SP',\n",
        "         'Grêmio-RS', 'Athletico Paranaense -PR', 'Cuiaba Saf-MT','São Paulo-SP','Atlético Mineiro-MG',\n",
        "         'Cruzeiro Saf-MG', 'Internacional-RS','Fortaleza-CE','Corinthians-SP','Goiás-GO','Bahia-BA',\n",
        "         'Santos-SP', 'Coritiba SAF-PR', 'Vasco da Gama SAF-RJ','América FC Saf - MG')\n",
        "\n",
        "print('-='*15)# criando uma linha\n",
        "print (f'Lista de times: {times}')\n",
        "print('-='*15)# criando uma linha\n",
        "#for t in times:\n",
        "#  print(t)\n",
        "#print('-='*15)# criando uma linha\n",
        "\n",
        "print(f'a) Os 05 primeiro times do Brasileirão: {times[0:5]}')\n",
        "print('-='*15)# criando uma linha\n",
        "print(f'b) Os 04 últimos times do Brasileirão: {times[-4:]}')\n",
        "print('-='*15)# criando uma linha\n",
        "print(f'c) Mostrar os times em ordem alfabética: {sorted(times)}')\n",
        "print('-='*15)# criando uma linha\n",
        "print(f'O time do Fortaleza está na {times.index(\"Fortaleza-CE\")} posição.')#considera a posição zero\n",
        "print(f'O time do Fortaleza está na {times.index(\"Fortaleza-CE\")+1}ª posição.')"
      ],
      "metadata": {
        "colab": {
          "base_uri": "https://localhost:8080/"
        },
        "id": "3xFSTN8KNpK7",
        "outputId": "9ca21940-7338-4f88-9643-14955f5f72aa"
      },
      "execution_count": null,
      "outputs": [
        {
          "output_type": "stream",
          "name": "stdout",
          "text": [
            "-=-=-=-=-=-=-=-=-=-=-=-=-=-=-=\n",
            "Lista de times: ('Botafogo-RJ', 'Flamengo-RJ', 'Fluminense-RJ', 'Palmeiras-SP', 'Red Bull Bragantino-SP', 'Grêmio-RS', 'Athletico Paranaense -PR', 'Cuiaba Saf-MT', 'São Paulo-SP', 'Atlético Mineiro-MG', 'Cruzeiro Saf-MG', 'Internacional-RS', 'Fortaleza-CE', 'Corinthians-SP', 'Goiás-GO', 'Bahia-BA', 'Santos-SP', 'Coritiba SAF-PR', 'Vasco da Gama SAF-RJ', 'América FC Saf - MG')\n",
            "-=-=-=-=-=-=-=-=-=-=-=-=-=-=-=\n",
            "a) Os 05 primeiro times do Brasileirão: ('Botafogo-RJ', 'Flamengo-RJ', 'Fluminense-RJ', 'Palmeiras-SP', 'Red Bull Bragantino-SP')\n",
            "-=-=-=-=-=-=-=-=-=-=-=-=-=-=-=\n",
            "b) Os 04 últimos times do Brasileirão: ('Santos-SP', 'Coritiba SAF-PR', 'Vasco da Gama SAF-RJ', 'América FC Saf - MG')\n",
            "-=-=-=-=-=-=-=-=-=-=-=-=-=-=-=\n",
            "c) Mostrar os times em ordem alfabética: ['América FC Saf - MG', 'Athletico Paranaense -PR', 'Atlético Mineiro-MG', 'Bahia-BA', 'Botafogo-RJ', 'Corinthians-SP', 'Coritiba SAF-PR', 'Cruzeiro Saf-MG', 'Cuiaba Saf-MT', 'Flamengo-RJ', 'Fluminense-RJ', 'Fortaleza-CE', 'Goiás-GO', 'Grêmio-RS', 'Internacional-RS', 'Palmeiras-SP', 'Red Bull Bragantino-SP', 'Santos-SP', 'São Paulo-SP', 'Vasco da Gama SAF-RJ']\n",
            "-=-=-=-=-=-=-=-=-=-=-=-=-=-=-=\n",
            "O time do Fortaleza está na 12 posição.\n",
            "O time do Fortaleza está na 13ª posição.\n"
          ]
        }
      ]
    },
    {
      "cell_type": "markdown",
      "source": [
        "#### Desafio 74"
      ],
      "metadata": {
        "id": "5izCqC6Jojgp"
      }
    },
    {
      "cell_type": "code",
      "source": [
        "# Crie um programa que vai gerar cinco números aleatórios e colocar em uma tupla. Depois disso,\n",
        "#mostre a listagem de números gerados e também indique o menor e o maior valor que estão na tupla.\n",
        "\n",
        "from random import randint #importar apenas os números inteiros.\n",
        "\n",
        "numeros = (randint(1,10), randint(1,10), randint(1,10), randint(1,10), randint(1,10)) #Escolhendo 5 números aleatórios dentro de uma variável composta.\n",
        "\n",
        "#print(\"Os valores sorteados foram \", end='')\n",
        "print(f\"Os valores sorteados foram: {numeros}\")\n",
        "print('=-='*5)\n",
        "#outra forma de fazer.\n",
        "for n in numeros:\n",
        "  print (f'{n} ', end='')\n",
        "\n",
        "print(f'\\nO maior valor sorteado foi {max(numeros)}')\n",
        "print(f'O menor valor sorteado foi {min(numeros)}')\n",
        "\n"
      ],
      "metadata": {
        "colab": {
          "base_uri": "https://localhost:8080/"
        },
        "id": "__ds4A9bo1Py",
        "outputId": "ef33aad0-4d8f-444b-c04d-17bfe878af9a"
      },
      "execution_count": null,
      "outputs": [
        {
          "output_type": "stream",
          "name": "stdout",
          "text": [
            "Os valores sorteados foram: (2, 7, 1, 9, 2)\n",
            "=-==-==-==-==-=\n",
            "2 7 1 9 2 \n",
            "=-=\n",
            "=-=\n",
            "=-=\n",
            "=-=\n",
            "=-=\n",
            "\n",
            "O maior valor sorteado foi 9\n",
            "O menor valor sorteado foi 1\n"
          ]
        }
      ]
    },
    {
      "cell_type": "markdown",
      "source": [
        "####Desafio 75"
      ],
      "metadata": {
        "id": "lemZUiBq5l4K"
      }
    },
    {
      "cell_type": "code",
      "source": [
        "#Desenvolva um programa que leia quatro valores pelo teclado e guarde-os em uma tupla. No final, mostre:\n",
        "#A) Quantas vezes apareceu o valor 9.\n",
        "#B) Em que posição foi digitado o primeiro valor 3.\n",
        "#C) Quais foram os números pares.\n",
        "\n",
        "num = (int(input('Digite o 1º número: ')),\n",
        "int(input('Digite o 2º número: ')),\n",
        "int(input('digite o 3º número: ')),\n",
        " int(input('Digite o 4º número: ')))\n",
        "\n",
        "print(f'Você digitou os valores {num}')\n",
        "\n",
        "print(f'O valor 9 apareceu {num.count(9)} vezes')\n",
        "#Criando uma condição para um número que não tenha sido digitado\n",
        "if 3 in num:\n",
        "    print(f'O valor 3 apareceu na {num.index(3)+1}ª posição')\n",
        "else:\n",
        "  print('O valor 3 não foi digitado nenhuma vez')\n",
        "# números pares.\n",
        "print ('Os valors pares digitados foram ', end=' ')\n",
        "for n in num:\n",
        "  if n%2 == 0:\n",
        "    print(n, end=' ')\n"
      ],
      "metadata": {
        "colab": {
          "base_uri": "https://localhost:8080/"
        },
        "id": "gP8rpA4Q5r_K",
        "outputId": "ce2c2ce7-a3cc-44b5-ac47-767d60be3d65"
      },
      "execution_count": null,
      "outputs": [
        {
          "output_type": "stream",
          "name": "stdout",
          "text": [
            "Digite o 1º número: 3\n",
            "Digite o 2º número: 8\n",
            "digite o 3º número: 6\n",
            "Digite o 4º número: 9\n",
            "Você digitou os valores (3, 8, 6, 9)\n",
            "O valor 9 apareceu 1 vezes\n",
            "O valor 3 apareceu na 1ª posição\n",
            "Os valors pares digitados foram  8 6 "
          ]
        }
      ]
    },
    {
      "cell_type": "markdown",
      "source": [
        "####Desafio 76 Tabela ProdutoxPreço"
      ],
      "metadata": {
        "id": "6nGHdlisxFtB"
      }
    },
    {
      "cell_type": "code",
      "source": [
        "#Crie um programa que tenha uma tupla única com nomes de produtos e seus respectivos preços,\n",
        "#na sequência. No final, mostre uma listagem de preços, organizando os dados em forma tabular.\n",
        "listagem = ('Lapis', 1.75,\n",
        "            'Borracha', 2,\n",
        "            'Caderno',15.90,\n",
        "            'Estojo', 25,\n",
        "            'transferidor', 4.20,\n",
        "            'Compasso',9.90,\n",
        "            'Mochila', 120.32,\n",
        "            'Canetas', 22.30,\n",
        "            'Livro', 34.90)\n",
        "\n",
        "#print(listagem) # Mostra a tupla inteira uma ao lado da outra.\n",
        "print('-'*30)\n",
        "print(f'{\"LISTAGEM DE PREÇOS\":^30}')#Centralizado\n",
        "print('-'*30)\n",
        "\n",
        "for pos in range(0,len(listagem)): #trabalhando com range e posição para definir colunas\n",
        "  if pos %2==0: #posição(pos) par é 1º coluna produtos.\n",
        "    print (f'{listagem[pos]:.<20}', end='')#produto alinhado a esquerda com preenchimento de ponto\n",
        "  else:#senão é impar. coluna dos preços\n",
        "    print(f'R${listagem[pos]:>7.2f}') #preço alinhado a direita 2f para 2 casas decimais\n",
        "print('-'*30)#Fechamento da tabela.\n"
      ],
      "metadata": {
        "colab": {
          "base_uri": "https://localhost:8080/"
        },
        "id": "HGR2qs45xLCg",
        "outputId": "03ce7309-6e49-474e-d555-93921257aad8"
      },
      "execution_count": null,
      "outputs": [
        {
          "output_type": "stream",
          "name": "stdout",
          "text": [
            "------------------------------\n",
            "      LISTAGEM DE PREÇOS      \n",
            "------------------------------\n",
            "Lapis...............R$   1.75\n",
            "Borracha............R$   2.00\n",
            "Caderno.............R$  15.90\n",
            "Estojo..............R$  25.00\n",
            "transferidor........R$   4.20\n",
            "Compasso............R$   9.90\n",
            "Mochila.............R$ 120.32\n",
            "Canetas.............R$  22.30\n",
            "Livro...............R$  34.90\n",
            "------------------------------\n"
          ]
        }
      ]
    },
    {
      "cell_type": "markdown",
      "source": [
        "####Desafio77 Contar vogais"
      ],
      "metadata": {
        "id": "g62wdibK8srE"
      }
    },
    {
      "cell_type": "code",
      "source": [
        "#Crie um programa que tenha uma tupla com várias palavras (não usar acentos). Depois disso, você deve mostrar, para cada palavra, quais são as suas vogais.\n",
        "#Criando uma Tupla com palavras aleatórias.\n",
        "palavras = ('aprendEr', 'progrAmar', 'linguagem', 'pythOn', 'grátis')\n",
        "\n",
        "#fazer um laço FOR para cada palavra.\n",
        "for p in palavras: #para cada elemento p na tupla palavras\n",
        "  print(f'\\nNa palavra {p.upper()} temos ', end='')\n",
        "  #Cada palavra em sí é uma lista de letras\n",
        "  for letra in p:\n",
        "    if letra.lower() in 'aáàãâeéêèiíoõuúù':#posso acrescentar as vogais com acento\n",
        "      print(letra, end=' ')\n",
        "\n",
        "\n"
      ],
      "metadata": {
        "colab": {
          "base_uri": "https://localhost:8080/"
        },
        "id": "XOPHKX229TiI",
        "outputId": "30537cec-ddb6-4ca8-b07c-cc9b8230692d"
      },
      "execution_count": null,
      "outputs": [
        {
          "output_type": "stream",
          "name": "stdout",
          "text": [
            "\n",
            "Na palavra APRENDER temos a e E \n",
            "Na palavra PROGRAMAR temos o A a \n",
            "Na palavra LINGUAGEM temos i u a e \n",
            "Na palavra PYTHON temos O \n",
            "Na palavra GRÁTIS temos á i "
          ]
        }
      ]
    },
    {
      "cell_type": "markdown",
      "source": [
        "###listas\n",
        "\n",
        "Uma Lista (list) em Python, nada mais é que uma coleção ordenada de valores, separados por vírgula e dentro de colchetes [].\n",
        "\n",
        "As listas são utilizadas para armazenar diversos itens em uma única variável.\n"
      ],
      "metadata": {
        "id": "uaCBIlAzwKya"
      }
    },
    {
      "cell_type": "markdown",
      "source": [
        "####Criando uma lista"
      ],
      "metadata": {
        "id": "xwiIGeZQwYVH"
      }
    },
    {
      "cell_type": "code",
      "source": [
        "listanum = [] #lista vazia\n",
        "\n",
        "#Definindo a entrada de dados e armazenamento na 'listanum'\n",
        "listanum.append(int(input(f'Digite um valor : ')))\n",
        "\n",
        "print('- '*20)\n",
        "print(f'Você digitou os valores {listanum}')"
      ],
      "metadata": {
        "colab": {
          "base_uri": "https://localhost:8080/"
        },
        "id": "g4aVk_rnrcD7",
        "outputId": "e4571c46-e89b-4562-e597-60a2a7e93a91"
      },
      "execution_count": null,
      "outputs": [
        {
          "output_type": "stream",
          "name": "stdout",
          "text": [
            "Digite um valor : 3\n",
            "- - - - - - - - - - - - - - - - - - - - \n",
            "Você digitou os valores [3]\n"
          ]
        }
      ]
    },
    {
      "cell_type": "code",
      "source": [
        "listanum = [] #lista vazia\n",
        "\n",
        "for c in range (0,3): #Definindo o tamanho da lista.\n",
        "\n",
        "#Definindo a entrada de dados e armazenamento na 'listanum'\n",
        "  listanum.append(int(input(f'Digite um valor para a posição {c}: ')))\n",
        "\n",
        "print('- '*20)\n",
        "print(f'Você digitou os valores {listanum}')"
      ],
      "metadata": {
        "colab": {
          "base_uri": "https://localhost:8080/"
        },
        "id": "FmH1fS-erwBA",
        "outputId": "4fa1d5f8-2312-43c3-a666-c1e409c1084d"
      },
      "execution_count": null,
      "outputs": [
        {
          "output_type": "stream",
          "name": "stdout",
          "text": [
            "Digite um valor para a posição 0: 2\n",
            "Digite um valor para a posição 1: 5\n",
            "Digite um valor para a posição 2: 6\n",
            "- - - - - - - - - - - - - - - - - - - - \n",
            "Você digitou os valores [2, 5, 6]\n"
          ]
        }
      ]
    },
    {
      "cell_type": "code",
      "source": [
        "# Exemplo de lista:\n",
        "lista = ['Python', 'Java','Academy']\n",
        "\n",
        "print(lista)"
      ],
      "metadata": {
        "colab": {
          "base_uri": "https://localhost:8080/"
        },
        "id": "k7hqdJ5kwF3b",
        "outputId": "aa597283-a7b9-4d12-a953-4799ac297f0d"
      },
      "execution_count": null,
      "outputs": [
        {
          "output_type": "stream",
          "name": "stdout",
          "text": [
            "['Python', 'Java', 'Academy']\n"
          ]
        }
      ]
    },
    {
      "cell_type": "code",
      "source": [
        "#Identificando a classe da lista\n",
        "#classe de uma lista com type():\n",
        "\n",
        "lista = ['Python', 'Java','Academy','javascript']\n",
        "\n",
        "lista = []\n",
        "\n",
        "print(type(lista))\n"
      ],
      "metadata": {
        "colab": {
          "base_uri": "https://localhost:8080/"
        },
        "id": "iNSJ5MdHwfah",
        "outputId": "e3074d98-b9bb-4806-a8f9-026c1f6d0c6a"
      },
      "execution_count": null,
      "outputs": [
        {
          "output_type": "stream",
          "name": "stdout",
          "text": [
            "<class 'list'>\n"
          ]
        }
      ]
    },
    {
      "cell_type": "markdown",
      "source": [
        "#### Listas são mutáveis\n",
        "\n",
        "Diferentemente de strings, listas são mutáveis (mutable). Isto significa que podemos alterar um item em uma lista acessando-o diretamente como parte do comando de atribuição. Usando o operador e indexação (colchetes) à esquerda de um comando de atribuição, podemos atualizar um dos itens de uma lista."
      ],
      "metadata": {
        "id": "8YNi1iX45LaQ"
      }
    },
    {
      "cell_type": "code",
      "source": [
        "frutas = [\"banana\", \"maca\", \"cereja\"]\n",
        "print(frutas)\n",
        "\n",
        "frutas[0] = \"pera\"\n",
        "frutas[-1] = \"laranja\"\n",
        "print(frutas)"
      ],
      "metadata": {
        "id": "VgRXBtxz5T55"
      },
      "execution_count": null,
      "outputs": []
    },
    {
      "cell_type": "markdown",
      "source": [
        "#### Contando elemento na lista (count)"
      ],
      "metadata": {
        "id": "vCSCzLIAY5AR"
      }
    },
    {
      "cell_type": "code",
      "source": [
        "#CONTANDO A OCORRÊNCIA DE UM VALOR NA LISTA.\n",
        "frutas = [\"pessego\",\"banana\", \"maca\", \"cereja\", \"banana\", \"pera\", \"jaca\", \"goiaba\",\"morango\",\"banana\"]\n",
        "print(frutas.count(\"banana\"))#Quantas vezes aparece \"banana\" na lista."
      ],
      "metadata": {
        "colab": {
          "base_uri": "https://localhost:8080/"
        },
        "id": "tp-YzmgYZE8X",
        "outputId": "f7902123-c6ed-4042-e48d-eb67fe0ff86f"
      },
      "execution_count": null,
      "outputs": [
        {
          "output_type": "stream",
          "name": "stdout",
          "text": [
            "3\n"
          ]
        }
      ]
    },
    {
      "cell_type": "markdown",
      "source": [
        "####Acessando elementos/dados da lista\n",
        "\n",
        "A sintaxe para acessar um elemento de uma lista é a mesma usada para acessar um caractere de um string. Nós usamos o operador de indexação ([ ] – não confundir com a lista vazia).\n",
        "A expressão dentro dos colchetes especifica o índice. Lembrar que o índice do primeiro elemento é 0.\n",
        "Qualquer expressão que tenha como resultado um número inteiro pode ser usada como índice e como com strings, índices negativos indicarão elementos da direita para a esquerda ao invés de da esquerda para a direita."
      ],
      "metadata": {
        "id": "N016TLudxcfB"
      }
    },
    {
      "cell_type": "markdown",
      "source": [],
      "metadata": {
        "id": "IF3dkmplYxph"
      }
    },
    {
      "cell_type": "code",
      "source": [
        "precos = [10,20,60,79,45,67,90,10,35,100,50,70,91]\n",
        "print(precos[precos.index(100)])#acessando o valor 100 e guardando na variável 100"
      ],
      "metadata": {
        "id": "NEBMyWjD0S38",
        "colab": {
          "base_uri": "https://localhost:8080/"
        },
        "outputId": "d1a3f83f-f334-47f6-853a-c46fc7a941a8"
      },
      "execution_count": null,
      "outputs": [
        {
          "output_type": "stream",
          "name": "stdout",
          "text": [
            "100\n"
          ]
        }
      ]
    },
    {
      "cell_type": "code",
      "source": [
        "numeros = [17, 123, 87, 34, 66, 8398, 44]\n",
        "print('indice zero =',numeros[0])\n",
        "print('indice 2 =',numeros[2])\n",
        "print('indice 1 =' ,numeros[9-8])\n",
        "print('penultimo indice =' ,numeros[-2])\n",
        "print(numeros[len(numeros)-1]) #indice 6 (tamanho 7 - 1)"
      ],
      "metadata": {
        "colab": {
          "base_uri": "https://localhost:8080/"
        },
        "id": "F62PT6JX0jDc",
        "outputId": "e14c1382-727d-417e-8e2b-5c636dfaf4e9"
      },
      "execution_count": null,
      "outputs": [
        {
          "output_type": "stream",
          "name": "stdout",
          "text": [
            "indice zero = 17\n",
            "indice 2 = 87\n",
            "indice 1 = 123\n",
            "penultimo indice = 8398\n",
            "44\n"
          ]
        }
      ]
    },
    {
      "cell_type": "code",
      "source": [
        "#Todos os itens de uma lista são indexados, ou seja para cada item da lista\n",
        "#um índice é atribuído da seguinte forma: lista[indice].\n",
        "#Em Python os índices são iniciados em 0.\n",
        "\n",
        "frutas = ['Maça', 'Banana', 'Jaca', 'Melão', 'Abacaxi']\n",
        "print(frutas[0])\n"
      ],
      "metadata": {
        "colab": {
          "base_uri": "https://localhost:8080/"
        },
        "id": "1zOxguuxxn9b",
        "outputId": "c32fc753-ef78-4f9d-c048-45492f88cb07"
      },
      "execution_count": null,
      "outputs": [
        {
          "output_type": "stream",
          "name": "stdout",
          "text": [
            "Maça\n"
          ]
        }
      ]
    },
    {
      "cell_type": "code",
      "source": [
        "#indexação negativa, que significa começar do fim.\n",
        "frutas = ['Pera','Maça', 'Banana', 'Jaca', 'Melão', 'Abacaxi']\n",
        "print(frutas[-1],': indice -1, é o último elemento da lista')\n",
        "print(frutas[-2])\n",
        "print(frutas[-3])\n",
        "print(frutas[-4])\n",
        "print(frutas[-5])\n",
        "print(frutas[-6])"
      ],
      "metadata": {
        "colab": {
          "base_uri": "https://localhost:8080/"
        },
        "id": "XELO3f5Ayg3c",
        "outputId": "5d60fd63-efe7-4e63-cb2c-b9bad46addd2"
      },
      "execution_count": null,
      "outputs": [
        {
          "output_type": "stream",
          "name": "stdout",
          "text": [
            "Abacaxi : indice -1, último\n",
            "Melão\n",
            "Jaca\n",
            "Banana\n",
            "Maça\n",
            "Pera\n"
          ]
        }
      ]
    },
    {
      "cell_type": "markdown",
      "source": [
        "####Substituindo dados da lista"
      ],
      "metadata": {
        "id": "Kg-qnRf4FaeH"
      }
    },
    {
      "cell_type": "code",
      "source": [
        "frutas = ['Pera','Maça', 'Banana', 'Melancia', 'Melão', 'Abacaxi']\n",
        "frutas[2] = 'JACA'\n",
        "frutas[0] = 'Morango'\n",
        "print(frutas)"
      ],
      "metadata": {
        "colab": {
          "base_uri": "https://localhost:8080/"
        },
        "id": "sPUwzIQuGBkw",
        "outputId": "2964fb33-cc90-4912-f44e-67168772afbf"
      },
      "execution_count": null,
      "outputs": [
        {
          "output_type": "stream",
          "name": "stdout",
          "text": [
            "['Morango', 'Maça', 'JACA', 'Melancia', 'Melão', 'Abacaxi']\n"
          ]
        }
      ]
    },
    {
      "cell_type": "markdown",
      "source": [
        "####Adicionando elemento no fim da lista(append)"
      ],
      "metadata": {
        "id": "jeSEsnbVG5K7"
      }
    },
    {
      "cell_type": "code",
      "source": [
        "lanche = ['Hamburguer', 'Pizza','Sorvete','Bolo']\n",
        "lanche.append('Milk shake')#método append\n",
        "print(lanche)"
      ],
      "metadata": {
        "colab": {
          "base_uri": "https://localhost:8080/"
        },
        "id": "0P7oMD3qHIDe",
        "outputId": "ba53ab37-2956-48e1-9020-40e2b1f745ba"
      },
      "execution_count": null,
      "outputs": [
        {
          "output_type": "stream",
          "name": "stdout",
          "text": [
            "['Hamburguer', 'Pizza', 'Sorvete', 'Bolo', 'Milk shake']\n"
          ]
        }
      ]
    },
    {
      "cell_type": "code",
      "source": [
        "valores = [1,2,3,4,2,5,6,7,8,9,10]\n",
        "anos = [2020,2030,2040,2050]\n",
        "valores.append(11)\n",
        "print(valores)"
      ],
      "metadata": {
        "colab": {
          "base_uri": "https://localhost:8080/"
        },
        "id": "LknRm3GBMqgH",
        "outputId": "51dbc8a0-7e42-4471-a481-20bb407de6b2"
      },
      "execution_count": null,
      "outputs": [
        {
          "output_type": "stream",
          "name": "stdout",
          "text": [
            "[1, 2, 3, 4, 2, 5, 6, 7, 8, 9, 10, 11]\n"
          ]
        }
      ]
    },
    {
      "cell_type": "markdown",
      "source": [
        "#### Adicionando elemento em posição específica(insert)"
      ],
      "metadata": {
        "id": "ppE5iG9eIxaL"
      }
    },
    {
      "cell_type": "code",
      "source": [
        "lanche = ['Pizza','Sorvete','Bolo']\n",
        "lanche.insert(1,'Suco de uva')\n",
        "print(lanche)"
      ],
      "metadata": {
        "colab": {
          "base_uri": "https://localhost:8080/"
        },
        "id": "JSFp8c7FI6o6",
        "outputId": "307afd6e-80a3-457d-e639-e23fcd7621e5"
      },
      "execution_count": null,
      "outputs": [
        {
          "output_type": "stream",
          "name": "stdout",
          "text": [
            "['Pizza', 'Suco de uva', 'Sorvete', 'Bolo']\n"
          ]
        }
      ]
    },
    {
      "cell_type": "code",
      "source": [],
      "metadata": {
        "id": "tpA8n0BwMbPg"
      },
      "execution_count": null,
      "outputs": []
    },
    {
      "cell_type": "markdown",
      "source": [
        "#### Inserir elementos em uma lista na posição desejada."
      ],
      "metadata": {
        "id": "dlROxUrK5_CQ"
      }
    },
    {
      "cell_type": "code",
      "source": [
        "#inserindo\n",
        "anos = [2020, 2030, 2040,2050]\n",
        "print(anos[1])\n",
        "anos.insert(2,2031)#inserindo no índice 2 o valor 2031, o que era indice 2 fica sendo indice 3\n",
        "print(anos)"
      ],
      "metadata": {
        "colab": {
          "base_uri": "https://localhost:8080/"
        },
        "id": "U0kBskSZQcDt",
        "outputId": "df7e99b2-70b0-4f5f-ac17-f3b68d82a13b"
      },
      "execution_count": null,
      "outputs": [
        {
          "output_type": "stream",
          "name": "stdout",
          "text": [
            "2030\n",
            "[2020, 2030, 2031, 2040, 2050]\n"
          ]
        }
      ]
    },
    {
      "cell_type": "code",
      "source": [
        "uma_lista = ['a', 'd', 'f']\n",
        "uma_lista[1:1] = ['b', 'c']# inserção na posição desejada\n",
        "print(uma_lista)\n",
        "uma_lista[4:4] = ['e']\n",
        "print(uma_lista)"
      ],
      "metadata": {
        "id": "BIvrxueZ57Hm",
        "colab": {
          "base_uri": "https://localhost:8080/"
        },
        "outputId": "637e53ee-605b-4210-cf35-0eaa9b5dafd5"
      },
      "execution_count": null,
      "outputs": [
        {
          "output_type": "stream",
          "name": "stdout",
          "text": [
            "['a', 'b', 'c', 'd', 'f']\n",
            "['a', 'b', 'c', 'd', 'e', 'f']\n"
          ]
        }
      ]
    },
    {
      "cell_type": "markdown",
      "source": [
        "#### Unindo listas (extend)"
      ],
      "metadata": {
        "id": "EjDniAnMNUEc"
      }
    },
    {
      "cell_type": "code",
      "source": [
        "valores = [1,2,3,4,2,5,6,7,8,9,10]\n",
        "anos = [2020,2030,2040,2050]\n",
        "#Unindo listas MODIFICANDO AS LISTAS ORIGINAIS.\n",
        "valores.extend(anos)\n",
        "print('Nova lista após o uso do extend',valores)#aparecera a lista estendida.\n",
        "anos.extend(valores)\n",
        "print('Nova lista após o uso do extend',anos)"
      ],
      "metadata": {
        "colab": {
          "base_uri": "https://localhost:8080/"
        },
        "id": "3e3adA7ENa8c",
        "outputId": "2b96c7cf-3b50-4a76-a070-add76ba49d05"
      },
      "execution_count": null,
      "outputs": [
        {
          "output_type": "stream",
          "name": "stdout",
          "text": [
            "Nova lista após o uso do extend [1, 2, 3, 4, 2, 5, 6, 7, 8, 9, 10, 2020, 2030, 2040, 2050]\n",
            "Nova lista após o uso do extend [2020, 2030, 2040, 2050, 1, 2, 3, 4, 2, 5, 6, 7, 8, 9, 10, 2020, 2030, 2040, 2050]\n"
          ]
        }
      ]
    },
    {
      "cell_type": "code",
      "source": [
        "valores = [1,2,3,4,2,5,6,7,8,9,10]\n",
        "anos = [2020,2030,2040,2050]\n",
        "#unindo listas SEM MODIFICAR AS LISTAS ORIGINAIS\n",
        "nova_lista = valores + anos\n",
        "print(valores)\n",
        "print(anos)\n",
        "print(nova_lista)"
      ],
      "metadata": {
        "colab": {
          "base_uri": "https://localhost:8080/"
        },
        "id": "uP_JOOurPeMx",
        "outputId": "685e0eec-62d8-4265-df3c-2c47409354e1"
      },
      "execution_count": null,
      "outputs": [
        {
          "output_type": "stream",
          "name": "stdout",
          "text": [
            "[1, 2, 3, 4, 2, 5, 6, 7, 8, 9, 10]\n",
            "[2020, 2030, 2040, 2050]\n",
            "[1, 2, 3, 4, 2, 5, 6, 7, 8, 9, 10, 2020, 2030, 2040, 2050]\n"
          ]
        }
      ]
    },
    {
      "cell_type": "markdown",
      "source": [
        "Q-24: O que é impresso pelo trecho de código a seguir?"
      ],
      "metadata": {
        "id": "fo8jHtjC7Aa7"
      }
    },
    {
      "cell_type": "code",
      "source": [
        "uma_lista = [4, 2, 8, 6, 5]\n",
        "uma_lista[2] = True\n",
        "print(uma_lista)\n",
        "\n",
        "#o valor True é colocado na posição de índice 2 da lista, 8 é trocado por True."
      ],
      "metadata": {
        "colab": {
          "base_uri": "https://localhost:8080/"
        },
        "id": "rK4HAD_M66Sx",
        "outputId": "a587157f-8d48-4ca0-99bb-6201936046c9"
      },
      "execution_count": null,
      "outputs": [
        {
          "output_type": "stream",
          "name": "stdout",
          "text": [
            "[4, 2, True, 6, 5]\n"
          ]
        }
      ]
    },
    {
      "cell_type": "markdown",
      "source": [
        "####Apagando elemento da lista (del), (Remove),(Pop)\n",
        "\n",
        "Python oferece uma maneira alternativa que é mais legível. O comando del remove um elemento de uma lista usando a sua posição."
      ],
      "metadata": {
        "id": "J9KRmG-iJ2j2"
      }
    },
    {
      "cell_type": "code",
      "source": [
        "uma_lista = ['a', 'b', 'c', 'd', 'e', 'f']\n",
        "uma_lista[1:3] = []#estou apagando inserindo valores vazios nos indices 1 e 3\n",
        "print(uma_lista)\n"
      ],
      "metadata": {
        "colab": {
          "base_uri": "https://localhost:8080/"
        },
        "id": "WgIaIKN55oQw",
        "outputId": "4fc84dab-83cf-4c23-f6ab-1943e8ca9afd"
      },
      "execution_count": null,
      "outputs": [
        {
          "output_type": "stream",
          "name": "stdout",
          "text": [
            "['a', 'd', 'e', 'f']\n"
          ]
        }
      ]
    },
    {
      "cell_type": "code",
      "source": [
        "#USANDO O DEL(remove indice ou faixa de indices.)\n",
        "a = ['zero','um', 'dois', 'três']\n",
        "del a[1]#Removendo um indice.\n",
        "print(a)\n",
        "\n",
        "lista = ['a', 'b', 'c', 'd', 'e', 'f','g']\n",
        "del lista[1:5]#REMOVENDO UMA FAIXA DE INDICES ENTRE 1 e 5.\n",
        "print(lista)"
      ],
      "metadata": {
        "id": "d2obd3nnCLMF",
        "colab": {
          "base_uri": "https://localhost:8080/"
        },
        "outputId": "81b2539a-5a4e-4bbb-c69f-59d101da6128"
      },
      "execution_count": null,
      "outputs": [
        {
          "output_type": "stream",
          "name": "stdout",
          "text": [
            "['zero', 'dois', 'três']\n",
            "['a', 'f', 'g']\n"
          ]
        }
      ]
    },
    {
      "cell_type": "code",
      "source": [
        "frutas = ['Pera','abacate','Maça', 'Banana', 'Melancia', 'Melão', 'Abacaxi', 'graviola','Saputi','seriguela', 'maracujá']\n",
        "\n",
        "#usando o del\n",
        "print('lista completa', frutas)\n",
        "del frutas[3]\n",
        "print('- - - Usando del - - -')\n",
        "print(frutas)\n",
        "\n",
        "#usando o pop\n",
        "#frutas.pop[0]\n",
        "#print('- - - Usando pop - - -')\n",
        "#print(frutas)\n",
        "\n",
        "#Usando o remove\n",
        "#frutas.remove('abacate')\n",
        "#print('- - - Usando remove - - -')\n",
        "#print(frutas)\n",
        "\n"
      ],
      "metadata": {
        "colab": {
          "base_uri": "https://localhost:8080/"
        },
        "id": "469XGvmmJ0mW",
        "outputId": "a0b2182c-55ed-4f9d-9175-e7ce6212bda8"
      },
      "execution_count": null,
      "outputs": [
        {
          "output_type": "stream",
          "name": "stdout",
          "text": [
            "lista completa ['Pera', 'abacate', 'Maça', 'Banana', 'Melancia', 'Melão', 'Abacaxi', 'graviola', 'Saputi', 'seriguela', 'maracujá']\n",
            "- - - Usando del - - -\n",
            "['Pera', 'abacate', 'Maça', 'Melancia', 'Melão', 'Abacaxi', 'graviola', 'Saputi', 'seriguela', 'maracujá']\n"
          ]
        }
      ]
    },
    {
      "cell_type": "code",
      "source": [
        "frutas = ['Pera','abacate','Maça', 'Banana', 'Melancia', 'Melão', 'Abacaxi', 'graviola','Saputi','seriguela', 'maracujá']\n",
        "if 'tamarindo' in frutas:\n",
        "  frutas.remove('Tamarindo')\n",
        "  print(frutas)\n",
        "else:#senão\n",
        "  print('Não achei o elemento na lista')\n"
      ],
      "metadata": {
        "colab": {
          "base_uri": "https://localhost:8080/"
        },
        "id": "gxEm6irkNNiZ",
        "outputId": "a8866b5e-9ed0-4211-bba5-a348402233e6"
      },
      "execution_count": null,
      "outputs": [
        {
          "output_type": "stream",
          "name": "stdout",
          "text": [
            "Não achei o elemento na lista\n"
          ]
        }
      ]
    },
    {
      "cell_type": "markdown",
      "source": [
        "####Ordenando valores em uma lista (crescente/decrescente)\n",
        "\n"
      ],
      "metadata": {
        "id": "WJ1GW7PpOVVY"
      }
    },
    {
      "cell_type": "code",
      "source": [
        "valores = [8,2,5,3,7,9,3,0]\n",
        "\n",
        "print('- Ordem que foi criada a lista -')\n",
        "print(valores)\n",
        "#ordem crescente SORT\n",
        "print('- - ordem crescente')\n",
        "valores.sort()\n",
        "print(valores)\n",
        "\n",
        "#ordem decrescente reverse=True\n",
        "print('- - ordem decrescente - - ')\n",
        "valores.sort(reverse=True)\n",
        "print(valores)\n",
        "\n",
        "#invertendo a lista, os primeiros serão os últimos.\n",
        "print('- - - - lista invertida - - - - -')\n",
        "print('lista original',valores)\n",
        "valores.reverse()#comando para alterar a ordem da lista.\n",
        "print('lista invertida',valores)"
      ],
      "metadata": {
        "colab": {
          "base_uri": "https://localhost:8080/"
        },
        "id": "zguSiyqFOghu",
        "outputId": "275dd7ea-c809-45d6-b63f-ccfe146dd490"
      },
      "execution_count": null,
      "outputs": [
        {
          "output_type": "stream",
          "name": "stdout",
          "text": [
            "- Ordem que foi criada a lista -\n",
            "[8, 2, 5, 3, 7, 9, 3, 0]\n",
            "- - ordem crescente\n",
            "[0, 2, 3, 3, 5, 7, 8, 9]\n",
            "- - ordem decrescente - - \n",
            "[9, 8, 7, 5, 3, 3, 2, 0]\n",
            "- - - - lista invertida - - - - -\n",
            "lista original [9, 8, 7, 5, 3, 3, 2, 0]\n",
            "lista invertida [0, 2, 3, 3, 5, 7, 8, 9]\n"
          ]
        }
      ]
    },
    {
      "cell_type": "markdown",
      "source": [
        "####Tamanho de uma lista\n",
        "\n",
        "a função len retorna o comprimento de uma lista (o número de elementos na lista). Entretanto, como listas podem conter itens que são listas, é importante notar que len somente retorna o comprimento da lista mais externa. Em outras palavras, sublistas de uma lista são consideradas como sendo um elemento simples quando contamos o comprimento da lista.\n"
      ],
      "metadata": {
        "id": "SE3wbCV-THcg"
      }
    },
    {
      "cell_type": "code",
      "source": [
        "uma_lista =  [\"ola\", 2.0, 5, [10, 20]]\n",
        "print(len(uma_lista))\n",
        "\n",
        "#Sublistas de uma lista são consideradas como sendo um elemento simples quando contamos o comprimento da lista.\n",
        "print(len(['spam!', 1, ['Brie', 'Roquefort', 'Pol le Veq'], [1, 2, 3]]))\n",
        "\n"
      ],
      "metadata": {
        "colab": {
          "base_uri": "https://localhost:8080/"
        },
        "id": "9JNOf8vmx9zg",
        "outputId": "7ac058b2-864c-47af-b430-52cd225cf320"
      },
      "execution_count": null,
      "outputs": [
        {
          "output_type": "stream",
          "name": "stdout",
          "text": [
            "4\n",
            "4\n"
          ]
        }
      ]
    },
    {
      "cell_type": "code",
      "source": [
        "valores = [8,2,5,3,7,9,3,0,1]\n",
        "len(valores)\n",
        "print(f'Essa lista tem {len(valores)} elementos')"
      ],
      "metadata": {
        "colab": {
          "base_uri": "https://localhost:8080/"
        },
        "id": "OhfokAoFTQ_E",
        "outputId": "256fe794-f7ff-4530-cc23-ad2e7e6aac72"
      },
      "execution_count": null,
      "outputs": [
        {
          "output_type": "stream",
          "name": "stdout",
          "text": [
            "Essa lista tem 9 elementos\n"
          ]
        }
      ]
    },
    {
      "cell_type": "code",
      "source": [
        "a função len retorna o comprimento de uma lista (o número de elementos na lista). Entretanto, como listas podem conter itens que são listas, é importante notar que len somente retorna o comprimento da lista mais externa. Em outras palavras, sublistas de uma lista são consideradas como sendo um elemento simples quando contamos o comprimento da lista."
      ],
      "metadata": {
        "id": "OiqiRYhTxtfh",
        "colab": {
          "base_uri": "https://localhost:8080/",
          "height": 200
        },
        "outputId": "ff6c455e-b12d-47d3-c18f-67f460820a0b"
      },
      "execution_count": null,
      "outputs": [
        {
          "output_type": "error",
          "ename": "SyntaxError",
          "evalue": "ignored",
          "traceback": [
            "\u001b[0;36m  File \u001b[0;32m\"<ipython-input-1-fb3252238617>\"\u001b[0;36m, line \u001b[0;32m1\u001b[0m\n\u001b[0;31m    a função len retorna o comprimento de uma lista (o número de elementos na lista). Entretanto, como listas podem conter itens que são listas, é importante notar que len somente retorna o comprimento da lista mais externa. Em outras palavras, sublistas de uma lista são consideradas como sendo um elemento simples quando contamos o comprimento da lista.\u001b[0m\n\u001b[0m      ^\u001b[0m\n\u001b[0;31mSyntaxError\u001b[0m\u001b[0;31m:\u001b[0m invalid syntax\n"
          ]
        }
      ]
    },
    {
      "cell_type": "markdown",
      "source": [
        "####Lista dentro de lista"
      ],
      "metadata": {
        "id": "xw-QYW8PzglT"
      }
    },
    {
      "cell_type": "code",
      "source": [
        "lista = ['item1', ['python', 'Academy'], 'item3']\n",
        "#Acessando a lista\n",
        "print(lista[0])\n",
        "print(lista[1])\n",
        "print(lista[2])\n",
        "print(\"x-x-x-x-x-x-x\")\n",
        "\n",
        "#Acessando itens da sublista.\n",
        "#Como podemos acessar o primeiro índice da sublista que é uma lista?\n",
        "#primeiro passo: Selecionar a posição em que se localiza a lista para ter acesso a ela:\n",
        "#sublista = lista[1] definindo a variável e selecionando a posição que se localiza a sublista dentro da lista.\n",
        "\n",
        "sublista = lista[1] ##indice da sublista\n",
        "print(sublista[0]) ##indice desejado\n",
        "print(sublista[0],': é o índice zero da sublista') ##indice desejado\n",
        "print(sublista[1]) ##indice desejado\n",
        "print(sublista[1],': é o índice 01 da sublista') ##indice desejado\n",
        "\n",
        "print('- - - - - - - - -')\n",
        "print(lista[1][0]) #indice da lista e sublista\n",
        "print(lista[1][0])\n",
        "\n"
      ],
      "metadata": {
        "colab": {
          "base_uri": "https://localhost:8080/"
        },
        "id": "oStBgcdvzlfJ",
        "outputId": "551df882-2026-42ee-f59e-0de23eda4f20"
      },
      "execution_count": null,
      "outputs": [
        {
          "output_type": "stream",
          "name": "stdout",
          "text": [
            "item1\n",
            "['python', 'Academy']\n",
            "item3\n",
            "x-x-x-x-x-x-x\n",
            "python\n",
            "python : é o índice zero da sublista\n",
            "Academy\n",
            "Academy : é o índice 01 da sublista\n",
            "- - - - - - - - -\n",
            "python\n",
            "python\n"
          ]
        }
      ]
    },
    {
      "cell_type": "code",
      "source": [
        "lista = ['item1', ['python', 'Academy'], 'item3']\n",
        "#Acessando a lista\n",
        "print(lista[0])\n",
        "print(lista[1])\n",
        "print(lista[2])\n",
        "\n",
        "#Acessando itens da sublista.\n",
        "print('- - Acessando a sublista e o elemento da sublista - - - ')\n",
        "print(lista[1][0]) #indice da lista e sublista\n",
        "print(lista[1][1])"
      ],
      "metadata": {
        "colab": {
          "base_uri": "https://localhost:8080/"
        },
        "id": "_fF8HuAu3ssk",
        "outputId": "628bf9b0-7fe5-4711-cffd-020fbf240544"
      },
      "execution_count": null,
      "outputs": [
        {
          "output_type": "stream",
          "name": "stdout",
          "text": [
            "item1\n",
            "['python', 'Academy']\n",
            "item3\n",
            "- - Acessando a sublista e o elemento da sublista - - - \n",
            "python\n",
            "Academy\n"
          ]
        }
      ]
    },
    {
      "cell_type": "markdown",
      "source": [
        "####Fatiando uma lista\n",
        "\n",
        "\n",
        "O fatiamento de listas, do inglês slicing, é a extração de um conjunto de elementos contidos numa lista. Lembre que o primeiro índice indica o ponto do início da fatia e o segundo índice é um depois do final da fatia (o elemento com esse índice não faz parte da fatia).\n",
        "Ele é feito da seguinte forma:\n",
        "\n",
        "lista[ inicio : fim : passo ]   \n",
        "\n",
        "Explicando cada elemento:\n",
        "\n",
        "**início**: se refere ao índice de início do fatiamento.\n",
        "**fim**: se refere ao índice final do fatiamento. A lista final não vai conter esse elemento.\n",
        "**passo**: é um parâmetro opcional e é utilizado para se pular elementos da lista original"
      ],
      "metadata": {
        "id": "yMcgOh674sLI"
      }
    },
    {
      "cell_type": "code",
      "source": [
        "#criar uma fatia de uma lista do índice 2 ao 4 :\n",
        "\n",
        "lista = [10, 20, 30, 40, 50, 60]\n",
        "\n",
        "print(lista[2:5]) #O slicing conta a partir do índice 2 até o índice 5 (mas não o utiliza), pegando os índices 2, 3, 4."
      ],
      "metadata": {
        "colab": {
          "base_uri": "https://localhost:8080/"
        },
        "id": "uY6Vthm55Z_H",
        "outputId": "e0a8e5e7-7758-4672-c990-2ec8da31fa17"
      },
      "execution_count": null,
      "outputs": [
        {
          "output_type": "stream",
          "name": "stdout",
          "text": [
            "[30, 40, 50]\n"
          ]
        }
      ]
    },
    {
      "cell_type": "code",
      "source": [
        "uma_lista = ['a', 'b', 'c', 'd', 'e', 'f']\n",
        "print(uma_lista[1:3])\n",
        "print(uma_lista[:4])\n",
        "print(uma_lista[3:])\n",
        "print(uma_lista[:])\n"
      ],
      "metadata": {
        "id": "UeCw-aar4ThF"
      },
      "execution_count": null,
      "outputs": []
    },
    {
      "cell_type": "markdown",
      "source": [
        "#### Percorrendo listas\n",
        "\n",
        "A forma mais comum de percorrer os elementos em uma lista é com um loop for elemento in lista,"
      ],
      "metadata": {
        "id": "ZQehaMlk1tKo"
      }
    },
    {
      "cell_type": "code",
      "source": [
        "lista = [10, 20, 30, 40, 50, 60]\n",
        "\n",
        "for num in lista:\n",
        "    print(num)"
      ],
      "metadata": {
        "colab": {
          "base_uri": "https://localhost:8080/"
        },
        "id": "7s7q5YJD1_TX",
        "outputId": "0e575d5a-f4f3-4eca-d54f-8915712bcc3d"
      },
      "execution_count": null,
      "outputs": [
        {
          "output_type": "stream",
          "name": "stdout",
          "text": [
            "10\n",
            "20\n",
            "30\n",
            "40\n",
            "50\n",
            "60\n"
          ]
        }
      ]
    },
    {
      "cell_type": "markdown",
      "source": [
        "####Pertinência em uma Lista\n",
        "\n",
        "in e not in são operadores booleanos ou lógicos que testam a pertinência (membership) em uma sequência. Já usamos esses operadores com strings e eles também funcionam aqui."
      ],
      "metadata": {
        "id": "A48eBG4S2mGf"
      }
    },
    {
      "cell_type": "code",
      "source": [
        "frutas = [\"maca\", \"laranja\", \"banana\", \"cereja\"]\n",
        "\n",
        "#maca pertence a lista frutas\n",
        "print(\"maca\" in frutas)\n",
        "#pera pertence a lista frutas\n",
        "print(\"pera\" in frutas)"
      ],
      "metadata": {
        "colab": {
          "base_uri": "https://localhost:8080/"
        },
        "id": "hzlT7Wli2sOJ",
        "outputId": "d2ff75ac-34fe-40ad-b6d8-06b43d701a43"
      },
      "execution_count": null,
      "outputs": [
        {
          "output_type": "stream",
          "name": "stdout",
          "text": [
            "True\n",
            "False\n"
          ]
        }
      ]
    },
    {
      "cell_type": "markdown",
      "source": [
        "####Concatenação e repetição\n",
        "\n",
        "Novamente, como com strings, o operador + concatena listas. Analogamente, o operador * repete os itens em uma lista um dado número de vezes."
      ],
      "metadata": {
        "id": "zYTlgykM3Fiw"
      }
    },
    {
      "cell_type": "code",
      "source": [
        "frutas = [\"maca\", \"laranja\", \"banana\", \"cereja\"]\n",
        "print([1, 2] + [3, 4])\n",
        "print(frutas + [6, 7, 8, 9])\n",
        "\n",
        "print([0] * 4)\n",
        "print([1, 2, [\"ola\", \"adeus\"]]*2)\n"
      ],
      "metadata": {
        "colab": {
          "base_uri": "https://localhost:8080/"
        },
        "id": "AWJzyZqr3K6l",
        "outputId": "e7f820bb-52a1-4000-d85a-dc7e4060825d"
      },
      "execution_count": null,
      "outputs": [
        {
          "output_type": "stream",
          "name": "stdout",
          "text": [
            "[1, 2, 3, 4]\n",
            "['maca', 'laranja', 'banana', 'cereja', 6, 7, 8, 9]\n",
            "[0, 0, 0, 0]\n",
            "[1, 2, ['ola', 'adeus'], 1, 2, ['ola', 'adeus']]\n"
          ]
        }
      ]
    },
    {
      "cell_type": "markdown",
      "source": [
        "####Função de conversão list\n",
        "Python possui uma função nativa chamada list que procura converter o seu argumento para o tipo list."
      ],
      "metadata": {
        "id": "TR-0MNBA8KDg"
      }
    },
    {
      "cell_type": "code",
      "source": [
        "xs = list(\"Crunchy Frog\")\n",
        "print(xs)"
      ],
      "metadata": {
        "colab": {
          "base_uri": "https://localhost:8080/"
        },
        "id": "16HajOYi8cpC",
        "outputId": "b7593b55-222c-4232-a883-ad610bfbf76a"
      },
      "execution_count": null,
      "outputs": [
        {
          "output_type": "stream",
          "name": "stdout",
          "text": [
            "['C', 'r', 'u', 'n', 'c', 'h', 'y', ' ', 'F', 'r', 'o', 'g']\n"
          ]
        }
      ]
    },
    {
      "cell_type": "markdown",
      "source": [
        "#### Itertools\n"
      ],
      "metadata": {
        "id": "EHN4ZQYNYpJD"
      }
    },
    {
      "cell_type": "code",
      "source": [
        "from itertools import zip_longest\n",
        "\n",
        "produtos = ['Produto 1', 'Produto 2', 'Produto 3', 'Produto 4', 'Produto 5']\n",
        "precos = ['R$500,00', 'R$1500,00', 'R$2700,00', 'R$5000,00']\n",
        "\n",
        "for produto, preco in zip_longest (produtos, precos):\n",
        "  print(f'Produto: {produto} encontrando no valor de {preco}')\n",
        "\n",
        "  #alt +ctrl+shift+windo"
      ],
      "metadata": {
        "id": "wHJFHwfwYyjd",
        "colab": {
          "base_uri": "https://localhost:8080/"
        },
        "outputId": "2921cd54-976b-464e-fe42-d25de4937532"
      },
      "execution_count": null,
      "outputs": [
        {
          "output_type": "stream",
          "name": "stdout",
          "text": [
            "Produto: Produto 1 encontrando no valor de R$500,00\n",
            "Produto: Produto 2 encontrando no valor de R$1500,00\n",
            "Produto: Produto 3 encontrando no valor de R$2700,00\n",
            "Produto: Produto 4 encontrando no valor de R$5000,00\n",
            "Produto: Produto 5 encontrando no valor de None\n"
          ]
        }
      ]
    },
    {
      "cell_type": "markdown",
      "source": [
        "#### DESAFIO 1\n",
        "\n",
        "Usando as listas abaixo:\n",
        "\n",
        "produtos = ['Produto 1', 'Produto 2', 'Produto 3', 'Produto 4', 'Produto 5']\n",
        "\n",
        "precos = ['R$500,00', 'R$1500,00', 'R$2700,00', 'R$5000,00']\n",
        "\n",
        "Estamos extraindo preços de um site de produtos e queremos armazenar as informações encontradas, porém a pesquisa foi encontrada em momentos diferentes, assim acabamos com duas listas diferentes, favor criar uma mensagem que diz o nome e valor produto, como as mensagens abaixo:\n",
        "\n",
        "Produto: Produto 1 encontrado no valor de R$500,00\n",
        "\n",
        "Produto: Produto 2 encontrado no valor de R$1500,00\n",
        "\n",
        "Produto: Produto 3 encontrado no valor de R$2700,00\n",
        "\n",
        "Produto: Produto 4 encontrado no valor de R$5000,00\n",
        "\n",
        "Produto: Produto 5 encontrado no valor de None  "
      ],
      "metadata": {
        "id": "qFe5Y2DCY0tK"
      }
    },
    {
      "cell_type": "markdown",
      "source": [
        "#### Desafio #1\n",
        "Crie uma lista que tenha os nomes dos 3 objetos que você mais usa durante o dia e imprima ele na tela"
      ],
      "metadata": {
        "id": "mZQ4XCmUYiN6"
      }
    },
    {
      "cell_type": "code",
      "source": [
        "objetos = ['computador', 'agenda', 'celular']\n",
        "print(objetos)"
      ],
      "metadata": {
        "colab": {
          "base_uri": "https://localhost:8080/"
        },
        "id": "eHcKGVAaZmZF",
        "outputId": "5be228c4-c959-492c-f2a5-1352f3927d43"
      },
      "execution_count": null,
      "outputs": [
        {
          "output_type": "stream",
          "name": "stdout",
          "text": [
            "['computador', 'agenda', 'celular']\n"
          ]
        }
      ]
    },
    {
      "cell_type": "markdown",
      "source": [
        "#### Desafio #2\n",
        "Usando apenas uma linha de código, crie uma lista de 10 a 131"
      ],
      "metadata": {
        "id": "41dQkK-EY2ow"
      }
    },
    {
      "cell_type": "code",
      "source": [
        "lista_de_10_a_132 = list(range(10,132))\n",
        "print(lista_de_10_a_132)"
      ],
      "metadata": {
        "colab": {
          "base_uri": "https://localhost:8080/"
        },
        "id": "QORoo4ixaCC_",
        "outputId": "2eeee907-fe68-4f4e-9085-2af2c558a72f"
      },
      "execution_count": null,
      "outputs": [
        {
          "output_type": "stream",
          "name": "stdout",
          "text": [
            "[10, 11, 12, 13, 14, 15, 16, 17, 18, 19, 20, 21, 22, 23, 24, 25, 26, 27, 28, 29, 30, 31, 32, 33, 34, 35, 36, 37, 38, 39, 40, 41, 42, 43, 44, 45, 46, 47, 48, 49, 50, 51, 52, 53, 54, 55, 56, 57, 58, 59, 60, 61, 62, 63, 64, 65, 66, 67, 68, 69, 70, 71, 72, 73, 74, 75, 76, 77, 78, 79, 80, 81, 82, 83, 84, 85, 86, 87, 88, 89, 90, 91, 92, 93, 94, 95, 96, 97, 98, 99, 100, 101, 102, 103, 104, 105, 106, 107, 108, 109, 110, 111, 112, 113, 114, 115, 116, 117, 118, 119, 120, 121, 122, 123, 124, 125, 126, 127, 128, 129, 130, 131]\n"
          ]
        }
      ]
    },
    {
      "cell_type": "markdown",
      "source": [
        "#### Desafio #3\n",
        "Imprima na tela o resultado da combinação da lista do desafio 1 e desafio 2"
      ],
      "metadata": {
        "id": "3ingF61uY-Gh"
      }
    },
    {
      "cell_type": "code",
      "source": [
        "print (objetos+lista_de_10_a_132)"
      ],
      "metadata": {
        "colab": {
          "base_uri": "https://localhost:8080/"
        },
        "id": "Qq_bV0R4aMCz",
        "outputId": "cff48f02-712d-4945-c61a-322b05f4e845"
      },
      "execution_count": null,
      "outputs": [
        {
          "output_type": "stream",
          "name": "stdout",
          "text": [
            "['computador', 'agenda', 'celular', 10, 11, 12, 13, 14, 15, 16, 17, 18, 19, 20, 21, 22, 23, 24, 25, 26, 27, 28, 29, 30, 31, 32, 33, 34, 35, 36, 37, 38, 39, 40, 41, 42, 43, 44, 45, 46, 47, 48, 49, 50, 51, 52, 53, 54, 55, 56, 57, 58, 59, 60, 61, 62, 63, 64, 65, 66, 67, 68, 69, 70, 71, 72, 73, 74, 75, 76, 77, 78, 79, 80, 81, 82, 83, 84, 85, 86, 87, 88, 89, 90, 91, 92, 93, 94, 95, 96, 97, 98, 99, 100, 101, 102, 103, 104, 105, 106, 107, 108, 109, 110, 111, 112, 113, 114, 115, 116, 117, 118, 119, 120, 121, 122, 123, 124, 125, 126, 127, 128, 129, 130, 131]\n"
          ]
        }
      ]
    },
    {
      "cell_type": "markdown",
      "source": [
        "#### Desafio #4\n",
        "Crie uma lista de listas(matriz) que tenha os nomes dos 3 objetos que você mais usa durante o dia, mas agora dentro de cada item você vai colocar uma informação extra, coloque o valor em reais desse objeto também e imprima ele na tela  "
      ],
      "metadata": {
        "id": "XpKo5RyeZEaU"
      }
    },
    {
      "cell_type": "code",
      "source": [
        "itens_mais_usados = [['Computador',5000],['Caderno',40],['Celular',1600]]\n",
        "# computador e 5000 é um item, caderno e 40 outro item,\n",
        "print(itens_mais_usados[0][0])#item 0 indice 0\n",
        "print(itens_mais_usados[0][1])\n",
        "print(itens_mais_usados[1][0])#item 1 indice 0"
      ],
      "metadata": {
        "colab": {
          "base_uri": "https://localhost:8080/"
        },
        "id": "Pc-n_GIbaszx",
        "outputId": "ba8146f6-933e-448c-d7c5-985587619258"
      },
      "execution_count": null,
      "outputs": [
        {
          "output_type": "stream",
          "name": "stdout",
          "text": [
            "Computador\n",
            "5000\n",
            "Caderno\n"
          ]
        }
      ]
    },
    {
      "cell_type": "code",
      "source": [
        "lista = [10, 20, 30, 40]\n",
        "\n",
        "for indice, valor in enumerate(lista):\n",
        "    print(indice, valor)"
      ],
      "metadata": {
        "colab": {
          "base_uri": "https://localhost:8080/"
        },
        "id": "VBjtHm4l26yA",
        "outputId": "0f175712-de67-40cd-b2fa-5aa513e0c353"
      },
      "execution_count": null,
      "outputs": [
        {
          "output_type": "stream",
          "name": "stdout",
          "text": [
            "0 10\n",
            "1 20\n",
            "2 30\n",
            "3 40\n"
          ]
        }
      ]
    },
    {
      "cell_type": "code",
      "source": [
        "#FUNÇÃO ENUMERATE()\n",
        "l1 = [\"eat\",'sleep', \"repeat\"]\n",
        "s1 = \"geek\"\n",
        "\n",
        "#Criando objetos enumerados\n",
        "\n",
        "obj1 = enumerate(l1)\n",
        "obj2 = enumerate(s1)\n",
        "\n",
        "\n",
        "print(\"Return type:\", type(obj1))\n",
        "print (\"Lista indice e elemento =\", list(enumerate(l1)))\n",
        "\n"
      ],
      "metadata": {
        "colab": {
          "base_uri": "https://localhost:8080/"
        },
        "id": "u_XiGOSVwJJG",
        "outputId": "9b1d2f44-9f07-4217-d11e-6696a3b74db9"
      },
      "execution_count": null,
      "outputs": [
        {
          "output_type": "stream",
          "name": "stdout",
          "text": [
            "Return type: <class 'enumerate'>\n",
            "Lista indice e elemento [(0, 'eat'), (1, 'sleep'), (2, 'repeat')]\n"
          ]
        }
      ]
    },
    {
      "cell_type": "code",
      "source": [
        "lista = [10, 20, 30, 40]\n",
        "\n",
        "for indice, valor in enumerate(lista):\n",
        "    print(f'índice = {indice}, valor = {valor}')"
      ],
      "metadata": {
        "colab": {
          "base_uri": "https://localhost:8080/"
        },
        "id": "xYjEoPEx3xZO",
        "outputId": "6c1ae636-3b1b-44d9-d5de-7d1cd5bad1a0"
      },
      "execution_count": null,
      "outputs": [
        {
          "output_type": "stream",
          "name": "stdout",
          "text": [
            "índice = 0, valor = 10\n",
            "índice = 1, valor = 20\n",
            "índice = 2, valor = 30\n",
            "índice = 3, valor = 40\n"
          ]
        }
      ]
    },
    {
      "cell_type": "code",
      "source": [
        "valores = []\n",
        "valores.append(3)\n",
        "valores.append(9)\n",
        "valores.append(4)\n",
        "\n",
        "for c, v in enumerate(valores):\n",
        "  print(f'Na posição {c} encontrei o valor {v}!')\n",
        "print('- '*7)\n",
        "print('Cheguei ao final da lista.')"
      ],
      "metadata": {
        "colab": {
          "base_uri": "https://localhost:8080/"
        },
        "id": "9vFbPGdBaH-T",
        "outputId": "f9e0e9d1-ced7-44ae-8b6f-c78b401572fb"
      },
      "execution_count": null,
      "outputs": [
        {
          "output_type": "stream",
          "name": "stdout",
          "text": [
            "Na posição 0 encontrei o valor 3!\n",
            "Na posição 1 encontrei o valor 9!\n",
            "Na posição 2 encontrei o valor 4!\n",
            "- - - - - - - \n",
            "Cheguei ao final da lista.\n"
          ]
        }
      ]
    },
    {
      "cell_type": "code",
      "source": [
        "valores = list()\n",
        "\n",
        "for cont in range(0,5):\n",
        "  valores.append(int(input('Digite um valor: ')))\n",
        "\n",
        "for c, v in enumerate(valores):\n",
        "  print(f'Na posição {c} encontrei o valor {v}!')\n",
        "print('- '*7)\n",
        "print('Cheguei ao final da lista.')"
      ],
      "metadata": {
        "colab": {
          "base_uri": "https://localhost:8080/"
        },
        "id": "na_FplYva_tX",
        "outputId": "e949a140-6f1d-407f-fc51-345ce5a3c25b"
      },
      "execution_count": null,
      "outputs": [
        {
          "output_type": "stream",
          "name": "stdout",
          "text": [
            "Digite um valor: 5\n",
            "Digite um valor: 3\n",
            "Digite um valor: 9\n",
            "Digite um valor: 8\n",
            "Digite um valor: 1\n",
            "Na posição 0 encontrei o valor 5!\n",
            "Na posição 1 encontrei o valor 3!\n",
            "Na posição 2 encontrei o valor 9!\n",
            "Na posição 3 encontrei o valor 8!\n",
            "Na posição 4 encontrei o valor 1!\n",
            "- - - - - - - \n",
            "Cheguei ao final da lista.\n"
          ]
        }
      ]
    },
    {
      "cell_type": "markdown",
      "source": [
        "#### List Comprehension"
      ],
      "metadata": {
        "id": "vXucwpRR4V08"
      }
    },
    {
      "cell_type": "code",
      "source": [
        "lista = [10, 20, 30, 40]\n",
        "#print(num) for num in lista\n",
        "\n",
        "for num in lista:\n",
        "    print(num)\n",
        "\n",
        "# Com enumerate:\n",
        "for indice, valor in enumerate(lista):\n",
        "    print(f'índice={indice}, valor={valor}')\n"
      ],
      "metadata": {
        "colab": {
          "base_uri": "https://localhost:8080/"
        },
        "id": "44R5QdwJ4Rd7",
        "outputId": "8c14f8b3-771b-4a51-dd5c-96fad9b8d569"
      },
      "execution_count": null,
      "outputs": [
        {
          "output_type": "stream",
          "name": "stdout",
          "text": [
            "10\n",
            "20\n",
            "30\n",
            "40\n",
            "índice=0, valor=10\n",
            "índice=1, valor=20\n",
            "índice=2, valor=30\n",
            "índice=3, valor=40\n"
          ]
        }
      ]
    },
    {
      "cell_type": "markdown",
      "source": [
        "####Concatenar (juntaR) listas"
      ],
      "metadata": {
        "id": "MvaiuPzlGEYH"
      }
    },
    {
      "cell_type": "code",
      "source": [
        "\n",
        "alfabeto = ['a', 'b', 'c', 'd']\n",
        "numeros = [0, 1, 2, 3, 4]\n",
        "alfanumerica = alfabeto + numeros\n",
        "\n",
        "print(alfanumerica)"
      ],
      "metadata": {
        "colab": {
          "base_uri": "https://localhost:8080/"
        },
        "id": "2HZDmzYMDitC",
        "outputId": "9faacb93-d8d6-4eaa-ef30-edee0200f25a"
      },
      "execution_count": null,
      "outputs": [
        {
          "output_type": "stream",
          "name": "stdout",
          "text": [
            "['a', 'b', 'c', 'd', 0, 1, 2, 3, 4]\n"
          ]
        }
      ]
    },
    {
      "cell_type": "markdown",
      "source": [
        "####Atribuição de valor a uma posição na list"
      ],
      "metadata": {
        "id": "mgxgk9SLkVBI"
      }
    },
    {
      "cell_type": "code",
      "source": [
        "alfabeto = ['a', 'b', 'c', 'd']\n",
        "alfabeto[1] = 20.1 #inserindo no indice [1] da lista alfabeto o valor 20.1\n",
        "\n",
        "print(alfabeto)"
      ],
      "metadata": {
        "colab": {
          "base_uri": "https://localhost:8080/"
        },
        "id": "_1YG80vukgGg",
        "outputId": "26f7e036-bbe3-440c-b432-63e50c8690c7"
      },
      "execution_count": null,
      "outputs": [
        {
          "output_type": "stream",
          "name": "stdout",
          "text": [
            "['a', 20.1, 'c', 'd']\n"
          ]
        }
      ]
    },
    {
      "cell_type": "markdown",
      "source": [
        "####Criando um cópia de lista"
      ],
      "metadata": {
        "id": "3XkixMLeiXLI"
      }
    },
    {
      "cell_type": "code",
      "source": [
        "a=[2,5,6,9]\n",
        "b = a[:] #criando um cópia de A, pega todos os valores de A e põem em B\n",
        "b[1]= 8\n",
        "print(f'Lista A: {a}')\n",
        "print(f'Lista B: {b}')\n"
      ],
      "metadata": {
        "colab": {
          "base_uri": "https://localhost:8080/"
        },
        "id": "SsgQOwtOieKC",
        "outputId": "aafe1b62-974a-46c4-aec2-451ff0cc76e7"
      },
      "execution_count": null,
      "outputs": [
        {
          "output_type": "stream",
          "name": "stdout",
          "text": [
            "Lista A: [2, 5, 6, 9]\n",
            "Lista B: [2, 8, 6, 9]\n"
          ]
        }
      ]
    },
    {
      "cell_type": "markdown",
      "source": [
        "####Desafio 78\n",
        "\n",
        "Faça um programa que leia 5 valores numéricos e guarde-os em uma lista. No final, mostre qual foi o maior e o menor valor digitado e as suas respectivas posições na lista."
      ],
      "metadata": {
        "id": "ipKN_Z1pmg6b"
      }
    },
    {
      "cell_type": "code",
      "source": [
        "listanum = [] #lista vazia\n",
        "\n",
        "for c in range (0,5): #Definindo o tamanho da lista.\n",
        "\n",
        "#Definindo a entrada de dados e armazenamento na 'listanum'\n",
        "  listanum.append(int(input(f'Digite um valor para a posição {c}: ')))\n",
        "\n",
        "print('- '*20)\n",
        "print(f'Você digitou os valores {listanum}')\n",
        "\n",
        "\n",
        "\n",
        "\n",
        "\n",
        "\n"
      ],
      "metadata": {
        "colab": {
          "base_uri": "https://localhost:8080/"
        },
        "id": "QATEICKXnkqf",
        "outputId": "5a10f2bd-ea8a-4fd1-97a6-97af3df2aac3"
      },
      "execution_count": null,
      "outputs": [
        {
          "output_type": "stream",
          "name": "stdout",
          "text": [
            "Digite um valor para a posição 0: 8\n",
            "Digite um valor para a posição 1: 6\n",
            "Digite um valor para a posição 2: 5\n",
            "Digite um valor para a posição 3: 4\n",
            "Digite um valor para a posição 4: 3\n",
            "- - - - - - - - - - - - - - - - - - - - \n",
            "Você digitou os valores [8, 6, 5, 4, 3]\n"
          ]
        }
      ]
    },
    {
      "cell_type": "markdown",
      "source": [
        "###ENUMERATE\n",
        "\n",
        "Com a função enumerate() podemos percorrer também o índice referente a cada valor da lista:\n"
      ],
      "metadata": {
        "id": "VQp6oi4o2vXJ"
      }
    },
    {
      "cell_type": "code",
      "source": [
        "#ENTENDA ISSO ANRES DE SEGUIR.\n",
        "#exemplo 1\n",
        "print('- - Exemplo 1 - - ')\n",
        "for numero in range(1,4):\n",
        "    print(numero)\n",
        "\n",
        "#Exemplo 2\n",
        "print('- - Exemplo 2 - - - ')\n",
        "nomes = ['nome1','nome2','nome3']\n",
        "for nome in nomes:\n",
        "    print(nome)\n",
        "\n",
        "#Exemplo 3\n",
        "#Crie uma sequência de 0 a 5 em forma de lista.\n",
        "print('- - Exemplo 3 - - -')\n",
        "print (list(range(5)))"
      ],
      "metadata": {
        "colab": {
          "base_uri": "https://localhost:8080/"
        },
        "id": "XMv9R6-m8cJ8",
        "outputId": "270029e8-0fd4-496e-f633-53beb463abdc"
      },
      "execution_count": null,
      "outputs": [
        {
          "output_type": "stream",
          "name": "stdout",
          "text": [
            "- - Exemplo 1 - - \n",
            "1\n",
            "2\n",
            "3\n",
            "- - Exemplo 2 - - - \n",
            "nome1\n",
            "nome2\n",
            "nome3\n",
            "- - Exemplo 3 - - -\n",
            "[0, 1, 2, 3, 4]\n"
          ]
        }
      ]
    },
    {
      "cell_type": "markdown",
      "source": [
        "#####Enumerate na Pratica"
      ],
      "metadata": {
        "id": "tonJIKm3HqDv"
      }
    },
    {
      "cell_type": "code",
      "source": [
        "nomes = ['nome1','nome2','nome3','nome4','nome5']\n",
        "for indice, nome in enumerate(nomes,1):\n",
        "    print(indice, nome)\n",
        "    if indice ==3:\n",
        "      print('já temos 3 pessoas inscritas, faltam 2 vagas')\n",
        "print('Inscrições encerradas')"
      ],
      "metadata": {
        "colab": {
          "base_uri": "https://localhost:8080/"
        },
        "id": "uWimQ91wHvYl",
        "outputId": "3b2e89cf-f915-44ab-9e5c-3a4c41f190d6"
      },
      "execution_count": null,
      "outputs": [
        {
          "output_type": "stream",
          "name": "stdout",
          "text": [
            "1 nome1\n",
            "2 nome2\n",
            "3 nome3\n",
            "já temos 3 pessoas inscritas, faltam 2 vagas\n",
            "4 nome4\n",
            "5 nome5\n",
            "Inscrições encerradas\n"
          ]
        }
      ]
    },
    {
      "cell_type": "markdown",
      "source": [
        "#####DESAFIO\n",
        "Itere sobre a lista abaixo exibindo o número do índice + nome da fruta. Porém quando o índice for 3 exiba 'Nº indice + nome da fruta ITEM EM PROMOÇÃO."
      ],
      "metadata": {
        "id": "iFgdPMktJs4l"
      }
    },
    {
      "cell_type": "code",
      "source": [
        "#RESOLUÇÃO DO DESAFIO.\n",
        "frutas = ['Maçã', 'Laranja','Morango','Limão','abacaxi']\n",
        "\n",
        "for indice, fruta in enumerate(frutas,1):#começando o enumerate com 1 mas pode ser zero.\n",
        "    if indice ==3:\n",
        "      print(f'{indice} {fruta} está em Promoção!')\n",
        "    else:\n",
        "      print(indice,fruta)\n",
        "\n",
        "\n"
      ],
      "metadata": {
        "colab": {
          "base_uri": "https://localhost:8080/"
        },
        "id": "3eUGTiCbJxqR",
        "outputId": "1d974005-ba0d-44ab-d1e3-3eef94a5b920"
      },
      "execution_count": null,
      "outputs": [
        {
          "output_type": "stream",
          "name": "stdout",
          "text": [
            "1 Maçã\n",
            "2 Laranja\n",
            "3 Morango está em Promoção!\n",
            "4 Limão\n",
            "5 abacaxi\n"
          ]
        }
      ]
    },
    {
      "cell_type": "markdown",
      "source": [
        "###DICIONÁRIOS\n",
        "Dicionários são listas com um 'rótulo'.\n",
        "é útil para armazenar informações que precisam de algum tipo de identificador;\n",
        "dicionário(chave,valor)\n",
        "\n"
      ],
      "metadata": {
        "id": "d9f0wjgywY5z"
      }
    },
    {
      "cell_type": "code",
      "source": [
        "#Python para ML\n",
        "dicionario = {'nome':'Ricardo','idade':33,'funcao_favorita':'escrever'}\n",
        "\n",
        "type(dicionario)#identificando o tipo\n",
        "\n",
        "print(dicionario.keys())\n",
        "print(dicionario.values())\n",
        "##adicionando uma chave e valorj\n",
        "dicionario['musica_favorita']='Fairy Tale'\n",
        "\n",
        "print(dicionario)\n"
      ],
      "metadata": {
        "colab": {
          "base_uri": "https://localhost:8080/"
        },
        "id": "478MCdS5vsvf",
        "outputId": "1413eb3e-234f-438e-d45f-016b9129eb42"
      },
      "execution_count": null,
      "outputs": [
        {
          "output_type": "stream",
          "name": "stdout",
          "text": [
            "dict_keys(['nome', 'idade', 'funcao_favorita'])\n",
            "dict_values(['Ricardo', 33, 'escrever'])\n",
            "{'nome': 'Ricardo', 'idade': 33, 'funcao_favorita': 'escrever', 'musica_favorita': 'Fairy Tale'}\n"
          ]
        }
      ]
    },
    {
      "cell_type": "code",
      "source": [
        "#Exemplo: E-mails de gerente de lojas do RJ;\n",
        "emails_gerentes = {'Iguatemi':\"iguatemi@gmail.com\",\n",
        "                   'Plaza':\"plaza@gmail.com\",\n",
        "                   \"Barra\":\"barra@gmail.com\"\n",
        "                   }\n",
        "\n",
        "print(emails_gerentes)"
      ],
      "metadata": {
        "colab": {
          "base_uri": "https://localhost:8080/"
        },
        "id": "n1p-i8KZebpB",
        "outputId": "1a24d48f-09dc-45a1-ddaf-4fdd972698eb"
      },
      "execution_count": null,
      "outputs": [
        {
          "output_type": "stream",
          "name": "stdout",
          "text": [
            "{'Iguatemi': 'iguatemi@gmail.com', 'Plaza': 'plaza@gmail.com', 'Barra': 'barra@gmail.com'}\n"
          ]
        }
      ]
    },
    {
      "cell_type": "markdown",
      "source": [
        "#### Descobrindo o email e armazenando em uma variável (email)"
      ],
      "metadata": {
        "id": "Dvko1W9thE4O"
      }
    },
    {
      "cell_type": "code",
      "source": [
        "email= emails_gerentes['Iguatemi']#Posição em dicionários é posição por rótulo/nome\n",
        "print(email)"
      ],
      "metadata": {
        "colab": {
          "base_uri": "https://localhost:8080/"
        },
        "id": "-QN0HbmSg_-D",
        "outputId": "fbfb278a-7bba-4098-f9d5-5f31cd052311"
      },
      "execution_count": null,
      "outputs": [
        {
          "output_type": "stream",
          "name": "stdout",
          "text": [
            "iguatemi@gmail.com\n"
          ]
        }
      ]
    },
    {
      "cell_type": "markdown",
      "source": [
        "#### Adicionando uma nova chave e valor ao dicionário existente"
      ],
      "metadata": {
        "id": "kZVDzwwGh07m"
      }
    },
    {
      "cell_type": "code",
      "source": [
        "emails_gerentes[\"Leblon\"] = 'leblon@gmail.com'\n",
        "print(emails_gerentes)"
      ],
      "metadata": {
        "colab": {
          "base_uri": "https://localhost:8080/"
        },
        "id": "SRNjCGUbiBNX",
        "outputId": "726e57fb-9c52-435b-8d12-18698f3db02d"
      },
      "execution_count": null,
      "outputs": [
        {
          "output_type": "stream",
          "name": "stdout",
          "text": [
            "{'Iguatemi': 'iguatemi@gmail.com', 'Plaza': 'plaza@gmail.com', 'Barra': 'barra@gmail.com', 'Leblon': 'leblon@gmail.com'}\n"
          ]
        }
      ]
    },
    {
      "cell_type": "markdown",
      "source": [
        "#### Keys\n",
        "Descobrindo apenas os nomes dos shoppings."
      ],
      "metadata": {
        "id": "ouBdiVTIix5L"
      }
    },
    {
      "cell_type": "code",
      "source": [
        "#forma 1 de fazer(usando o for)\n",
        "for shopping in emails_gerentes:\n",
        "  print('Os shoppings são', shopping)"
      ],
      "metadata": {
        "colab": {
          "base_uri": "https://localhost:8080/"
        },
        "id": "7cWASXXri3t4",
        "outputId": "37b8ed2f-7e6a-4ca1-9f17-1240567e0649"
      },
      "execution_count": null,
      "outputs": [
        {
          "output_type": "stream",
          "name": "stdout",
          "text": [
            "Os shoppings são Iguatemi\n",
            "Os shoppings são Plaza\n",
            "Os shoppings são Barra\n",
            "Os shoppings são Leblon\n"
          ]
        }
      ]
    },
    {
      "cell_type": "code",
      "source": [
        "#Forma 2:dicionario.keys()\n",
        "#função que printa todas as chaves do dicionário\n",
        "print(emails_gerentes.keys())"
      ],
      "metadata": {
        "colab": {
          "base_uri": "https://localhost:8080/"
        },
        "id": "4Qt5M-I_jrKY",
        "outputId": "7489354c-d262-4d3a-b48b-902eac1a1b0d"
      },
      "execution_count": null,
      "outputs": [
        {
          "output_type": "stream",
          "name": "stdout",
          "text": [
            "dict_keys(['Iguatemi', 'Plaza', 'Barra', 'Leblon'])\n"
          ]
        }
      ]
    },
    {
      "cell_type": "markdown",
      "source": [
        "Se eu quiser todos os e-mails?\n"
      ],
      "metadata": {
        "id": "mD-GTWUqkxug"
      }
    },
    {
      "cell_type": "code",
      "source": [
        "#forma 1: fazer um for\n",
        "for shopping in emails_gerentes:\n",
        "  email = emails_gerentes[shopping]\n",
        "  print(email)"
      ],
      "metadata": {
        "colab": {
          "base_uri": "https://localhost:8080/"
        },
        "id": "jBSwEJ2gk27k",
        "outputId": "6c6415ad-1512-4461-caad-e4b593cbb696"
      },
      "execution_count": null,
      "outputs": [
        {
          "output_type": "stream",
          "name": "stdout",
          "text": [
            "iguatemi@gmail.com\n",
            "plaza@gmail.com\n",
            "barra@gmail.com\n",
            "leblon@gmail.com\n"
          ]
        }
      ]
    },
    {
      "cell_type": "code",
      "source": [
        "#forma 2: dicionarios.values\n",
        "print(emails_gerentes.values())"
      ],
      "metadata": {
        "colab": {
          "base_uri": "https://localhost:8080/"
        },
        "id": "0Y2PjF6MlPid",
        "outputId": "57ff0a7d-076b-4563-ebf1-9d95f7a6668a"
      },
      "execution_count": null,
      "outputs": [
        {
          "output_type": "stream",
          "name": "stdout",
          "text": [
            "dict_values(['iguatemi@gmail.com', 'plaza@gmail.com', 'barra@gmail.com', 'leblon@gmail.com'])\n"
          ]
        }
      ]
    },
    {
      "cell_type": "markdown",
      "source": [
        "#### Keys/values/items"
      ],
      "metadata": {
        "id": "vHTz-sG2xGxm"
      }
    },
    {
      "cell_type": "code",
      "source": [
        "dicionario_pessoa = {'nome':'Raquel','idade':25,'peso':70,'nome':'João','idade':47,'peso':98}\n",
        "print(dicionario_pessoa.keys())\n",
        "print(dicionario_pessoa.values())\n",
        "print(dicionario_pessoa.items())\n",
        "#OBS: Quando coloco outro nome como João, ele fica no lugar de Raquel, olhar exemplo dos shoopings\n",
        "\n",
        "matricula_pessoa = {'Carol':56789,'João':87956,'Marcos':67548,'Pedro':35467}\n",
        "print('- -'*5)\n",
        "print(matricula_pessoa.keys())\n",
        "print(matricula_pessoa.values())\n",
        "print(matricula_pessoa.items())#GERA UMA TUPLA DE INFORMAÇÕES."
      ],
      "metadata": {
        "colab": {
          "base_uri": "https://localhost:8080/"
        },
        "id": "RBMFtxZlxMcQ",
        "outputId": "7dcb66ee-45d4-4add-e8b8-2b04ebc3ea08"
      },
      "execution_count": null,
      "outputs": [
        {
          "output_type": "stream",
          "name": "stdout",
          "text": [
            "dict_keys(['nome', 'idade', 'peso'])\n",
            "dict_values(['João', 47, 98])\n",
            "dict_items([('nome', 'João'), ('idade', 47), ('peso', 98)])\n",
            "- -- -- -- -- -\n",
            "dict_keys(['Carol', 'João', 'Marcos', 'Pedro'])\n",
            "dict_values([56789, 87956, 67548, 35467])\n",
            "dict_items([('Carol', 56789), ('João', 87956), ('Marcos', 67548), ('Pedro', 35467)])\n"
          ]
        }
      ]
    },
    {
      "cell_type": "markdown",
      "source": [
        "####Iterar sobre um dicionario"
      ],
      "metadata": {
        "id": "5QYpfQLhy4Sy"
      }
    },
    {
      "cell_type": "code",
      "source": [
        "dicionario_pessoa = {'nome':'Raquel','idade':25,'peso':70,'nome':'João','idade':47,'peso':98}\n",
        "#iterar sobre um dicionário\n",
        "for item in dicionario_pessoa.items():\n",
        "  print(item)\n",
        "  #print(item[0])"
      ],
      "metadata": {
        "colab": {
          "base_uri": "https://localhost:8080/"
        },
        "id": "WWXJGjC2y93l",
        "outputId": "99233b09-7196-4358-b3ef-8e2d449d194a"
      },
      "execution_count": null,
      "outputs": [
        {
          "output_type": "stream",
          "name": "stdout",
          "text": [
            "('nome', 'João')\n",
            "('idade', 47)\n",
            "('peso', 98)\n"
          ]
        }
      ]
    },
    {
      "cell_type": "markdown",
      "source": [
        "####Retirando uma chave de um dicionário."
      ],
      "metadata": {
        "id": "Yz0X6UqBmCs4"
      }
    },
    {
      "cell_type": "code",
      "source": [
        "#usando o POP\n",
        "emails_gerentes.pop(\"Leblon\") #precisa usar a chave.\n",
        "print(emails_gerentes)"
      ],
      "metadata": {
        "colab": {
          "base_uri": "https://localhost:8080/"
        },
        "id": "zwaqywTvmIXB",
        "outputId": "af220b48-8c7c-4b82-b3e6-51d54bc1cd24"
      },
      "execution_count": null,
      "outputs": [
        {
          "output_type": "stream",
          "name": "stdout",
          "text": [
            "{'Iguatemi': 'iguatemi@gmail.com', 'Plaza': 'plaza@gmail.com', 'Barra': 'barra@gmail.com'}\n"
          ]
        }
      ]
    },
    {
      "cell_type": "markdown",
      "source": [
        "Verificando se um Shopping existe:"
      ],
      "metadata": {
        "id": "PgCIHEiZm4Ui"
      }
    },
    {
      "cell_type": "code",
      "source": [
        "if \"Iguatemi\" in emails_gerentes:\n",
        "  print(\"Existe\")\n",
        "else:\n",
        "  print(\"Não existe\")\n"
      ],
      "metadata": {
        "colab": {
          "base_uri": "https://localhost:8080/"
        },
        "id": "V-b5k0gjm_x8",
        "outputId": "5169a465-645a-4a61-f003-3e3bd7d60fc8"
      },
      "execution_count": null,
      "outputs": [
        {
          "output_type": "stream",
          "name": "stdout",
          "text": [
            "Existe\n"
          ]
        }
      ]
    },
    {
      "cell_type": "markdown",
      "source": [
        "####copy\n"
      ],
      "metadata": {
        "id": "nSM7gtfuxt2J"
      }
    },
    {
      "cell_type": "code",
      "source": [
        "#dicionário precos\n",
        "precos = {'Iphone':5000,'Ipad':10000,'Airpod':2500}\n",
        "print(precos)\n",
        "\n",
        "#maneira correta de alterar um valor no dicionário original mas mantendo ele como referência.\n",
        "\n",
        "novos_precos = precos.copy()\n",
        "novos_precos ['Airpod'] = 3000\n",
        "\n",
        "print('Dicionário original',(precos)) #dicionário original\n",
        "print('Dicionário alterado', novos_precos)#dicionario alterado"
      ],
      "metadata": {
        "colab": {
          "base_uri": "https://localhost:8080/"
        },
        "id": "b8kgQRRkx6x_",
        "outputId": "77909240-549e-4c0d-c623-b67a78272cda"
      },
      "execution_count": null,
      "outputs": [
        {
          "output_type": "stream",
          "name": "stdout",
          "text": [
            "{'Iphone': 5000, 'Ipad': 10000, 'Airpod': 2500}\n",
            "Dicionário original {'Iphone': 5000, 'Ipad': 10000, 'Airpod': 2500}\n",
            "Dicionário alterado {'Iphone': 5000, 'Ipad': 10000, 'Airpod': 3000}\n"
          ]
        }
      ]
    },
    {
      "cell_type": "markdown",
      "source": [
        "### ITEMGETTER\n",
        "- Ordenar listas de dicionários."
      ],
      "metadata": {
        "id": "utRx2S77RxG5"
      }
    },
    {
      "cell_type": "code",
      "source": [
        "#EXEMPLO 3\n",
        "pessoas = {'nome':'John','idade':32,'nivel_acesso':2,'nome':'Carol','idade':18,'nivel_acesso':3,'nome':'Thomas','idade':45,'nivel_acesso':5,'nome':'Amanda','idade':23,'nivel_acesso':1,'nome':'Henrique','idade':25,'nivel_acesso':2,'nome':'Paulo','idade':37,'nivel_acesso':4,}\n",
        "print(pessoas)\n",
        "pessoas = [{'nome':'John','idade':32,'nivel_acesso':2},{'nome':'Carol','idade':18,'nivel_acesso':3},{'nome':'Thomas','idade':45,'nivel_acesso':5},{'nome':'Amanda','idade':23,'nivel_acesso':1},{'nome':'Henrique','idade':25,'nivel_acesso':2},{'nome':'Paulo','idade':37,'nivel_acesso':4,}]\n",
        "print(pessoas)"
      ],
      "metadata": {
        "colab": {
          "base_uri": "https://localhost:8080/"
        },
        "id": "CGsADeHbOFc8",
        "outputId": "00272ef7-0ddf-4fe2-ce76-0625e4a24747"
      },
      "execution_count": null,
      "outputs": [
        {
          "output_type": "stream",
          "name": "stdout",
          "text": [
            "{'nome': 'Paulo', 'idade': 37, 'nivel_acesso': 4}\n",
            "[{'nome': 'John', 'idade': 32, 'nivel_acesso': 2}, {'nome': 'Carol', 'idade': 18, 'nivel_acesso': 3}, {'nome': 'Thomas', 'idade': 45, 'nivel_acesso': 5}, {'nome': 'Amanda', 'idade': 23, 'nivel_acesso': 1}, {'nome': 'Henrique', 'idade': 25, 'nivel_acesso': 2}, {'nome': 'Paulo', 'idade': 37, 'nivel_acesso': 4}]\n"
          ]
        }
      ]
    },
    {
      "cell_type": "code",
      "source": [
        "#Exemplo 4\n",
        "from operator import itemgetter\n",
        "pessoas = [{'nome':'John','idade':32,'nivel_acesso':2},{'nome':'Carol','idade':18,'nivel_acesso':3},{'nome':'Thomas','idade':45,'nivel_acesso':5},{'nome':'Amanda','idade':23,'nivel_acesso':1},{'nome':'Henrique','idade':25,'nivel_acesso':2},{'nome':'Paulo','idade':37,'nivel_acesso':4,}]\n",
        "\n",
        "#ordem crescente de nome.\n",
        "pessoas.sort(key=itemgetter('nome'))\n",
        "print(pessoas)\n",
        "#ordem crescente de idade\n",
        "pessoas.sort(key=itemgetter('idade'))\n",
        "print(pessoas)\n"
      ],
      "metadata": {
        "colab": {
          "base_uri": "https://localhost:8080/"
        },
        "id": "wLq7YE7mPoeR",
        "outputId": "53d1e06f-6fac-4b3c-86ed-369d269efcca"
      },
      "execution_count": null,
      "outputs": [
        {
          "output_type": "stream",
          "name": "stdout",
          "text": [
            "[{'nome': 'Amanda', 'idade': 23, 'nivel_acesso': 1}, {'nome': 'Carol', 'idade': 18, 'nivel_acesso': 3}, {'nome': 'Henrique', 'idade': 25, 'nivel_acesso': 2}, {'nome': 'John', 'idade': 32, 'nivel_acesso': 2}, {'nome': 'Paulo', 'idade': 37, 'nivel_acesso': 4}, {'nome': 'Thomas', 'idade': 45, 'nivel_acesso': 5}]\n",
            "[{'nome': 'Carol', 'idade': 18, 'nivel_acesso': 3}, {'nome': 'Amanda', 'idade': 23, 'nivel_acesso': 1}, {'nome': 'Henrique', 'idade': 25, 'nivel_acesso': 2}, {'nome': 'John', 'idade': 32, 'nivel_acesso': 2}, {'nome': 'Paulo', 'idade': 37, 'nivel_acesso': 4}, {'nome': 'Thomas', 'idade': 45, 'nivel_acesso': 5}]\n"
          ]
        }
      ]
    },
    {
      "cell_type": "markdown",
      "source": [
        "####DESAFIO 1\n",
        " Ordene a lista de produtos abaixo pelo preço em ordem crescente\n",
        "produtos = [\n",
        "    {'nome': 'Celular',\n",
        "     'preco': 1500\n",
        "     },\n",
        "    {'nome': 'Monitor',\n",
        "     'preco': 500\n",
        "     },\n",
        "    {'nome': 'Microfone',\n",
        "     'preco': 300\n",
        "     }\n",
        "]"
      ],
      "metadata": {
        "id": "YFZNqIoKcT2F"
      }
    },
    {
      "cell_type": "code",
      "source": [
        "# Ordene a lista de produtos abaixo pelo preço em ordem crescente\n",
        "from operator import itemgetter\n",
        "produtos = [\n",
        "    {'nome': 'Celular',\n",
        "     'preco': 1500\n",
        "     },\n",
        "    {'nome': 'Monitor',\n",
        "     'preco': 500\n",
        "     },\n",
        "    {'nome': 'Microfone',\n",
        "     'preco': 300\n",
        "     }\n",
        "]\n",
        "#resolução\n",
        "produtos.sort(key=itemgetter('preco'))\n",
        "print(produtos)\n"
      ],
      "metadata": {
        "colab": {
          "base_uri": "https://localhost:8080/"
        },
        "id": "X8xX0PsScb-2",
        "outputId": "a5ee9993-d9ef-4497-f4b4-d24796922dcb"
      },
      "execution_count": null,
      "outputs": [
        {
          "output_type": "stream",
          "name": "stdout",
          "text": [
            "[{'nome': 'Microfone', 'preco': 300}, {'nome': 'Monitor', 'preco': 500}, {'nome': 'Celular', 'preco': 1500}]\n"
          ]
        }
      ]
    },
    {
      "cell_type": "markdown",
      "source": [
        "####DESAFIO 2\n",
        "# Ordene em ordem descrescente a lista de equipamento_filmagem por valor do equipamento\n",
        "equipamento_filmagem = [\n",
        "    ('Tripé', 300),\n",
        "    ('Câmera', 1700),\n",
        "    ('Iluminação', 200),\n",
        "]"
      ],
      "metadata": {
        "id": "uii1NoB-cmiW"
      }
    },
    {
      "cell_type": "code",
      "source": [
        "# Ordene em ordem decrescente a lista de equipamento_filmagem por valor do equipamento\n",
        "from operator import itemgetter\n",
        "equipamento_filmagem = [\n",
        "    ('Tripé', 300),\n",
        "    ('Câmera', 1700),\n",
        "    ('Iluminação', 200),\n",
        "]\n",
        "\n",
        "equipamento_filmagem.sort(key=itemgetter(1),reverse=True)\n",
        "print(equipamento_filmagem)"
      ],
      "metadata": {
        "colab": {
          "base_uri": "https://localhost:8080/"
        },
        "id": "t87oR24velZK",
        "outputId": "c5adf02d-b040-4adf-cfeb-9876e6d0cf3a"
      },
      "execution_count": null,
      "outputs": [
        {
          "output_type": "stream",
          "name": "stdout",
          "text": [
            "[('Câmera', 1700), ('Tripé', 300), ('Iluminação', 200)]\n"
          ]
        }
      ]
    },
    {
      "cell_type": "markdown",
      "source": [
        "#### DESAFIO 3\n",
        "Ordene em ordem crescente a cotacao_moedas com base no valor da moeda\n",
        "\n",
        "cotacao_moedas = [['usd', 5.25], ['brl', 1.56], ['eur', 6.47]]"
      ],
      "metadata": {
        "id": "-YLS-_RzcwIw"
      }
    },
    {
      "cell_type": "code",
      "source": [
        "#Ordene em ordem crescente a cotacao_moedas com base no valor da moeda\n",
        "\n",
        "from operator import itemgetter\n",
        "\n",
        "cotacao_moedas = [['usd', 5.25], ['brl', 1.56], ['eur', 6.47]]\n",
        "\n",
        "#resolução\n",
        "cotacao_moedas.sort(key=itemgetter(1))\n",
        "print(cotacao_moedas)"
      ],
      "metadata": {
        "colab": {
          "base_uri": "https://localhost:8080/"
        },
        "id": "miHGrbi-dwJt",
        "outputId": "9088c3db-2de4-4581-b753-aa17ab25cc5a"
      },
      "execution_count": null,
      "outputs": [
        {
          "output_type": "stream",
          "name": "stdout",
          "text": [
            "[['brl', 1.56], ['usd', 5.25], ['eur', 6.47]]\n"
          ]
        }
      ]
    },
    {
      "cell_type": "markdown",
      "source": [
        "### ARRAY\n",
        "Armazena apenas elementos do mesmo tipo.\n",
        "só string, só inteiros. etc.\n",
        "\n",
        "\n",
        "Link da documentação de arrays: https://docs.python.org/pt-br/3.7/library/array.html"
      ],
      "metadata": {
        "id": "haz0FP0dywEb"
      }
    },
    {
      "cell_type": "code",
      "source": [
        "#Arrays\n",
        "from array import array\n",
        "#inteiros, números decimais e caracteres\n",
        "numeros = array('i',[1,2,3,4,5,6])\n",
        "#append - insere um valor no final\n",
        "print('array original',numeros)\n",
        "numeros.append(10)\n",
        "print('array com append',numeros)\n",
        "#insert - insere um valor em uma posição específica.\n",
        "numeros.insert(5,200)\n",
        "print(numeros)\n",
        "#pop - extraindo um indice específico da lista ou o último indice.\n",
        "numeros.pop(1)\n",
        "print(numeros)\n",
        "#Remove - extrai um elemento da lista e não o índice.\n",
        "numeros.remove(5)\n",
        "print(numeros)\n",
        "#del\n",
        "del numeros[1]\n",
        "print(numeros)\n"
      ],
      "metadata": {
        "colab": {
          "base_uri": "https://localhost:8080/"
        },
        "id": "k20taueEz7_k",
        "outputId": "96fcca27-7001-437c-c12a-20cc653177ce"
      },
      "execution_count": null,
      "outputs": [
        {
          "output_type": "stream",
          "name": "stdout",
          "text": [
            "array original array('i', [1, 2, 3, 4, 5, 6])\n",
            "array com append array('i', [1, 2, 3, 4, 5, 6, 10])\n",
            "array('i', [1, 2, 3, 4, 5, 200, 6, 10])\n",
            "array('i', [1, 3, 4, 5, 200, 6, 10])\n",
            "array('i', [1, 3, 4, 200, 6, 10])\n"
          ]
        }
      ]
    },
    {
      "cell_type": "markdown",
      "source": [
        "###MAP\n",
        "usado quando preciso processar todos os dados de uma lista. entre True e False."
      ],
      "metadata": {
        "id": "z-VrrfDckf9L"
      }
    },
    {
      "cell_type": "markdown",
      "source": [
        "###FILTER\n",
        "Usado quando preciso apenas extrair validar um dado específico de uma lista."
      ],
      "metadata": {
        "id": "tr7p8Vbikl0K"
      }
    },
    {
      "cell_type": "code",
      "source": [
        "#FILTER\n",
        "#EXEMPLO 1\n",
        "nomes = ['Larissa', 'Rafael','marcus','John']\n",
        "\n",
        "def pessoa_aprovada(pessoa):\n",
        "  if pessoa == 'marcus':\n",
        "    return True\n",
        "  else:\n",
        "    return False\n",
        "print('- - - RETORNO FILTER - - - ')\n",
        "print('filter = ',list(filter(pessoa_aprovada,nomes)))\n",
        "print('- - - RETORNO MAP - - - ')\n",
        "print('map = ',list(map(pessoa_aprovada,nomes)))"
      ],
      "metadata": {
        "colab": {
          "base_uri": "https://localhost:8080/"
        },
        "id": "aSDmPRxSktot",
        "outputId": "60148d91-a3bb-49b2-cde7-94fb36cd8475"
      },
      "execution_count": null,
      "outputs": [
        {
          "output_type": "stream",
          "name": "stdout",
          "text": [
            "- - - RETORNO FILTER - - - \n",
            "filter =  ['marcus']\n",
            "- - - RETORNO MAP - - - \n",
            "map =  [False, False, True, False]\n"
          ]
        }
      ]
    },
    {
      "cell_type": "code",
      "source": [
        "#EXEMPLO 2\n",
        "pinturas = [\n",
        "    ['Pintura Classica', 'Azul', 1857],\n",
        "    ['Pintura Medieval', 'Vermelha', 1867],\n",
        "    ['Pintura Moderna', 'Verde',1897]\n",
        "]\n",
        "\n",
        "def eh_antiguidade(pintura):\n",
        "  if pintura[2]< 1890: # indice 2 corresponde ao ano.\n",
        "      return True\n",
        "  else:\n",
        "      return False\n",
        "\n",
        "print(list(filter(eh_antiguidade,pinturas)))\n",
        "print(list(map(eh_antiguidade,pinturas)))"
      ],
      "metadata": {
        "colab": {
          "base_uri": "https://localhost:8080/"
        },
        "id": "Fj0UxGbCoLv9",
        "outputId": "bad39e4d-8606-49a8-e840-0a20cf8a0ad9"
      },
      "execution_count": null,
      "outputs": [
        {
          "output_type": "stream",
          "name": "stdout",
          "text": [
            "[['Pintura Classica', 'Azul', 1857], ['Pintura Medieval', 'Vermelha', 1867]]\n",
            "[True, True, False]\n"
          ]
        }
      ]
    },
    {
      "cell_type": "markdown",
      "source": [
        "#####DESAFIO"
      ],
      "metadata": {
        "id": "nutSa3Gerd7N"
      }
    },
    {
      "cell_type": "code",
      "source": [
        "#DESAFIO\n",
        "#Usando a lista abaixo, filtre apenas as vagas com salário acima de R$2500\n",
        "\n",
        "vagas =[\n",
        "    ['vaga1', 1200],\n",
        "    ['vaga2', 2550],\n",
        "    ['vaga3', 5000]\n",
        "]\n",
        "#resolução\n",
        "#1º criar uma função\n",
        "def boa_vaga(salario):\n",
        "  if salario[1]>2500: # indice 1 corresponde ao salário.\n",
        "      return True\n",
        "  else:\n",
        "      return False\n",
        "#2ºpasso chamar a funçao para aplicar na lista\n",
        "print(list(filter(boa_vaga,vagas)))\n",
        "\n"
      ],
      "metadata": {
        "colab": {
          "base_uri": "https://localhost:8080/"
        },
        "id": "cu44GFT7rlJg",
        "outputId": "ec229e03-ae02-4553-d461-9bd179cf1fea"
      },
      "execution_count": null,
      "outputs": [
        {
          "output_type": "stream",
          "name": "stdout",
          "text": [
            "[['vaga2', 2550], ['vaga3', 5000]]\n"
          ]
        }
      ]
    },
    {
      "cell_type": "markdown",
      "source": [
        "####SET\n",
        "\n",
        "Os sets são uma coleção de itens desordenada, parcialmente imutável e que não podem conter elementos duplicados. Por ser parcialmente imutável, os sets possuem permissão de adição e remoção de elementos.\n",
        "\n",
        "Além disso, os sets são utilizados, normalmente, com operações matemáticas de união, interseção e diferença simétrica."
      ],
      "metadata": {
        "id": "sjn1jrsGtYxm"
      }
    },
    {
      "cell_type": "code",
      "source": [
        "#SET\n"
      ],
      "metadata": {
        "id": "MyrR1lKCNcl5"
      },
      "execution_count": null,
      "outputs": []
    },
    {
      "cell_type": "code",
      "source": [
        "numeros = [2,2,5,8]\n",
        "frutas = {'maça','uva','banana', 'maça','morango', 'jaca','tamarindo','banana','pera'}\n",
        "\n",
        "set_numeros=set(numeros)\n",
        "set_frutas=set(frutas)\n",
        "\n",
        "print(set_numeros)\n",
        "print(set_frutas)"
      ],
      "metadata": {
        "colab": {
          "base_uri": "https://localhost:8080/"
        },
        "id": "xaYNesRBNeyw",
        "outputId": "f4db2a2e-4138-4d28-fcbd-4903931dd8f5"
      },
      "execution_count": null,
      "outputs": [
        {
          "output_type": "stream",
          "name": "stdout",
          "text": [
            "{8, 2, 5}\n",
            "{'pera', 'jaca', 'morango', 'uva', 'maça', 'tamarindo', 'banana'}\n"
          ]
        }
      ]
    },
    {
      "cell_type": "code",
      "source": [
        "#ADICIONANDO AO SET\n",
        "numeros = [2,2,5,8,9,7,12,9]\n",
        "frutas = {'maça','uva','banana', 'maça','morango', 'jaca','tamarindo','banana','pera'}\n",
        "\n",
        "set_numeros=set(numeros)\n",
        "set_frutas=set(frutas)\n",
        "\n",
        "set_numeros.add(10)\n",
        "set_frutas.add('tangerina')\n",
        "print(set_numeros)\n",
        "print(set_frutas)"
      ],
      "metadata": {
        "colab": {
          "base_uri": "https://localhost:8080/"
        },
        "id": "SOZi5WaGXTaX",
        "outputId": "35c22929-1140-4ad9-c486-2d104f2ee57f"
      },
      "execution_count": null,
      "outputs": [
        {
          "output_type": "stream",
          "name": "stdout",
          "text": [
            "{2, 5, 7, 8, 9, 10, 12}\n",
            "{'morango', 'pera', 'tamarindo', 'tangerina', 'maça', 'uva', 'jaca', 'banana'}\n"
          ]
        }
      ]
    },
    {
      "cell_type": "code",
      "source": [
        "#Operações com conjuntos de dados.\n",
        "numeros1 = [1,2,5,8,9,7,12,9]\n",
        "numeros2 = [1,3,4,7,13,15,12,16]\n",
        "\n",
        "a = set(numeros1)\n",
        "b = set(numeros2)\n",
        "\n",
        "# elementos que estão apenas em um dos conjuntos;\n",
        "print(a.symmetric_difference(b))\n",
        "# elementos que estão nos dois conjuntos;\n",
        "print(a.intersection(b))\n",
        "#união dos dois conjuntos\n",
        "print(a.union(b))#não aparecerá números repetidos."
      ],
      "metadata": {
        "colab": {
          "base_uri": "https://localhost:8080/"
        },
        "id": "PuHhLE0SZT_I",
        "outputId": "914cf403-bc84-4949-e740-c3788ad1d5a4"
      },
      "execution_count": null,
      "outputs": [
        {
          "output_type": "stream",
          "name": "stdout",
          "text": [
            "{2, 3, 4, 5, 8, 9, 13, 15, 16}\n",
            "{1, 12, 7}\n",
            "{1, 2, 3, 4, 5, 7, 8, 9, 12, 13, 15, 16}\n"
          ]
        }
      ]
    },
    {
      "cell_type": "markdown",
      "source": [
        "##JSON (JavaScript Object Notation)\n",
        "- Muito parecido com um dicionário Python.\n",
        "- Um acrônimo de JavaScript Object Notation, é um formato compacto, de padrão aberto independente, de troca de dados simples e rápida entre sistemas."
      ],
      "metadata": {
        "id": "Wi-LV9kvg2I9"
      }
    },
    {
      "cell_type": "markdown",
      "metadata": {
        "id": "mS1llALCEJyw"
      },
      "source": [
        "##FUNÇÕES\n",
        "\n",
        "Funções são blocos de código que executam funcionalidades específicas."
      ]
    },
    {
      "cell_type": "markdown",
      "source": [
        "Criando a função SOMA\n"
      ],
      "metadata": {
        "id": "NQ4FjjwV3oCf"
      }
    },
    {
      "cell_type": "code",
      "source": [],
      "metadata": {
        "id": "eN_meR1KDzHu"
      },
      "execution_count": null,
      "outputs": []
    },
    {
      "cell_type": "code",
      "source": [
        "# CRIANDO UMA FUNÇÃO SOMA\n",
        "\n",
        "def soma(a,b): # Nomeando a função SOMA e passando 2 parâmetros.\n",
        "    return a + b # execução desejada\n",
        "soma(5,4) # Chamando a função soma com argumentos"
      ],
      "metadata": {
        "colab": {
          "base_uri": "https://localhost:8080/"
        },
        "id": "43x4Ku1vA9my",
        "outputId": "0eacf33f-d525-4556-cde0-3e975d316ec7"
      },
      "execution_count": null,
      "outputs": [
        {
          "output_type": "execute_result",
          "data": {
            "text/plain": [
              "9"
            ]
          },
          "metadata": {},
          "execution_count": 9
        }
      ]
    },
    {
      "cell_type": "markdown",
      "source": [],
      "metadata": {
        "id": "CZc3RpaW3mVW"
      }
    },
    {
      "cell_type": "code",
      "source": [
        "def soma (a,b):\n",
        "  return a + b\n",
        "resultado = soma(2,3)\n",
        "print(resultado) #saída:5"
      ],
      "metadata": {
        "colab": {
          "base_uri": "https://localhost:8080/"
        },
        "id": "UuPVGnEVHIm8",
        "outputId": "040e842c-63bc-4e50-e960-40418169f301"
      },
      "execution_count": null,
      "outputs": [
        {
          "output_type": "stream",
          "name": "stdout",
          "text": [
            "5\n"
          ]
        }
      ]
    },
    {
      "cell_type": "code",
      "source": [
        "def ar_triangulo ():\n",
        "  base = float(input('Digite a base do triângulo: '))\n",
        "  altura = float(input('Digite a altura do tríângulo: '))\n",
        "  return base * altura/2\n",
        "\n",
        "#area_triangulo()\n",
        "\n",
        "print('A área do triângulo é:',ar_triangulo())"
      ],
      "metadata": {
        "colab": {
          "base_uri": "https://localhost:8080/"
        },
        "id": "ZhRZcTJcEylx",
        "outputId": "ff286eac-2e9e-4866-e11b-9ccd2f598631"
      },
      "execution_count": null,
      "outputs": [
        {
          "output_type": "stream",
          "name": "stdout",
          "text": [
            "Digite a base do triângulo: 3\n",
            "Digite a altura do tríângulo: 5\n",
            "A área do triângulo é: 7.5\n"
          ]
        }
      ]
    },
    {
      "cell_type": "code",
      "source": [
        "def boas_vindas():\n",
        "\n",
        "    print('Bem-vindo(a)')\n",
        "\n",
        "def boas_vindas_perso(nome):#definindo a função com parâmetros\n",
        "    nome = input('Digite o seu nome: ')\n",
        "    print(f'Bem-vindo(a) {nome}!') #comandos\n",
        "\n",
        "boas_vindas()#chamando a função\n",
        "\n",
        "boas_vindas_perso('nome') #chamando a função com parâmetro"
      ],
      "metadata": {
        "colab": {
          "base_uri": "https://localhost:8080/"
        },
        "id": "XI_1zYEKzK89",
        "outputId": "e35bd806-ce6e-4ca0-f557-60f69ed223df"
      },
      "execution_count": null,
      "outputs": [
        {
          "output_type": "stream",
          "name": "stdout",
          "text": [
            "Bem-vindo(a)\n",
            "Digite o seu nome: olavo\n",
            "Bem-vindo(a) olavo!\n"
          ]
        }
      ]
    },
    {
      "cell_type": "code",
      "source": [
        "#faça um programa com uma função de 3 argumentos, e que forneça a soma desses 3 argumentos.\n",
        "\n",
        "def soma(a,b,c):\n",
        "  return a+b+c\n",
        "soma(3,4,5) # não mostra, apenas executa.\n",
        "print('O resultado da soma é: ',soma(3,4,5))"
      ],
      "metadata": {
        "colab": {
          "base_uri": "https://localhost:8080/"
        },
        "id": "1DgSvQ2ZHDqi",
        "outputId": "ebfdd0a8-3677-4eb3-9e8c-8aa5f97be1ab"
      },
      "execution_count": null,
      "outputs": [
        {
          "output_type": "stream",
          "name": "stdout",
          "text": [
            "O resultado da soma é:  12\n"
          ]
        }
      ]
    },
    {
      "cell_type": "code",
      "source": [
        "#Criando a função - Creating a Function\n",
        "def my_function():\n",
        "  print(\"Hello from a function\")\n",
        "\n",
        "#chamando a função - Calling a Function\n",
        "my_function()"
      ],
      "metadata": {
        "colab": {
          "base_uri": "https://localhost:8080/"
        },
        "id": "bDmnnlplB_8O",
        "outputId": "3a3f93e5-5ddc-4d06-a84d-31a6a873dcd2"
      },
      "execution_count": null,
      "outputs": [
        {
          "output_type": "stream",
          "name": "stdout",
          "text": [
            "Hello from a function\n"
          ]
        }
      ]
    },
    {
      "cell_type": "code",
      "source": [
        "def my_function(fname): #criando a função com parametro\n",
        "  print(fname + \" Refsnes\")\n",
        "\n",
        "#chamando a função e passando o parametro\n",
        "my_function(\"Emil\") #passando o parametro\n",
        "my_function(\"Tobias\")\n",
        "my_function(\"Linus\")"
      ],
      "metadata": {
        "colab": {
          "base_uri": "https://localhost:8080/"
        },
        "id": "w-YXm1NiC0y6",
        "outputId": "5db29ef7-f301-488f-a83a-08b5d94a0722"
      },
      "execution_count": null,
      "outputs": [
        {
          "output_type": "stream",
          "name": "stdout",
          "text": [
            "Emil Refsnes\n",
            "Tobias Refsnes\n",
            "Linus Refsnes\n"
          ]
        }
      ]
    },
    {
      "cell_type": "code",
      "source": [
        "#Criando a FUNÇÃO Dar boas vindas\n",
        "#def nome_da_funcao(parametros):\n",
        "  #comandos\n",
        "\n",
        "def dar_boas_vindas():#definindo a função\n",
        "    print('Bem-vindo!') #comandos\n",
        "\n",
        "dar_boas_vindas()#chamando a função\n"
      ],
      "metadata": {
        "colab": {
          "base_uri": "https://localhost:8080/"
        },
        "id": "qdVCNOGmvQJs",
        "outputId": "e4ca600f-a2e8-42d2-f5b7-b4f5464950c7"
      },
      "execution_count": null,
      "outputs": [
        {
          "output_type": "stream",
          "name": "stdout",
          "text": [
            "Bem-vindo!\n"
          ]
        }
      ]
    },
    {
      "cell_type": "markdown",
      "source": [
        "####Equação 2º grau(Baskara)"
      ],
      "metadata": {
        "id": "hw6iYYwl47eD"
      }
    },
    {
      "cell_type": "code",
      "source": [
        "a = float(input('Digite um número:  '))\n",
        "b = float(input('Digite outro número: '))\n",
        "c = float(input('Digite o último número: '))\n",
        "\n",
        "def baskara (a,b,c):\n",
        "    print('- - - -RESULTADO - - - - ')\n",
        "    print(f'Os números digitados foram: {a}, {b},{c}')\n",
        "    if a == 0:\n",
        "      print('A função do 2º grau não pode ter a = zero')\n",
        "    else:\n",
        "      delta = b**2 - 4*a*c\n",
        "      #print(f'O valor do delta é: ',{round(delta,2)})\n",
        "      print(f'O valor do delta é: {round(delta,2)}')\n",
        "    #condição criada\n",
        "      if delta ==0:\n",
        "        x = -b/(2*a)\n",
        "        print('Essa equação do 2º grau tem apenas 1 raiz')\n",
        "        print(f'A raiz dessa equaçãoa é{x}')\n",
        "      elif delta>0:\n",
        "        x1 = (- b + delta**0.5)/(2*a)\n",
        "        x2 = (-b - delta**0.5)/(2*a)\n",
        "        print(f'Essa equaçõa tem 2 raízes, x1 = {round(x1,2)} e x2 = {round(x2,2)}')\n",
        "      else:\n",
        "        print('Essa equação não possui soluções reais')"
      ],
      "metadata": {
        "colab": {
          "base_uri": "https://localhost:8080/"
        },
        "id": "13KoBpQI43m6",
        "outputId": "22eaf535-365b-4a81-ea4f-6d17513f87b2"
      },
      "execution_count": null,
      "outputs": [
        {
          "name": "stdout",
          "output_type": "stream",
          "text": [
            "Digite um número:  2\n",
            "Digite outro número: 3\n",
            "Digite o último número: 5\n"
          ]
        }
      ]
    },
    {
      "cell_type": "code",
      "source": [
        "baskara(a = float(input('digite um número:  ')),b = float(input('Digite outro número: ')), c = float(input('Digite o último número: ')))"
      ],
      "metadata": {
        "colab": {
          "base_uri": "https://localhost:8080/"
        },
        "id": "92vXbWn_8ZK-",
        "outputId": "dded3d55-717e-4a66-98ba-ea8715f75445"
      },
      "execution_count": null,
      "outputs": [
        {
          "output_type": "stream",
          "name": "stdout",
          "text": [
            "digite um número:  0\n",
            "Digite outro número: 4\n",
            "Digite o último número: 9\n",
            "- - - -RESULTADO - - - - \n",
            "Os números digitados são: 0.0, 4.0,9.0\n",
            "A função do 2º grau não pode ter a = zero\n"
          ]
        }
      ]
    },
    {
      "cell_type": "markdown",
      "source": [
        "DESAFIO: Crie um função chamada gerar_nome_completo que recebe\n",
        "como parâmetro o nome e o sobrenome\n",
        "de alguém e dá boas vindas para essa pessoa.\n"
      ],
      "metadata": {
        "id": "JVoGT11B66ti"
      }
    },
    {
      "cell_type": "code",
      "source": [
        "def gerar_nome_completo(nome = input('digite o nome: '),sobrenome = input('Digite um sobrenome: ')):\n",
        "    print(f'O nome completo é: {nome} {sobrenome}')\n",
        "gerar_nome_completo()"
      ],
      "metadata": {
        "colab": {
          "base_uri": "https://localhost:8080/"
        },
        "id": "ZB2_kupu64_h",
        "outputId": "9f0b75c8-cf6b-4094-c803-aa96a57c74fa"
      },
      "execution_count": null,
      "outputs": [
        {
          "output_type": "stream",
          "name": "stdout",
          "text": [
            "digite o nome: Marcos\n",
            "Digite um sobrenome: Freire\n",
            "O nome completo é: Marcos Freire\n"
          ]
        }
      ]
    },
    {
      "cell_type": "markdown",
      "source": [
        "DESAFIO:Crie uma função chamada calcular_valores que recebe 2 parametros,\n",
        "o primeiro o preço do produto e o segundo\n",
        "a quantidade do produto, porém a\n",
        "a quantidade deve haver um valor padrão\n",
        "de 1. Sua função deve exibir o resultado\n",
        "do preço do produto, multiplicado a quanditdade escolhida.\n",
        "\n"
      ],
      "metadata": {
        "id": "tQKgcCgI92g5"
      }
    },
    {
      "cell_type": "code",
      "source": [
        "def calcular_valores(preco, quantidade=1):\n",
        "  print(preco*quantidade)\n",
        "\n",
        "calcular_valores(10,2)"
      ],
      "metadata": {
        "colab": {
          "base_uri": "https://localhost:8080/"
        },
        "id": "Wt67ObiDahZH",
        "outputId": "b1e5b05d-8cfd-4d0e-dc3d-f48399934e2a"
      },
      "execution_count": null,
      "outputs": [
        {
          "output_type": "stream",
          "name": "stdout",
          "text": [
            "20\n"
          ]
        }
      ]
    },
    {
      "cell_type": "code",
      "source": [
        "def calcular_valores(preco = int(input('Digite o preço: ')), quantidade = int(input('Digite a quantidade: '))):\n",
        "  print(preco*quantidade)\n",
        "\n",
        "calcular_valores()"
      ],
      "metadata": {
        "colab": {
          "base_uri": "https://localhost:8080/"
        },
        "id": "qKwEZPsZa4NN",
        "outputId": "b7192e14-19cd-47ad-b57a-6c934d928527"
      },
      "execution_count": null,
      "outputs": [
        {
          "output_type": "stream",
          "name": "stdout",
          "text": [
            "Digite o preço: 5\n",
            "Digite a quantidade: 6\n",
            "30\n"
          ]
        }
      ]
    },
    {
      "cell_type": "code",
      "source": [
        "#def calcular_valores (produto = input(\"Digite o nome do produto: \"), preco = (float(input(\"digite o preço do produto: \"))), quantidade = (float(input(\"Digite a quantidade do produto: \")))):\n",
        "  total = preco * quantidade\n",
        "  print (total)\n",
        "  print(f'Valor total: {produto} 'preço', {preco}, 'quantidade', {quantidade}  'total', {total})\n",
        "\n",
        "calcular_valores(produto, preco, quantidade)"
      ],
      "metadata": {
        "colab": {
          "base_uri": "https://localhost:8080/",
          "height": 140
        },
        "id": "RVnjZ9kb-UHd",
        "outputId": "8e8b27c8-2c60-49ba-fabd-b89294d60a96"
      },
      "execution_count": null,
      "outputs": [
        {
          "output_type": "error",
          "ename": "SyntaxError",
          "evalue": "ignored",
          "traceback": [
            "\u001b[0;36m  File \u001b[0;32m\"<ipython-input-8-de478c8c9a1f>\"\u001b[0;36m, line \u001b[0;32m4\u001b[0m\n\u001b[0;31m    print(f'Valor total: ', {produto} 'preço', {preco}, 'quantidade', {quantidade}  'total', {total})\u001b[0m\n\u001b[0m                            ^\u001b[0m\n\u001b[0;31mSyntaxError\u001b[0m\u001b[0;31m:\u001b[0m invalid syntax. Perhaps you forgot a comma?\n"
          ]
        }
      ]
    },
    {
      "cell_type": "markdown",
      "source": [
        "####RETURN\n",
        "PROCESSAR X RETORNAR\n",
        "FUNÇÃO QUE APENAS PROCESSA DADOS\n",
        "- print('Olá!)\n",
        "FUNÇÃO QUE RETORNA DADOS"
      ],
      "metadata": {
        "id": "HSG_L5Y43nTA"
      }
    },
    {
      "cell_type": "code",
      "source": [
        "#PROCESSAR X RETORNAR\n",
        "#FUNÇÃO QUE APENAS PROCESSA DADOS\n",
        "print('Olá!')\n",
        "\n",
        "#FUNÇÃO QUE RETORNA DADOS\n",
        "nome = input ('Qual é o seu nome?')\n",
        "print(nome) #neste caso só usamos neste momento a variável.\n",
        "print('- - - - - - - - ')\n",
        "\n",
        "def exibir_cotacao_do_dia(moeda):\n",
        "  if moeda == 'usd':\n",
        "    print(5.47)\n",
        "exibir_cotacao_do_dia('usd')\n",
        "\n",
        "def obter_cotacao_do_dia(moeda):\n",
        "  if moeda == 'usd':\n",
        "    return 5.47 #Esse resultado será utilizado em outro momento dentro do programa.\n",
        "\n",
        "cotacao = obter_cotacao_do_dia('usd')\n",
        "if cotacao > 5:\n",
        "  print('Investir em ações americanas')\n",
        "else:\n",
        "  print('cotacao não favorável')\n"
      ],
      "metadata": {
        "colab": {
          "base_uri": "https://localhost:8080/"
        },
        "id": "Btxl0Uq_EAqX",
        "outputId": "11434d97-20ac-4b4a-e0dd-6b1a36f15239"
      },
      "execution_count": null,
      "outputs": [
        {
          "output_type": "stream",
          "name": "stdout",
          "text": [
            "Olá!\n",
            "Qual é o seu nome?olavo\n",
            "olavo\n",
            "- - - - - - - - \n",
            "5.47\n",
            "Investir em ações americanas\n"
          ]
        }
      ]
    },
    {
      "cell_type": "markdown",
      "source": [
        "Crie um programa em Python que tenha a função soma(x,y) que recebe dois números e retorna o valor da soma deles.\n",
        "\n",
        "Uma função que recebe dois números e calcula a soma, você já sabe fazer.\n",
        "A única diferença é que vamos dar um return nesse valor da soma,.\n",
        "\n",
        "E se estamos retornando algo, alguma coisa precisa receber esse retorno.\n",
        "Quem vai 'receber' o 'return' será a variável res."
      ],
      "metadata": {
        "id": "Q5ctxygupVUt"
      }
    },
    {
      "cell_type": "code",
      "source": [
        "def soma(x,y):\n",
        "    result = x+y\n",
        "    return result\n",
        "\n",
        "a = int(input(\"Primeiro numero: \"))\n",
        "b = int(input(\"Segundo numero : \"))\n",
        "res = soma(a,b) #variável res recebendo o valor da soma\n",
        "print(\"A soma é: \", res)\n",
        "\n",
        "# A função retorna a soma x+y, armazenada na variável result, ou seja, retorna um número.\n",
        "# Esse número, armazenamos na variável res, depois simplesmente imprimimos essa variável.\n"
      ],
      "metadata": {
        "colab": {
          "base_uri": "https://localhost:8080/"
        },
        "id": "4AtWOt6mpONF",
        "outputId": "e5e3c328-f3a0-4cb7-b44d-433c9717b6ac"
      },
      "execution_count": null,
      "outputs": [
        {
          "output_type": "stream",
          "name": "stdout",
          "text": [
            "Primeiro numero: 8\n",
            "Segundo numero : 3\n",
            "Soma:  11\n"
          ]
        }
      ]
    },
    {
      "cell_type": "code",
      "source": [
        "#Crie um programa em Python que tenha a função soma(x,y) que recebe dois números e retorna o valor da soma deles.\n",
        "#usar direto a função soma(x,y) dentro do print e encurtar ainda mais a função soma():\n",
        "#Usamos return x+y pois, como dissemos, podemos retornar uma expressão diretamente, sem necessitar criar uma variável dentro da função.\n",
        "\n",
        "def soma(x,y):\n",
        "    return (x+y)\n",
        "\n",
        "a = int(input(\"Primeiro numero: \"))\n",
        "b = int(input(\"Segundo numero : \"))\n",
        "print(\"Soma: \", soma(a,b))\n"
      ],
      "metadata": {
        "colab": {
          "base_uri": "https://localhost:8080/"
        },
        "id": "PIac1UA8qwPt",
        "outputId": "1514212c-3fb4-4e10-cb20-dc83cc49cb2f"
      },
      "execution_count": null,
      "outputs": [
        {
          "output_type": "stream",
          "name": "stdout",
          "text": [
            "Primeiro numero: 7\n",
            "Segundo numero : 6\n",
            "Soma:  13\n"
          ]
        }
      ]
    },
    {
      "cell_type": "markdown",
      "source": [
        "RETURN COM STRINGS"
      ],
      "metadata": {
        "id": "xZdc_UTes-7l"
      }
    },
    {
      "cell_type": "code",
      "source": [
        "def cadastro():\n",
        "    name = input(\"Qual seu nome: \")\n",
        "    age   = int(input(\"Idade: \") )\n",
        "\n",
        "    return name, age\n",
        "\n",
        "print(\"Iniciando cadastro...\")\n",
        "nome, idade = cadastro()\n",
        "\n",
        "print(\"Cadastro realizado com sucesso:\")\n",
        "print(\"Seu nome é\", nome, \"e você tem\", idade,\"anos de idade.\")\n"
      ],
      "metadata": {
        "colab": {
          "base_uri": "https://localhost:8080/"
        },
        "id": "R6Ymr6hStClp",
        "outputId": "85bdb2e8-b9ca-454d-f2d2-f621d5f9ead9"
      },
      "execution_count": null,
      "outputs": [
        {
          "output_type": "stream",
          "name": "stdout",
          "text": [
            "Iniciando cadastro...\n",
            "Qual seu nome: JOÃO\n",
            "Idade: 45\n",
            "Cadastro realizado com sucesso:\n",
            "Seu nome é JOÃO e você tem 45 anos de idade.\n"
          ]
        }
      ]
    },
    {
      "cell_type": "markdown",
      "source": [
        "####Argumentos x Parâmetros\n",
        "\n",
        "Você pode usar quantos parâmetros quiser: um, dois, três...basta especificar na definição da função, o número de parâmetros que ela vai receber.\n",
        "\n",
        "E para invocar, chamar essa função, você deve fazer:\n",
        "nome_da_funcao(argumento1, argumento2, argumento3,...)\n",
        "\n",
        "Ou seja, se a função foi declarada como tendo 'x' parâmetros, devemos passar 'x' informações, ou seja, 'x' argumentos ao invocar a função."
      ],
      "metadata": {
        "id": "8veUPm1-TryN"
      }
    },
    {
      "cell_type": "code",
      "source": [
        "#Quando criamos a funcao passamos parâmtros\n",
        "#def nome_da_funcao(parametro1, parametro2, parametro3,...)\n",
        "    código da função\n",
        "    código da função\n",
        "#Quando chamamos a função\n",
        " nome_da_funcao(argumento 1,argumento 2,argumento 3) #aqui passamos os argumentos"
      ],
      "metadata": {
        "id": "HH6wwpysT45n"
      },
      "execution_count": null,
      "outputs": []
    },
    {
      "cell_type": "code",
      "source": [
        "#A função seguinte recebe um parâmetro, vamos chamar ele de x, em seguida mostra o dobro desse valor:\n",
        "\n",
        "def dobro(x): #aqui passamos parâmetros\n",
        "    dobro = 2*x\n",
        "    print('O dobro de ', x ,'é = ',dobro)\n",
        "\n",
        "#Chamando a função com o argumento.\n",
        "dobro(3)\n",
        "\n",
        "#Para invocar essa função, precisamos fornecer um valor, por exemplo:dobro(1)\n",
        "\n",
        "#Iremos ver a mensagem na tela: Dobro = 2\n",
        "#Neste caso, x é um parâmetro, pois está definido na função.\n",
        "#Já o valor 1 que passamos, é o argumento."
      ],
      "metadata": {
        "colab": {
          "base_uri": "https://localhost:8080/"
        },
        "id": "ucL2nqkNVSSS",
        "outputId": "eba68945-4618-4c9c-a85c-69809770450b"
      },
      "execution_count": null,
      "outputs": [
        {
          "output_type": "stream",
          "name": "stdout",
          "text": [
            "O dobro de  3 é =  6\n"
          ]
        }
      ]
    },
    {
      "cell_type": "markdown",
      "source": [
        "###Argumentos posicionais x Argumentos nomeados"
      ],
      "metadata": {
        "id": "Kis-dyAqubRu"
      }
    },
    {
      "cell_type": "code",
      "source": [
        "def exibir_preco(nome_produto, preco):\n",
        "  print(f'{nome_produto} está no valor de: {preco}')\n",
        "\n",
        "#ARGUMENTOS POSICIONAIS, a ordem interfere na resposta, primeiro o nome do produto e em seguida o preço do produto.\n",
        "exibir_preco('Iphone',5000)\n",
        "\n",
        "#ARGUMENTOS NOMEADOS, não importa em que posição apareça\n",
        "exibir_preco(preco=8000,nome_produto='SAMSUNG A22')\n",
        "exibir_preco(nome_produto='SAMSUNG A22',preco=12000 )\n"
      ],
      "metadata": {
        "colab": {
          "base_uri": "https://localhost:8080/"
        },
        "id": "RVJ3pcH_ukMI",
        "outputId": "bfc5d76c-508f-42ec-da57-20f68547b9b6"
      },
      "execution_count": null,
      "outputs": [
        {
          "output_type": "stream",
          "name": "stdout",
          "text": [
            "Iphone está no valor de: 5000\n",
            "SAMSUNG A22 está no valor de: 8000\n",
            "SAMSUNG A22 está no valor de: 9000\n"
          ]
        }
      ]
    },
    {
      "cell_type": "markdown",
      "source": [
        "####Obrigando o uso do argumento nomeado na sua função.\n",
        "basta usar o asterisco antes do argumento que deseja obrigar o uso de nomeado."
      ],
      "metadata": {
        "id": "_mbFYYyjY_WX"
      }
    },
    {
      "cell_type": "code",
      "source": [
        "def exibir_preco(*,nome_produto, preco):# tudo que vier APÓS o asterisco obriga o uso do argumento nomeado.\n",
        "  print(f'{nome_produto} está no valor de: {preco}')\n",
        "\n",
        "exibir_preco(nome_produto='Iphone',preco=5000)"
      ],
      "metadata": {
        "colab": {
          "base_uri": "https://localhost:8080/"
        },
        "id": "3bC6lCCZZatD",
        "outputId": "e802195e-0a41-49e6-fb64-ceae6a613c9c"
      },
      "execution_count": null,
      "outputs": [
        {
          "output_type": "stream",
          "name": "stdout",
          "text": [
            "Iphone está no valor de: 5000\n"
          ]
        }
      ]
    },
    {
      "cell_type": "markdown",
      "source": [
        "####Desafio Argumentos\n",
        "Crie uma fução chamado gerar_objeto_personalizado que irá receber 3 parâmetros, cor, altura, formato. A sua função deve apenas imprimir na tela o que foi passado para ela, nada mais, nada menos. Porém ela deve seguir as seguintes regras:\n",
        "1 - O primeiro argumento deve ser posicional\n",
        "2 - Os argumentos altura e formato precisam OBRIGATORIAMENTE serem nomeados.\n"
      ],
      "metadata": {
        "id": "jq9h-GSXarSw"
      }
    },
    {
      "cell_type": "code",
      "source": [
        "def gerar_objeto_personalizado(cor,*,altura,formato):\n",
        "    print(f\"O objeto tem, cor= {cor}, altura= {altura}e formato= {formato}\")\n",
        "gerar_objeto_personalizado('green',altura=2.10,formato='quadrado')\n",
        "\n"
      ],
      "metadata": {
        "colab": {
          "base_uri": "https://localhost:8080/"
        },
        "id": "lTks7HMbbd3R",
        "outputId": "b89a8e4a-f153-4ea4-9bc5-90e471b15270"
      },
      "execution_count": null,
      "outputs": [
        {
          "output_type": "stream",
          "name": "stdout",
          "text": [
            "O objeto tem, cor= green, altura= baixoe formato= quadrado\n"
          ]
        }
      ]
    },
    {
      "cell_type": "markdown",
      "source": [
        "###Argumentos dinâmicos (*args)\n",
        "Sempre que você precisar receber uma quantidade variável de valores devemos iniciar com o asterisco args. indica que receberemos uma quantidade variável de parâmetros, na forma de tupla."
      ],
      "metadata": {
        "id": "7gIozXPhegXy"
      }
    },
    {
      "cell_type": "code",
      "source": [
        "def somar(*valores,b):\n",
        "    print(valores)\n",
        "    print(\"Tamannho da tupla\",len(valores))\n",
        "    for valor in valores:\n",
        "        b+= valor\n",
        "    print(b)\n",
        "somar(10,20,5,7, b=5)"
      ],
      "metadata": {
        "colab": {
          "base_uri": "https://localhost:8080/"
        },
        "id": "6z4U6SfrSpL4",
        "outputId": "bdef21de-9d8a-47b4-b11f-66797cddf73d"
      },
      "execution_count": null,
      "outputs": [
        {
          "output_type": "stream",
          "name": "stdout",
          "text": [
            "(10, 20, 5, 7)\n",
            "Tamannho da tupla 4\n",
            "47\n"
          ]
        }
      ]
    },
    {
      "cell_type": "markdown",
      "source": [
        "#### Decorators\n",
        "Um decorator é uma função (ou outro objeto chamável) que recebe uma função como parâmetro e retorna uma função. Essa nova função que é retornada pelo decorator é que fica associada ao nome da função original."
      ],
      "metadata": {
        "id": "mO6v6wADdGH_"
      }
    },
    {
      "cell_type": "markdown",
      "metadata": {
        "id": "9nexZ14yEACL"
      },
      "source": [
        "##COLEÇÕES"
      ]
    },
    {
      "cell_type": "markdown",
      "source": [
        "##ORIENTAÇÕES DE OBJETOS\n"
      ],
      "metadata": {
        "id": "qXahzB7Lwi4n"
      }
    },
    {
      "cell_type": "markdown",
      "source": [
        "##Estruturas de dados"
      ],
      "metadata": {
        "id": "8Nn9B5iijWC2"
      }
    },
    {
      "cell_type": "markdown",
      "metadata": {
        "id": "OkTFlzd9EGGK"
      },
      "source": [
        "##CLASSES"
      ]
    },
    {
      "cell_type": "markdown",
      "source": [
        "Código solto"
      ],
      "metadata": {
        "id": "rIG9cDRmRqqb"
      }
    },
    {
      "cell_type": "code",
      "source": [
        "# Código Solto\n",
        "marca = input(\"Digite a marca do seu computador: \")\n",
        "memoria = input(\"Digite a quantidade de memória ram: \")\n",
        "placa = input(\"Digite o nome da placa de vide:\")\n",
        "\n",
        "print(f'Seu computador é da marca: {marca}')\n",
        "print(f'Seu computador possui{memoria} de memória')\n",
        "print(f'Seu computador possui uma placa de video:{placa}')"
      ],
      "metadata": {
        "colab": {
          "base_uri": "https://localhost:8080/"
        },
        "id": "zi_MQhfHQ5ve",
        "outputId": "bca904aa-4dde-4ba5-870e-c75373705689"
      },
      "execution_count": null,
      "outputs": [
        {
          "output_type": "stream",
          "name": "stdout",
          "text": [
            "Digite a marca do seu computador: dell\n",
            "Digite a quantidade de memória ram: 16\n",
            "Digite o nome da placa de vide:sata\n",
            "Seu computador é da marca: dell\n",
            "Seu computador possui16 de memória\n",
            "Seu computador possui uma placa de video:sata\n"
          ]
        }
      ]
    },
    {
      "cell_type": "code",
      "source": [
        "#Criando a função\n",
        "def exibir_informacoes_do_computador():\n",
        "  marca = input(\"Digite a marca do seu computador: \")\n",
        "  memoria = input(\"Digite a quantidade de memória ram: \")\n",
        "  placa = input(\"Digite o nome da placa de vide:\")\n",
        "\n",
        "  print('x-x-x-x-x-x-x-x-x-x-x-x-x')\n",
        "  print(f'Seu computador é da marca: {marca}')\n",
        "  print(f'Seu computador possui {memoria} de memória')\n",
        "  print(f'Seu computador possui uma placa de video: {placa}')\n",
        "\n",
        "#Chamando a função\n",
        "exibir_informacoes_do_computador()"
      ],
      "metadata": {
        "colab": {
          "base_uri": "https://localhost:8080/"
        },
        "id": "9kV2lkVSSTgp",
        "outputId": "f9808292-a948-4618-a017-48470f68b251"
      },
      "execution_count": null,
      "outputs": [
        {
          "output_type": "stream",
          "name": "stdout",
          "text": [
            "Digite a marca do seu computador: rte\n",
            "Digite a quantidade de memória ram: hj\n",
            "Digite o nome da placa de vide:yui\n",
            "x-x-x-x-x-x-x-x-x-x-x-x-x\n",
            "Seu computador é da marca: rte\n",
            "Seu computador possui hj de memória\n",
            "Seu computador possui uma placa de video: yui\n"
          ]
        }
      ]
    },
    {
      "cell_type": "markdown",
      "source": [
        "####Métodos de uma classe"
      ],
      "metadata": {
        "id": "TKeSW0cL2qhk"
      }
    },
    {
      "cell_type": "code",
      "source": [
        "#Métodos de uma classe - Ligar, desligar, exibir dados do computador.\n",
        "\n",
        "class Computador:\n",
        "    def __init__(self,marca, memoria_ram,placa_de_video):\n",
        "        self.marca = marca                      #variáveis da instância (instancia de variáveis) a única maneira de acessar esses valores é através da instãncia de uma classe\n",
        "        self.memoria_ram = memoria_ram          #variáveis da instância (instancia de variáveis)\n",
        "        self.placa_de_video = placa_de_video    #variáveis da instância (instancia de variáveis)\n",
        "    def ligar(self):\n",
        "        print('Estou ligando o computador')\n",
        "    def desligar(self):\n",
        "        print('Estou desligando o computador')\n",
        "    def exibir_dados_do_computador(self):\n",
        "        print(f'Computador da marca {self.marca}, com {self.memoria_ram} de memória ram e que usa a placa de video {self.placa_de_video}')\n",
        "\n",
        "computador1 = Computador('Asus','32gb','Nvideo')\n",
        "computador1.ligar()\n",
        "computador1.desligar()\n",
        "computador1.exibir_dados_do_computador()\n"
      ],
      "metadata": {
        "colab": {
          "base_uri": "https://localhost:8080/"
        },
        "id": "lebony1k2k3u",
        "outputId": "56920c7b-25f5-42a4-e9f0-1bc77921d06f"
      },
      "execution_count": null,
      "outputs": [
        {
          "output_type": "stream",
          "name": "stdout",
          "text": [
            "Estou ligando o computador\n",
            "Estou desligando o computador\n",
            "Computador da marca Asus, com 32gb de memória ram e que usa a placa de video Nvideo\n"
          ]
        }
      ]
    },
    {
      "cell_type": "markdown",
      "source": [
        "Variáveis de classe -\n",
        "é usada para uma variável que raramente é trocada.\n",
        "é criada antes do __init__"
      ],
      "metadata": {
        "id": "e578RX8cGezs"
      }
    },
    {
      "cell_type": "code",
      "source": [
        "#VARIÁVEIS DE UMA CLASSE\n",
        "class Computador:\n",
        "    sistema_operacional = 'Windows 10' #Essa é a variável de classe\n",
        "\n",
        "    def __init__(self,marca, memoria_ram,placa_de_video):\n",
        "        self.marca = marca                      #variáveis da instância (instancia de variáveis) a única maneira de acessar esses valores é através da instãncia de uma classe\n",
        "        self.memoria_ram = memoria_ram          #variáveis da instância (instancia de variáveis)\n",
        "        self.placa_de_video = placa_de_video    #variáveis da instância (instancia de variáveis)\n",
        "    def ligar(self):\n",
        "        print('Estou ligando o computador')\n",
        "    def exibir_dados_do_computador(self):\n",
        "        print('- - - - DADOS DO COMPUTADOR - - - - - ')\n",
        "        print(f'Computador da marca {self.marca}, com {self.memoria_ram} de memória ram e que usa a placa de video {self.placa_de_video}')\n",
        "\n",
        "\n",
        "computador1 = Computador('DELL','32gb','Nvideo')\n",
        "computador1.exibir_dados_do_computador()\n",
        "\n",
        "#ACESSANDO E MODIFICCANDO A INSTÂNCIA DE UMA CLASSE\n",
        "computador1.marca = 'ASUS'\n",
        "computador1.exibir_dados_do_computador()\n",
        "\n",
        "\n"
      ],
      "metadata": {
        "colab": {
          "base_uri": "https://localhost:8080/"
        },
        "id": "G5gNCcWwFpgR",
        "outputId": "033544c0-0145-4327-a417-c30c154a662c"
      },
      "execution_count": null,
      "outputs": [
        {
          "output_type": "stream",
          "name": "stdout",
          "text": [
            "- - - - DADOS DO COMPUTADOR - - - - - \n",
            "Computador da marca DELL, com 32gb de memória ram e que usa a placa de video Nvideo\n",
            "- - - - DADOS DO COMPUTADOR - - - - - \n",
            "Computador da marca ASUS, com 32gb de memória ram e que usa a placa de video Nvideo\n"
          ]
        }
      ]
    },
    {
      "cell_type": "code",
      "source": [
        "#VARIÁVEIS DE UMA CLASSE\n",
        "class Computador:\n",
        "    sistema_operacional = 'Windows 10' #Essa é a variável de classe\n",
        "\n",
        "    def __init__(self,marca, memoria_ram,placa_de_video):\n",
        "        self.marca = marca                      #variáveis da instância (instancia de variáveis) a única maneira de acessar esses valores é através da instãncia de uma classe\n",
        "        self.memoria_ram = memoria_ram          #variáveis da instância (instancia de variáveis)\n",
        "        self.placa_de_video = placa_de_video    #variáveis da instância (instancia de variáveis)\n",
        "\n",
        "    def ligar(self):\n",
        "        print('Estou ligando o computador')\n",
        "\n",
        "    def exibir_dados_do_computador(self):\n",
        "        print('- - - - DADOS DO COMPUTADOR - - - - - ')\n",
        "        print(f'Sistema Operacional {Computador.sistema_operacional}')\n",
        "        #print(Computador.sistema_operacional)\n",
        "        print(f'Computador da marca {self.marca}, com {self.memoria_ram} de memória ram e que usa a placa de video {self.placa_de_video}')\n",
        "\n",
        "#ACESSANO E MOSTRANDO A VARIÁVEL DE CLASSE (SISTEMA OPERACIONAL)\n",
        "print(f'Sistema Operacional {Computador.sistema_operacional}')\n",
        "computador1 = Computador('DELL','32gb','Nvideo')\n",
        "computador1.exibir_dados_do_computador()\n",
        "\n",
        "#ACESSANDO E MODIFICCANDO A variável de classe (sistema operacional)\n",
        "Computador.sistema_operacional = 'MAC'\n",
        "computador2 = Computador ('ACE', '64GB','NVIDEO')\n",
        "computador2.exibir_dados_do_computador()\n"
      ],
      "metadata": {
        "colab": {
          "base_uri": "https://localhost:8080/"
        },
        "id": "LQC4Xj7iJ2s6",
        "outputId": "afd2a04c-8197-4928-8a05-7f4f44662024"
      },
      "execution_count": null,
      "outputs": [
        {
          "output_type": "stream",
          "name": "stdout",
          "text": [
            "Sistema Operacional Windows 10\n",
            "- - - - DADOS DO COMPUTADOR - - - - - \n",
            "Sistema Operacional Windows 10\n",
            "Computador da marca DELL, com 32gb de memória ram e que usa a placa de video Nvideo\n",
            "- - - - DADOS DO COMPUTADOR - - - - - \n",
            "Sistema Operacional MAC\n",
            "Computador da marca ACE, com 64GB de memória ram e que usa a placa de video NVIDEO\n"
          ]
        }
      ]
    },
    {
      "cell_type": "markdown",
      "source": [
        "#### Metodos de classe (Class methods)\n",
        "Métodos comuns (acessa as propriedades da instância com o self.\n",
        "Metodos estáticos (Static Methods)"
      ],
      "metadata": {
        "id": "7yUZgdNrTM_b"
      }
    },
    {
      "cell_type": "code",
      "source": [
        "\n",
        "class Computador:\n",
        "    sistema_operacional = 'Windows 10' #Essa é a variável de classe\n",
        "\n",
        "    def __init__(self,marca, memoria_ram,placa_de_video):\n",
        "        self.marca = marca                      #variáveis da instância (instancia de variáveis) a única maneira de acessar esses valores é através da instãncia de uma classe\n",
        "        self.memoria_ram = memoria_ram          #variáveis da instância (instancia de variáveis)\n",
        "        self.placa_de_video = placa_de_video    #variáveis da instância (instancia de variáveis)\n",
        "\n",
        "    def exibir_dados_do_computador(self):\n",
        "        #print('- - - - DADOS DO COMPUTADOR - - - - - ')\n",
        "        print(f'Sistema Operacional {Computador.sistema_operacional}')\n",
        "        #print(Computador.sistema_operacional)\n",
        "        print(f'Computador da marca {self.marca}, com {self.memoria_ram} de memória ram e que usa a placa de video {self.placa_de_video}')\n",
        "\n",
        "\n",
        "    @classmethod\n",
        "    def computador_escritorio(cls, memoria_ram):\n",
        "        return cls('DELL', memoria_ram, 'Placa de video - BAIXO CUSTO')\n",
        "\n",
        "    @classmethod\n",
        "    def computador_Hightec(cls,memoria_ram):\n",
        "      return cls('DELL', memoria_ram, 'Placa de video - ALTO DESEMPENHO')\n",
        "\n",
        "#CONFIGURAÇÃO P/CLIENTES DE ESCRITÓRIO.\n",
        "computador1 = Computador.computador_escritorio('8gb')\n",
        "#CONFIGURAÇÃO P/CLIENTES DE USO INTENSO(JOGOS, 3D, VIDEOS)\n",
        "computador2 = Computador.computador_Hightec('64gb')\n",
        "print('- - - - DADOS DO COMPUTADOR - - - -')\n",
        "computador1.exibir_dados_do_computador()\n",
        "print('- - - - ')\n",
        "print('- - - - DADOS DO COMPUTADOR - - - -')\n",
        "computador2.exibir_dados_do_computador()\n",
        "\n",
        "\n"
      ],
      "metadata": {
        "colab": {
          "base_uri": "https://localhost:8080/"
        },
        "id": "e82A7LoNUwrG",
        "outputId": "0da7485a-e6e2-4fb8-cc4f-7fc92190bc5a"
      },
      "execution_count": null,
      "outputs": [
        {
          "output_type": "stream",
          "name": "stdout",
          "text": [
            "- - - - DADOS DO COMPUTADOR - - - -\n",
            "Sistema Operacional Windows 10\n",
            "Computador da marca DELL, com 8gb de memória ram e que usa a placa de video Placa de video - BAIXO CUSTO\n",
            "- - - - \n",
            "- - - - DADOS DO COMPUTADOR - - - -\n",
            "Sistema Operacional Windows 10\n",
            "Computador da marca DELL, com 64gb de memória ram e que usa a placa de video Placa de video - ALTO DESEMPENHO\n"
          ]
        }
      ]
    },
    {
      "cell_type": "markdown",
      "source": [
        "#### METODOS ESTÁTICOS -\n",
        "\n",
        "Os métodos estáticos são úteis ao criar métodos utilitários que executam uma tarefa isoladamente, pois não precisam acessar ou modificar as propriedades de uma classe; ele só funciona com os dados passados ​​nos argumentos. Em resumo, podemos criar um método estático usando o decorador @staticmethod ou a função staticmethod ().\n",
        "\n",
        "@staticmethod\n"
      ],
      "metadata": {
        "id": "OwAplsqhle3C"
      }
    },
    {
      "cell_type": "code",
      "source": [
        "class Computador:\n",
        "    sistema_operacional = 'Windows 10' #Essa é a variável de classe\n",
        "\n",
        "    def __init__(self,marca, memoria_ram,placa_de_video):\n",
        "        self.marca = marca                      #variáveis da instância (instancia de variáveis) a única maneira de acessar esses valores é através da instãncia de uma classe\n",
        "        self.memoria_ram = memoria_ram          #variáveis da instância (instancia de variáveis)\n",
        "        self.placa_de_video = placa_de_video    #variáveis da instância (instancia de variáveis)\n",
        "\n",
        "    def exibir_dados_do_computador(self):\n",
        "        #print('- - - - DADOS DO COMPUTADOR - - - - - ')\n",
        "        print(f'Sistema Operacional {Computador.sistema_operacional}')\n",
        "        #print(Computador.sistema_operacional)\n",
        "        print(f'Computador da marca {self.marca}, com {self.memoria_ram} de memória ram e que usa a placa de video {self.placa_de_video}')\n",
        "\n",
        "    @classmethod\n",
        "    def computador_escritorio(cls, memoria_ram):\n",
        "        return cls('DELL', memoria_ram, 'Placa de video - BAIXO CUSTO')\n",
        "\n",
        "    @classmethod\n",
        "    def computador_Hightec(cls,memoria_ram):\n",
        "      return cls('DELL', memoria_ram, 'Placa de video - ALTO DESEMPENHO')\n",
        "\n",
        "    @staticmethod\n",
        "    def roda_programas_pesados(memoria_ram):\n",
        "        if memoria_ram >=8:\n",
        "            return True\n",
        "        else:\n",
        "            return False\n",
        "\n",
        "print(Computador.roda_programas_pesados(10))"
      ],
      "metadata": {
        "colab": {
          "base_uri": "https://localhost:8080/"
        },
        "id": "ewJeQ5icYD_J",
        "outputId": "f7addd23-3435-4368-a101-86e566d59d67"
      },
      "execution_count": null,
      "outputs": [
        {
          "output_type": "stream",
          "name": "stdout",
          "text": [
            "True\n"
          ]
        }
      ]
    },
    {
      "cell_type": "code",
      "source": [
        "class Animal:  # criação da classe animal\n",
        "    def __init__(self, nome):  # atributo nome\n",
        "        self.nome = nome\n",
        "        #self._nome = nome   # protege o nome com underline, sendo acess\n",
        "        #self.__nome = nome  # privado o nome, sendo acessado apenas pela classe principal.\n",
        "\n",
        "    def fazer_som(self):\n",
        "        pass\n",
        "\n",
        "class Cachorro(Animal):\n",
        "    def fazer_som(self):  # método (verbo) ação\n",
        "        print(f'{self.nome} diz: Au au!')\n",
        "\n",
        "\n",
        "class Gato(Animal):\n",
        "    def fazer_som(self):\n",
        "        print(f'{self.nome} diz: miau')\n",
        "\n",
        "\n",
        "cachorro1 = Cachorro('Rex')\n",
        "cachorro1.fazer_som()\n",
        "\n",
        "gato1 = Gato('Tom')\n",
        "gato1.fazer_som()\n"
      ],
      "metadata": {
        "id": "1nKrq6Lm03Z6",
        "colab": {
          "base_uri": "https://localhost:8080/"
        },
        "outputId": "28e5324e-cf09-46c6-f47d-5b9f0d324386"
      },
      "execution_count": null,
      "outputs": [
        {
          "output_type": "stream",
          "name": "stdout",
          "text": [
            "Rex diz: Au au!\n",
            "Tom diz: miau\n"
          ]
        }
      ]
    },
    {
      "cell_type": "markdown",
      "metadata": {
        "id": "oRlTISy8DPF1"
      },
      "source": [
        "#### HERANÇA DE CLASSE"
      ]
    },
    {
      "cell_type": "code",
      "execution_count": null,
      "metadata": {
        "id": "amxRsB7Yap8l"
      },
      "outputs": [],
      "source": [
        "#HERANÇA\n",
        "class Camara:\n",
        "    def __init__(self,marca,megapixels):\n",
        "        self.marca = marca\n",
        "        self.megapixels = megapixels\n",
        "    def tirar_foto(self):\n",
        "        print(f'foto tirada com a camera{self.marca} com a qualidade de {self.megapixels} megapixels')\n",
        "\n",
        "#herança\n",
        "class CameraCelular(Camera): # class novaclasse herda (classe mae)\n",
        "    def __init__(self,marca, megapixels, quantidade_de_cameras)\n",
        "    super().__init__(marca, megapixels)\n",
        "    self.quanitdade_de_cameras = quantidade_de_cameras\n",
        "\n",
        "    def aplicar_filtro(self,filtro):\n",
        "        print(f'Aplicando filtro(filtro)')"
      ]
    },
    {
      "cell_type": "markdown",
      "source": [
        "Importando bibliotecas"
      ],
      "metadata": {
        "id": "bBnKrUcJRJK2"
      }
    },
    {
      "cell_type": "code",
      "source": [
        "from time import sleep\n",
        "a = 'Um texto qualquer'\n",
        "print(a.upper())\n",
        "sleep(10)# tempo em segundos\n",
        "print(a.lower())\n",
        "\n",
        "\n"
      ],
      "metadata": {
        "id": "dn-eA37BRSIv"
      },
      "execution_count": null,
      "outputs": []
    },
    {
      "cell_type": "markdown",
      "source": [
        "#JSON"
      ],
      "metadata": {
        "id": "sXZ5DmZtKLev"
      }
    },
    {
      "cell_type": "code",
      "source": [
        "import json\n",
        "#criar ou ler JSON existente.\n"
      ],
      "metadata": {
        "id": "7l_IRG05LAwr"
      },
      "execution_count": null,
      "outputs": []
    }
  ],
  "metadata": {
    "colab": {
      "provenance": [],
      "toc_visible": true,
      "authorship_tag": "ABX9TyNzvgQMw4bms+e+1rLPJdvv",
      "include_colab_link": true
    },
    "kernelspec": {
      "display_name": "Python 3",
      "name": "python3"
    },
    "language_info": {
      "name": "python"
    }
  },
  "nbformat": 4,
  "nbformat_minor": 0
}